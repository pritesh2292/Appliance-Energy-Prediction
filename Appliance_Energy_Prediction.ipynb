{
  "nbformat": 4,
  "nbformat_minor": 0,
  "metadata": {
    "colab": {
      "provenance": [],
      "authorship_tag": "ABX9TyNThp3KDkJ80LEAGdAfozl7",
      "include_colab_link": true
    },
    "kernelspec": {
      "name": "python3",
      "display_name": "Python 3"
    },
    "language_info": {
      "name": "python"
    }
  },
  "cells": [
    {
      "cell_type": "markdown",
      "metadata": {
        "id": "view-in-github",
        "colab_type": "text"
      },
      "source": [
        "<a href=\"https://colab.research.google.com/github/pritesh2292/Appliance-Energy-Prediction/blob/main/Appliance_Energy_Prediction.ipynb\" target=\"_parent\"><img src=\"https://colab.research.google.com/assets/colab-badge.svg\" alt=\"Open In Colab\"/></a>"
      ]
    },
    {
      "cell_type": "markdown",
      "source": [
        "# Import libraries"
      ],
      "metadata": {
        "id": "4oxLam3LxJc0"
      }
    },
    {
      "cell_type": "code",
      "execution_count": 1,
      "metadata": {
        "colab": {
          "base_uri": "https://localhost:8080/",
          "height": 17
        },
        "id": "RxPbZP55w8Ey",
        "outputId": "d71ac035-3924-402f-c641-528327435b60"
      },
      "outputs": [
        {
          "output_type": "display_data",
          "data": {
            "text/html": [
              "        <script type=\"text/javascript\">\n",
              "        window.PlotlyConfig = {MathJaxConfig: 'local'};\n",
              "        if (window.MathJax) {MathJax.Hub.Config({SVG: {font: \"STIX-Web\"}});}\n",
              "        if (typeof require !== 'undefined') {\n",
              "        require.undef(\"plotly\");\n",
              "        requirejs.config({\n",
              "            paths: {\n",
              "                'plotly': ['https://cdn.plot.ly/plotly-2.8.3.min']\n",
              "            }\n",
              "        });\n",
              "        require(['plotly'], function(Plotly) {\n",
              "            window._Plotly = Plotly;\n",
              "        });\n",
              "        }\n",
              "        </script>\n",
              "        "
            ]
          },
          "metadata": {}
        }
      ],
      "source": [
        "import numpy as np\n",
        "import pandas as pd\n",
        "import matplotlib.pyplot as plt\n",
        "import seaborn as sns\n",
        "%matplotlib inline\n",
        "\n",
        "from sklearn.model_selection import train_test_split\n",
        "from sklearn.preprocessing import OneHotEncoder\n",
        "from sklearn.model_selection import GridSearchCV\n",
        "from sklearn.model_selection import RandomizedSearchCV\n",
        "from sklearn.linear_model import LinearRegression\n",
        "from sklearn.linear_model import Ridge\n",
        "from sklearn.linear_model import Lasso\n",
        "from sklearn.preprocessing import PolynomialFeatures\n",
        "from sklearn.linear_model import LogisticRegression\n",
        "from sklearn.tree import DecisionTreeRegressor\n",
        "from sklearn.preprocessing import StandardScaler\n",
        "from sklearn.model_selection import cross_val_score\n",
        "from sklearn import preprocessing, model_selection, metrics\n",
        "from sklearn import datasets, linear_model, metrics\n",
        "from sklearn import ensemble\n",
        "\n",
        "import plotly.graph_objs as go\n",
        "import plotly.figure_factory as ff\n",
        "from plotly.offline import init_notebook_mode, iplot\n",
        "init_notebook_mode(connected=True)\n",
        "import plotly.graph_objs as go\n",
        "import warnings\n",
        "warnings.filterwarnings('ignore')"
      ]
    },
    {
      "cell_type": "markdown",
      "source": [
        "# mount the drive"
      ],
      "metadata": {
        "id": "lEulhs_JxZ1j"
      }
    },
    {
      "cell_type": "code",
      "source": [
        "from google.colab import drive\n",
        "drive.mount('/content/drive')"
      ],
      "metadata": {
        "colab": {
          "base_uri": "https://localhost:8080/"
        },
        "id": "KMkiRLh5xWuL",
        "outputId": "0920e7bc-c370-4380-c4c7-e36aff967dec"
      },
      "execution_count": 2,
      "outputs": [
        {
          "output_type": "stream",
          "name": "stdout",
          "text": [
            "Mounted at /content/drive\n"
          ]
        }
      ]
    },
    {
      "cell_type": "code",
      "source": [
        "path = \"/content/drive/MyDrive/data_application_energy.csv\"\n",
        "df = pd.read_csv(path, parse_dates=['date'])"
      ],
      "metadata": {
        "id": "XBBSF1ZMxnJl"
      },
      "execution_count": 3,
      "outputs": []
    },
    {
      "cell_type": "code",
      "source": [
        "df"
      ],
      "metadata": {
        "colab": {
          "base_uri": "https://localhost:8080/",
          "height": 835
        },
        "id": "OgnGkEG5x0hY",
        "outputId": "fa590ab2-5425-4aba-a245-646fb6b40cf2"
      },
      "execution_count": 4,
      "outputs": [
        {
          "output_type": "execute_result",
          "data": {
            "text/plain": [
              "                     date  Appliances  lights         T1       RH_1  \\\n",
              "0     2016-01-11 17:00:00          60      30  19.890000  47.596667   \n",
              "1     2016-01-11 17:10:00          60      30  19.890000  46.693333   \n",
              "2     2016-01-11 17:20:00          50      30  19.890000  46.300000   \n",
              "3     2016-01-11 17:30:00          50      40  19.890000  46.066667   \n",
              "4     2016-01-11 17:40:00          60      40  19.890000  46.333333   \n",
              "...                   ...         ...     ...        ...        ...   \n",
              "19730 2016-05-27 17:20:00         100       0  25.566667  46.560000   \n",
              "19731 2016-05-27 17:30:00          90       0  25.500000  46.500000   \n",
              "19732 2016-05-27 17:40:00         270      10  25.500000  46.596667   \n",
              "19733 2016-05-27 17:50:00         420      10  25.500000  46.990000   \n",
              "19734 2016-05-27 18:00:00         430      10  25.500000  46.600000   \n",
              "\n",
              "              T2       RH_2         T3       RH_3         T4  ...         T9  \\\n",
              "0      19.200000  44.790000  19.790000  44.730000  19.000000  ...  17.033333   \n",
              "1      19.200000  44.722500  19.790000  44.790000  19.000000  ...  17.066667   \n",
              "2      19.200000  44.626667  19.790000  44.933333  18.926667  ...  17.000000   \n",
              "3      19.200000  44.590000  19.790000  45.000000  18.890000  ...  17.000000   \n",
              "4      19.200000  44.530000  19.790000  45.000000  18.890000  ...  17.000000   \n",
              "...          ...        ...        ...        ...        ...  ...        ...   \n",
              "19730  25.890000  42.025714  27.200000  41.163333  24.700000  ...  23.200000   \n",
              "19731  25.754000  42.080000  27.133333  41.223333  24.700000  ...  23.200000   \n",
              "19732  25.628571  42.768571  27.050000  41.690000  24.700000  ...  23.200000   \n",
              "19733  25.414000  43.036000  26.890000  41.290000  24.700000  ...  23.200000   \n",
              "19734  25.264286  42.971429  26.823333  41.156667  24.700000  ...  23.200000   \n",
              "\n",
              "          RH_9      T_out  Press_mm_hg     RH_out  Windspeed  Visibility  \\\n",
              "0      45.5300   6.600000        733.5  92.000000   7.000000   63.000000   \n",
              "1      45.5600   6.483333        733.6  92.000000   6.666667   59.166667   \n",
              "2      45.5000   6.366667        733.7  92.000000   6.333333   55.333333   \n",
              "3      45.4000   6.250000        733.8  92.000000   6.000000   51.500000   \n",
              "4      45.4000   6.133333        733.9  92.000000   5.666667   47.666667   \n",
              "...        ...        ...          ...        ...        ...         ...   \n",
              "19730  46.7900  22.733333        755.2  55.666667   3.333333   23.666667   \n",
              "19731  46.7900  22.600000        755.2  56.000000   3.500000   24.500000   \n",
              "19732  46.7900  22.466667        755.2  56.333333   3.666667   25.333333   \n",
              "19733  46.8175  22.333333        755.2  56.666667   3.833333   26.166667   \n",
              "19734  46.8450  22.200000        755.2  57.000000   4.000000   27.000000   \n",
              "\n",
              "       Tdewpoint        rv1        rv2  \n",
              "0       5.300000  13.275433  13.275433  \n",
              "1       5.200000  18.606195  18.606195  \n",
              "2       5.100000  28.642668  28.642668  \n",
              "3       5.000000  45.410389  45.410389  \n",
              "4       4.900000  10.084097  10.084097  \n",
              "...          ...        ...        ...  \n",
              "19730  13.333333  43.096812  43.096812  \n",
              "19731  13.300000  49.282940  49.282940  \n",
              "19732  13.266667  29.199117  29.199117  \n",
              "19733  13.233333   6.322784   6.322784  \n",
              "19734  13.200000  34.118851  34.118851  \n",
              "\n",
              "[19735 rows x 29 columns]"
            ],
            "text/html": [
              "\n",
              "  <div id=\"df-e465f7a6-05cf-4e7e-81bd-d04ba7ab33b1\">\n",
              "    <div class=\"colab-df-container\">\n",
              "      <div>\n",
              "<style scoped>\n",
              "    .dataframe tbody tr th:only-of-type {\n",
              "        vertical-align: middle;\n",
              "    }\n",
              "\n",
              "    .dataframe tbody tr th {\n",
              "        vertical-align: top;\n",
              "    }\n",
              "\n",
              "    .dataframe thead th {\n",
              "        text-align: right;\n",
              "    }\n",
              "</style>\n",
              "<table border=\"1\" class=\"dataframe\">\n",
              "  <thead>\n",
              "    <tr style=\"text-align: right;\">\n",
              "      <th></th>\n",
              "      <th>date</th>\n",
              "      <th>Appliances</th>\n",
              "      <th>lights</th>\n",
              "      <th>T1</th>\n",
              "      <th>RH_1</th>\n",
              "      <th>T2</th>\n",
              "      <th>RH_2</th>\n",
              "      <th>T3</th>\n",
              "      <th>RH_3</th>\n",
              "      <th>T4</th>\n",
              "      <th>...</th>\n",
              "      <th>T9</th>\n",
              "      <th>RH_9</th>\n",
              "      <th>T_out</th>\n",
              "      <th>Press_mm_hg</th>\n",
              "      <th>RH_out</th>\n",
              "      <th>Windspeed</th>\n",
              "      <th>Visibility</th>\n",
              "      <th>Tdewpoint</th>\n",
              "      <th>rv1</th>\n",
              "      <th>rv2</th>\n",
              "    </tr>\n",
              "  </thead>\n",
              "  <tbody>\n",
              "    <tr>\n",
              "      <th>0</th>\n",
              "      <td>2016-01-11 17:00:00</td>\n",
              "      <td>60</td>\n",
              "      <td>30</td>\n",
              "      <td>19.890000</td>\n",
              "      <td>47.596667</td>\n",
              "      <td>19.200000</td>\n",
              "      <td>44.790000</td>\n",
              "      <td>19.790000</td>\n",
              "      <td>44.730000</td>\n",
              "      <td>19.000000</td>\n",
              "      <td>...</td>\n",
              "      <td>17.033333</td>\n",
              "      <td>45.5300</td>\n",
              "      <td>6.600000</td>\n",
              "      <td>733.5</td>\n",
              "      <td>92.000000</td>\n",
              "      <td>7.000000</td>\n",
              "      <td>63.000000</td>\n",
              "      <td>5.300000</td>\n",
              "      <td>13.275433</td>\n",
              "      <td>13.275433</td>\n",
              "    </tr>\n",
              "    <tr>\n",
              "      <th>1</th>\n",
              "      <td>2016-01-11 17:10:00</td>\n",
              "      <td>60</td>\n",
              "      <td>30</td>\n",
              "      <td>19.890000</td>\n",
              "      <td>46.693333</td>\n",
              "      <td>19.200000</td>\n",
              "      <td>44.722500</td>\n",
              "      <td>19.790000</td>\n",
              "      <td>44.790000</td>\n",
              "      <td>19.000000</td>\n",
              "      <td>...</td>\n",
              "      <td>17.066667</td>\n",
              "      <td>45.5600</td>\n",
              "      <td>6.483333</td>\n",
              "      <td>733.6</td>\n",
              "      <td>92.000000</td>\n",
              "      <td>6.666667</td>\n",
              "      <td>59.166667</td>\n",
              "      <td>5.200000</td>\n",
              "      <td>18.606195</td>\n",
              "      <td>18.606195</td>\n",
              "    </tr>\n",
              "    <tr>\n",
              "      <th>2</th>\n",
              "      <td>2016-01-11 17:20:00</td>\n",
              "      <td>50</td>\n",
              "      <td>30</td>\n",
              "      <td>19.890000</td>\n",
              "      <td>46.300000</td>\n",
              "      <td>19.200000</td>\n",
              "      <td>44.626667</td>\n",
              "      <td>19.790000</td>\n",
              "      <td>44.933333</td>\n",
              "      <td>18.926667</td>\n",
              "      <td>...</td>\n",
              "      <td>17.000000</td>\n",
              "      <td>45.5000</td>\n",
              "      <td>6.366667</td>\n",
              "      <td>733.7</td>\n",
              "      <td>92.000000</td>\n",
              "      <td>6.333333</td>\n",
              "      <td>55.333333</td>\n",
              "      <td>5.100000</td>\n",
              "      <td>28.642668</td>\n",
              "      <td>28.642668</td>\n",
              "    </tr>\n",
              "    <tr>\n",
              "      <th>3</th>\n",
              "      <td>2016-01-11 17:30:00</td>\n",
              "      <td>50</td>\n",
              "      <td>40</td>\n",
              "      <td>19.890000</td>\n",
              "      <td>46.066667</td>\n",
              "      <td>19.200000</td>\n",
              "      <td>44.590000</td>\n",
              "      <td>19.790000</td>\n",
              "      <td>45.000000</td>\n",
              "      <td>18.890000</td>\n",
              "      <td>...</td>\n",
              "      <td>17.000000</td>\n",
              "      <td>45.4000</td>\n",
              "      <td>6.250000</td>\n",
              "      <td>733.8</td>\n",
              "      <td>92.000000</td>\n",
              "      <td>6.000000</td>\n",
              "      <td>51.500000</td>\n",
              "      <td>5.000000</td>\n",
              "      <td>45.410389</td>\n",
              "      <td>45.410389</td>\n",
              "    </tr>\n",
              "    <tr>\n",
              "      <th>4</th>\n",
              "      <td>2016-01-11 17:40:00</td>\n",
              "      <td>60</td>\n",
              "      <td>40</td>\n",
              "      <td>19.890000</td>\n",
              "      <td>46.333333</td>\n",
              "      <td>19.200000</td>\n",
              "      <td>44.530000</td>\n",
              "      <td>19.790000</td>\n",
              "      <td>45.000000</td>\n",
              "      <td>18.890000</td>\n",
              "      <td>...</td>\n",
              "      <td>17.000000</td>\n",
              "      <td>45.4000</td>\n",
              "      <td>6.133333</td>\n",
              "      <td>733.9</td>\n",
              "      <td>92.000000</td>\n",
              "      <td>5.666667</td>\n",
              "      <td>47.666667</td>\n",
              "      <td>4.900000</td>\n",
              "      <td>10.084097</td>\n",
              "      <td>10.084097</td>\n",
              "    </tr>\n",
              "    <tr>\n",
              "      <th>...</th>\n",
              "      <td>...</td>\n",
              "      <td>...</td>\n",
              "      <td>...</td>\n",
              "      <td>...</td>\n",
              "      <td>...</td>\n",
              "      <td>...</td>\n",
              "      <td>...</td>\n",
              "      <td>...</td>\n",
              "      <td>...</td>\n",
              "      <td>...</td>\n",
              "      <td>...</td>\n",
              "      <td>...</td>\n",
              "      <td>...</td>\n",
              "      <td>...</td>\n",
              "      <td>...</td>\n",
              "      <td>...</td>\n",
              "      <td>...</td>\n",
              "      <td>...</td>\n",
              "      <td>...</td>\n",
              "      <td>...</td>\n",
              "      <td>...</td>\n",
              "    </tr>\n",
              "    <tr>\n",
              "      <th>19730</th>\n",
              "      <td>2016-05-27 17:20:00</td>\n",
              "      <td>100</td>\n",
              "      <td>0</td>\n",
              "      <td>25.566667</td>\n",
              "      <td>46.560000</td>\n",
              "      <td>25.890000</td>\n",
              "      <td>42.025714</td>\n",
              "      <td>27.200000</td>\n",
              "      <td>41.163333</td>\n",
              "      <td>24.700000</td>\n",
              "      <td>...</td>\n",
              "      <td>23.200000</td>\n",
              "      <td>46.7900</td>\n",
              "      <td>22.733333</td>\n",
              "      <td>755.2</td>\n",
              "      <td>55.666667</td>\n",
              "      <td>3.333333</td>\n",
              "      <td>23.666667</td>\n",
              "      <td>13.333333</td>\n",
              "      <td>43.096812</td>\n",
              "      <td>43.096812</td>\n",
              "    </tr>\n",
              "    <tr>\n",
              "      <th>19731</th>\n",
              "      <td>2016-05-27 17:30:00</td>\n",
              "      <td>90</td>\n",
              "      <td>0</td>\n",
              "      <td>25.500000</td>\n",
              "      <td>46.500000</td>\n",
              "      <td>25.754000</td>\n",
              "      <td>42.080000</td>\n",
              "      <td>27.133333</td>\n",
              "      <td>41.223333</td>\n",
              "      <td>24.700000</td>\n",
              "      <td>...</td>\n",
              "      <td>23.200000</td>\n",
              "      <td>46.7900</td>\n",
              "      <td>22.600000</td>\n",
              "      <td>755.2</td>\n",
              "      <td>56.000000</td>\n",
              "      <td>3.500000</td>\n",
              "      <td>24.500000</td>\n",
              "      <td>13.300000</td>\n",
              "      <td>49.282940</td>\n",
              "      <td>49.282940</td>\n",
              "    </tr>\n",
              "    <tr>\n",
              "      <th>19732</th>\n",
              "      <td>2016-05-27 17:40:00</td>\n",
              "      <td>270</td>\n",
              "      <td>10</td>\n",
              "      <td>25.500000</td>\n",
              "      <td>46.596667</td>\n",
              "      <td>25.628571</td>\n",
              "      <td>42.768571</td>\n",
              "      <td>27.050000</td>\n",
              "      <td>41.690000</td>\n",
              "      <td>24.700000</td>\n",
              "      <td>...</td>\n",
              "      <td>23.200000</td>\n",
              "      <td>46.7900</td>\n",
              "      <td>22.466667</td>\n",
              "      <td>755.2</td>\n",
              "      <td>56.333333</td>\n",
              "      <td>3.666667</td>\n",
              "      <td>25.333333</td>\n",
              "      <td>13.266667</td>\n",
              "      <td>29.199117</td>\n",
              "      <td>29.199117</td>\n",
              "    </tr>\n",
              "    <tr>\n",
              "      <th>19733</th>\n",
              "      <td>2016-05-27 17:50:00</td>\n",
              "      <td>420</td>\n",
              "      <td>10</td>\n",
              "      <td>25.500000</td>\n",
              "      <td>46.990000</td>\n",
              "      <td>25.414000</td>\n",
              "      <td>43.036000</td>\n",
              "      <td>26.890000</td>\n",
              "      <td>41.290000</td>\n",
              "      <td>24.700000</td>\n",
              "      <td>...</td>\n",
              "      <td>23.200000</td>\n",
              "      <td>46.8175</td>\n",
              "      <td>22.333333</td>\n",
              "      <td>755.2</td>\n",
              "      <td>56.666667</td>\n",
              "      <td>3.833333</td>\n",
              "      <td>26.166667</td>\n",
              "      <td>13.233333</td>\n",
              "      <td>6.322784</td>\n",
              "      <td>6.322784</td>\n",
              "    </tr>\n",
              "    <tr>\n",
              "      <th>19734</th>\n",
              "      <td>2016-05-27 18:00:00</td>\n",
              "      <td>430</td>\n",
              "      <td>10</td>\n",
              "      <td>25.500000</td>\n",
              "      <td>46.600000</td>\n",
              "      <td>25.264286</td>\n",
              "      <td>42.971429</td>\n",
              "      <td>26.823333</td>\n",
              "      <td>41.156667</td>\n",
              "      <td>24.700000</td>\n",
              "      <td>...</td>\n",
              "      <td>23.200000</td>\n",
              "      <td>46.8450</td>\n",
              "      <td>22.200000</td>\n",
              "      <td>755.2</td>\n",
              "      <td>57.000000</td>\n",
              "      <td>4.000000</td>\n",
              "      <td>27.000000</td>\n",
              "      <td>13.200000</td>\n",
              "      <td>34.118851</td>\n",
              "      <td>34.118851</td>\n",
              "    </tr>\n",
              "  </tbody>\n",
              "</table>\n",
              "<p>19735 rows × 29 columns</p>\n",
              "</div>\n",
              "      <button class=\"colab-df-convert\" onclick=\"convertToInteractive('df-e465f7a6-05cf-4e7e-81bd-d04ba7ab33b1')\"\n",
              "              title=\"Convert this dataframe to an interactive table.\"\n",
              "              style=\"display:none;\">\n",
              "        \n",
              "  <svg xmlns=\"http://www.w3.org/2000/svg\" height=\"24px\"viewBox=\"0 0 24 24\"\n",
              "       width=\"24px\">\n",
              "    <path d=\"M0 0h24v24H0V0z\" fill=\"none\"/>\n",
              "    <path d=\"M18.56 5.44l.94 2.06.94-2.06 2.06-.94-2.06-.94-.94-2.06-.94 2.06-2.06.94zm-11 1L8.5 8.5l.94-2.06 2.06-.94-2.06-.94L8.5 2.5l-.94 2.06-2.06.94zm10 10l.94 2.06.94-2.06 2.06-.94-2.06-.94-.94-2.06-.94 2.06-2.06.94z\"/><path d=\"M17.41 7.96l-1.37-1.37c-.4-.4-.92-.59-1.43-.59-.52 0-1.04.2-1.43.59L10.3 9.45l-7.72 7.72c-.78.78-.78 2.05 0 2.83L4 21.41c.39.39.9.59 1.41.59.51 0 1.02-.2 1.41-.59l7.78-7.78 2.81-2.81c.8-.78.8-2.07 0-2.86zM5.41 20L4 18.59l7.72-7.72 1.47 1.35L5.41 20z\"/>\n",
              "  </svg>\n",
              "      </button>\n",
              "      \n",
              "  <style>\n",
              "    .colab-df-container {\n",
              "      display:flex;\n",
              "      flex-wrap:wrap;\n",
              "      gap: 12px;\n",
              "    }\n",
              "\n",
              "    .colab-df-convert {\n",
              "      background-color: #E8F0FE;\n",
              "      border: none;\n",
              "      border-radius: 50%;\n",
              "      cursor: pointer;\n",
              "      display: none;\n",
              "      fill: #1967D2;\n",
              "      height: 32px;\n",
              "      padding: 0 0 0 0;\n",
              "      width: 32px;\n",
              "    }\n",
              "\n",
              "    .colab-df-convert:hover {\n",
              "      background-color: #E2EBFA;\n",
              "      box-shadow: 0px 1px 2px rgba(60, 64, 67, 0.3), 0px 1px 3px 1px rgba(60, 64, 67, 0.15);\n",
              "      fill: #174EA6;\n",
              "    }\n",
              "\n",
              "    [theme=dark] .colab-df-convert {\n",
              "      background-color: #3B4455;\n",
              "      fill: #D2E3FC;\n",
              "    }\n",
              "\n",
              "    [theme=dark] .colab-df-convert:hover {\n",
              "      background-color: #434B5C;\n",
              "      box-shadow: 0px 1px 3px 1px rgba(0, 0, 0, 0.15);\n",
              "      filter: drop-shadow(0px 1px 2px rgba(0, 0, 0, 0.3));\n",
              "      fill: #FFFFFF;\n",
              "    }\n",
              "  </style>\n",
              "\n",
              "      <script>\n",
              "        const buttonEl =\n",
              "          document.querySelector('#df-e465f7a6-05cf-4e7e-81bd-d04ba7ab33b1 button.colab-df-convert');\n",
              "        buttonEl.style.display =\n",
              "          google.colab.kernel.accessAllowed ? 'block' : 'none';\n",
              "\n",
              "        async function convertToInteractive(key) {\n",
              "          const element = document.querySelector('#df-e465f7a6-05cf-4e7e-81bd-d04ba7ab33b1');\n",
              "          const dataTable =\n",
              "            await google.colab.kernel.invokeFunction('convertToInteractive',\n",
              "                                                     [key], {});\n",
              "          if (!dataTable) return;\n",
              "\n",
              "          const docLinkHtml = 'Like what you see? Visit the ' +\n",
              "            '<a target=\"_blank\" href=https://colab.research.google.com/notebooks/data_table.ipynb>data table notebook</a>'\n",
              "            + ' to learn more about interactive tables.';\n",
              "          element.innerHTML = '';\n",
              "          dataTable['output_type'] = 'display_data';\n",
              "          await google.colab.output.renderOutput(dataTable, element);\n",
              "          const docLink = document.createElement('div');\n",
              "          docLink.innerHTML = docLinkHtml;\n",
              "          element.appendChild(docLink);\n",
              "        }\n",
              "      </script>\n",
              "    </div>\n",
              "  </div>\n",
              "  "
            ]
          },
          "metadata": {},
          "execution_count": 4
        }
      ]
    },
    {
      "cell_type": "code",
      "source": [
        "df.shape"
      ],
      "metadata": {
        "colab": {
          "base_uri": "https://localhost:8080/"
        },
        "id": "JX6pfhqFx226",
        "outputId": "8953629c-570b-47a4-9ca3-57452f2d7007"
      },
      "execution_count": 5,
      "outputs": [
        {
          "output_type": "execute_result",
          "data": {
            "text/plain": [
              "(19735, 29)"
            ]
          },
          "metadata": {},
          "execution_count": 5
        }
      ]
    },
    {
      "cell_type": "code",
      "source": [
        "df_1 = df\n",
        "df_1.info()"
      ],
      "metadata": {
        "colab": {
          "base_uri": "https://localhost:8080/"
        },
        "id": "jIx2WCkdx7kn",
        "outputId": "6be92266-7f68-46c8-82b5-3f5db79bcba5"
      },
      "execution_count": 6,
      "outputs": [
        {
          "output_type": "stream",
          "name": "stdout",
          "text": [
            "<class 'pandas.core.frame.DataFrame'>\n",
            "RangeIndex: 19735 entries, 0 to 19734\n",
            "Data columns (total 29 columns):\n",
            " #   Column       Non-Null Count  Dtype         \n",
            "---  ------       --------------  -----         \n",
            " 0   date         19735 non-null  datetime64[ns]\n",
            " 1   Appliances   19735 non-null  int64         \n",
            " 2   lights       19735 non-null  int64         \n",
            " 3   T1           19735 non-null  float64       \n",
            " 4   RH_1         19735 non-null  float64       \n",
            " 5   T2           19735 non-null  float64       \n",
            " 6   RH_2         19735 non-null  float64       \n",
            " 7   T3           19735 non-null  float64       \n",
            " 8   RH_3         19735 non-null  float64       \n",
            " 9   T4           19735 non-null  float64       \n",
            " 10  RH_4         19735 non-null  float64       \n",
            " 11  T5           19735 non-null  float64       \n",
            " 12  RH_5         19735 non-null  float64       \n",
            " 13  T6           19735 non-null  float64       \n",
            " 14  RH_6         19735 non-null  float64       \n",
            " 15  T7           19735 non-null  float64       \n",
            " 16  RH_7         19735 non-null  float64       \n",
            " 17  T8           19735 non-null  float64       \n",
            " 18  RH_8         19735 non-null  float64       \n",
            " 19  T9           19735 non-null  float64       \n",
            " 20  RH_9         19735 non-null  float64       \n",
            " 21  T_out        19735 non-null  float64       \n",
            " 22  Press_mm_hg  19735 non-null  float64       \n",
            " 23  RH_out       19735 non-null  float64       \n",
            " 24  Windspeed    19735 non-null  float64       \n",
            " 25  Visibility   19735 non-null  float64       \n",
            " 26  Tdewpoint    19735 non-null  float64       \n",
            " 27  rv1          19735 non-null  float64       \n",
            " 28  rv2          19735 non-null  float64       \n",
            "dtypes: datetime64[ns](1), float64(26), int64(2)\n",
            "memory usage: 4.4 MB\n"
          ]
        }
      ]
    },
    {
      "cell_type": "code",
      "source": [
        "df.head"
      ],
      "metadata": {
        "colab": {
          "base_uri": "https://localhost:8080/"
        },
        "id": "A3tNozIJx_L9",
        "outputId": "a03588cd-b416-427e-f093-8ed6f73618f0"
      },
      "execution_count": 7,
      "outputs": [
        {
          "output_type": "execute_result",
          "data": {
            "text/plain": [
              "<bound method NDFrame.head of                      date  Appliances  lights         T1       RH_1  \\\n",
              "0     2016-01-11 17:00:00          60      30  19.890000  47.596667   \n",
              "1     2016-01-11 17:10:00          60      30  19.890000  46.693333   \n",
              "2     2016-01-11 17:20:00          50      30  19.890000  46.300000   \n",
              "3     2016-01-11 17:30:00          50      40  19.890000  46.066667   \n",
              "4     2016-01-11 17:40:00          60      40  19.890000  46.333333   \n",
              "...                   ...         ...     ...        ...        ...   \n",
              "19730 2016-05-27 17:20:00         100       0  25.566667  46.560000   \n",
              "19731 2016-05-27 17:30:00          90       0  25.500000  46.500000   \n",
              "19732 2016-05-27 17:40:00         270      10  25.500000  46.596667   \n",
              "19733 2016-05-27 17:50:00         420      10  25.500000  46.990000   \n",
              "19734 2016-05-27 18:00:00         430      10  25.500000  46.600000   \n",
              "\n",
              "              T2       RH_2         T3       RH_3         T4  ...         T9  \\\n",
              "0      19.200000  44.790000  19.790000  44.730000  19.000000  ...  17.033333   \n",
              "1      19.200000  44.722500  19.790000  44.790000  19.000000  ...  17.066667   \n",
              "2      19.200000  44.626667  19.790000  44.933333  18.926667  ...  17.000000   \n",
              "3      19.200000  44.590000  19.790000  45.000000  18.890000  ...  17.000000   \n",
              "4      19.200000  44.530000  19.790000  45.000000  18.890000  ...  17.000000   \n",
              "...          ...        ...        ...        ...        ...  ...        ...   \n",
              "19730  25.890000  42.025714  27.200000  41.163333  24.700000  ...  23.200000   \n",
              "19731  25.754000  42.080000  27.133333  41.223333  24.700000  ...  23.200000   \n",
              "19732  25.628571  42.768571  27.050000  41.690000  24.700000  ...  23.200000   \n",
              "19733  25.414000  43.036000  26.890000  41.290000  24.700000  ...  23.200000   \n",
              "19734  25.264286  42.971429  26.823333  41.156667  24.700000  ...  23.200000   \n",
              "\n",
              "          RH_9      T_out  Press_mm_hg     RH_out  Windspeed  Visibility  \\\n",
              "0      45.5300   6.600000        733.5  92.000000   7.000000   63.000000   \n",
              "1      45.5600   6.483333        733.6  92.000000   6.666667   59.166667   \n",
              "2      45.5000   6.366667        733.7  92.000000   6.333333   55.333333   \n",
              "3      45.4000   6.250000        733.8  92.000000   6.000000   51.500000   \n",
              "4      45.4000   6.133333        733.9  92.000000   5.666667   47.666667   \n",
              "...        ...        ...          ...        ...        ...         ...   \n",
              "19730  46.7900  22.733333        755.2  55.666667   3.333333   23.666667   \n",
              "19731  46.7900  22.600000        755.2  56.000000   3.500000   24.500000   \n",
              "19732  46.7900  22.466667        755.2  56.333333   3.666667   25.333333   \n",
              "19733  46.8175  22.333333        755.2  56.666667   3.833333   26.166667   \n",
              "19734  46.8450  22.200000        755.2  57.000000   4.000000   27.000000   \n",
              "\n",
              "       Tdewpoint        rv1        rv2  \n",
              "0       5.300000  13.275433  13.275433  \n",
              "1       5.200000  18.606195  18.606195  \n",
              "2       5.100000  28.642668  28.642668  \n",
              "3       5.000000  45.410389  45.410389  \n",
              "4       4.900000  10.084097  10.084097  \n",
              "...          ...        ...        ...  \n",
              "19730  13.333333  43.096812  43.096812  \n",
              "19731  13.300000  49.282940  49.282940  \n",
              "19732  13.266667  29.199117  29.199117  \n",
              "19733  13.233333   6.322784   6.322784  \n",
              "19734  13.200000  34.118851  34.118851  \n",
              "\n",
              "[19735 rows x 29 columns]>"
            ]
          },
          "metadata": {},
          "execution_count": 7
        }
      ]
    },
    {
      "cell_type": "code",
      "source": [
        "df.describe()"
      ],
      "metadata": {
        "colab": {
          "base_uri": "https://localhost:8080/",
          "height": 394
        },
        "id": "uLfP7ThQx_I0",
        "outputId": "c6aa157e-4050-42ea-a8ac-062f76b4287b"
      },
      "execution_count": 8,
      "outputs": [
        {
          "output_type": "execute_result",
          "data": {
            "text/plain": [
              "         Appliances        lights            T1          RH_1            T2  \\\n",
              "count  19735.000000  19735.000000  19735.000000  19735.000000  19735.000000   \n",
              "mean      97.694958      3.801875     21.686571     40.259739     20.341219   \n",
              "std      102.524891      7.935988      1.606066      3.979299      2.192974   \n",
              "min       10.000000      0.000000     16.790000     27.023333     16.100000   \n",
              "25%       50.000000      0.000000     20.760000     37.333333     18.790000   \n",
              "50%       60.000000      0.000000     21.600000     39.656667     20.000000   \n",
              "75%      100.000000      0.000000     22.600000     43.066667     21.500000   \n",
              "max     1080.000000     70.000000     26.260000     63.360000     29.856667   \n",
              "\n",
              "               RH_2            T3          RH_3            T4          RH_4  \\\n",
              "count  19735.000000  19735.000000  19735.000000  19735.000000  19735.000000   \n",
              "mean      40.420420     22.267611     39.242500     20.855335     39.026904   \n",
              "std        4.069813      2.006111      3.254576      2.042884      4.341321   \n",
              "min       20.463333     17.200000     28.766667     15.100000     27.660000   \n",
              "25%       37.900000     20.790000     36.900000     19.530000     35.530000   \n",
              "50%       40.500000     22.100000     38.530000     20.666667     38.400000   \n",
              "75%       43.260000     23.290000     41.760000     22.100000     42.156667   \n",
              "max       56.026667     29.236000     50.163333     26.200000     51.090000   \n",
              "\n",
              "       ...            T9          RH_9         T_out   Press_mm_hg  \\\n",
              "count  ...  19735.000000  19735.000000  19735.000000  19735.000000   \n",
              "mean   ...     19.485828     41.552401      7.411665    755.522602   \n",
              "std    ...      2.014712      4.151497      5.317409      7.399441   \n",
              "min    ...     14.890000     29.166667     -5.000000    729.300000   \n",
              "25%    ...     18.000000     38.500000      3.666667    750.933333   \n",
              "50%    ...     19.390000     40.900000      6.916667    756.100000   \n",
              "75%    ...     20.600000     44.338095     10.408333    760.933333   \n",
              "max    ...     24.500000     53.326667     26.100000    772.300000   \n",
              "\n",
              "             RH_out     Windspeed    Visibility     Tdewpoint           rv1  \\\n",
              "count  19735.000000  19735.000000  19735.000000  19735.000000  19735.000000   \n",
              "mean      79.750418      4.039752     38.330834      3.760707     24.988033   \n",
              "std       14.901088      2.451221     11.794719      4.194648     14.496634   \n",
              "min       24.000000      0.000000      1.000000     -6.600000      0.005322   \n",
              "25%       70.333333      2.000000     29.000000      0.900000     12.497889   \n",
              "50%       83.666667      3.666667     40.000000      3.433333     24.897653   \n",
              "75%       91.666667      5.500000     40.000000      6.566667     37.583769   \n",
              "max      100.000000     14.000000     66.000000     15.500000     49.996530   \n",
              "\n",
              "                rv2  \n",
              "count  19735.000000  \n",
              "mean      24.988033  \n",
              "std       14.496634  \n",
              "min        0.005322  \n",
              "25%       12.497889  \n",
              "50%       24.897653  \n",
              "75%       37.583769  \n",
              "max       49.996530  \n",
              "\n",
              "[8 rows x 28 columns]"
            ],
            "text/html": [
              "\n",
              "  <div id=\"df-e4e42b75-832d-4a38-aa8a-1f85074786e7\">\n",
              "    <div class=\"colab-df-container\">\n",
              "      <div>\n",
              "<style scoped>\n",
              "    .dataframe tbody tr th:only-of-type {\n",
              "        vertical-align: middle;\n",
              "    }\n",
              "\n",
              "    .dataframe tbody tr th {\n",
              "        vertical-align: top;\n",
              "    }\n",
              "\n",
              "    .dataframe thead th {\n",
              "        text-align: right;\n",
              "    }\n",
              "</style>\n",
              "<table border=\"1\" class=\"dataframe\">\n",
              "  <thead>\n",
              "    <tr style=\"text-align: right;\">\n",
              "      <th></th>\n",
              "      <th>Appliances</th>\n",
              "      <th>lights</th>\n",
              "      <th>T1</th>\n",
              "      <th>RH_1</th>\n",
              "      <th>T2</th>\n",
              "      <th>RH_2</th>\n",
              "      <th>T3</th>\n",
              "      <th>RH_3</th>\n",
              "      <th>T4</th>\n",
              "      <th>RH_4</th>\n",
              "      <th>...</th>\n",
              "      <th>T9</th>\n",
              "      <th>RH_9</th>\n",
              "      <th>T_out</th>\n",
              "      <th>Press_mm_hg</th>\n",
              "      <th>RH_out</th>\n",
              "      <th>Windspeed</th>\n",
              "      <th>Visibility</th>\n",
              "      <th>Tdewpoint</th>\n",
              "      <th>rv1</th>\n",
              "      <th>rv2</th>\n",
              "    </tr>\n",
              "  </thead>\n",
              "  <tbody>\n",
              "    <tr>\n",
              "      <th>count</th>\n",
              "      <td>19735.000000</td>\n",
              "      <td>19735.000000</td>\n",
              "      <td>19735.000000</td>\n",
              "      <td>19735.000000</td>\n",
              "      <td>19735.000000</td>\n",
              "      <td>19735.000000</td>\n",
              "      <td>19735.000000</td>\n",
              "      <td>19735.000000</td>\n",
              "      <td>19735.000000</td>\n",
              "      <td>19735.000000</td>\n",
              "      <td>...</td>\n",
              "      <td>19735.000000</td>\n",
              "      <td>19735.000000</td>\n",
              "      <td>19735.000000</td>\n",
              "      <td>19735.000000</td>\n",
              "      <td>19735.000000</td>\n",
              "      <td>19735.000000</td>\n",
              "      <td>19735.000000</td>\n",
              "      <td>19735.000000</td>\n",
              "      <td>19735.000000</td>\n",
              "      <td>19735.000000</td>\n",
              "    </tr>\n",
              "    <tr>\n",
              "      <th>mean</th>\n",
              "      <td>97.694958</td>\n",
              "      <td>3.801875</td>\n",
              "      <td>21.686571</td>\n",
              "      <td>40.259739</td>\n",
              "      <td>20.341219</td>\n",
              "      <td>40.420420</td>\n",
              "      <td>22.267611</td>\n",
              "      <td>39.242500</td>\n",
              "      <td>20.855335</td>\n",
              "      <td>39.026904</td>\n",
              "      <td>...</td>\n",
              "      <td>19.485828</td>\n",
              "      <td>41.552401</td>\n",
              "      <td>7.411665</td>\n",
              "      <td>755.522602</td>\n",
              "      <td>79.750418</td>\n",
              "      <td>4.039752</td>\n",
              "      <td>38.330834</td>\n",
              "      <td>3.760707</td>\n",
              "      <td>24.988033</td>\n",
              "      <td>24.988033</td>\n",
              "    </tr>\n",
              "    <tr>\n",
              "      <th>std</th>\n",
              "      <td>102.524891</td>\n",
              "      <td>7.935988</td>\n",
              "      <td>1.606066</td>\n",
              "      <td>3.979299</td>\n",
              "      <td>2.192974</td>\n",
              "      <td>4.069813</td>\n",
              "      <td>2.006111</td>\n",
              "      <td>3.254576</td>\n",
              "      <td>2.042884</td>\n",
              "      <td>4.341321</td>\n",
              "      <td>...</td>\n",
              "      <td>2.014712</td>\n",
              "      <td>4.151497</td>\n",
              "      <td>5.317409</td>\n",
              "      <td>7.399441</td>\n",
              "      <td>14.901088</td>\n",
              "      <td>2.451221</td>\n",
              "      <td>11.794719</td>\n",
              "      <td>4.194648</td>\n",
              "      <td>14.496634</td>\n",
              "      <td>14.496634</td>\n",
              "    </tr>\n",
              "    <tr>\n",
              "      <th>min</th>\n",
              "      <td>10.000000</td>\n",
              "      <td>0.000000</td>\n",
              "      <td>16.790000</td>\n",
              "      <td>27.023333</td>\n",
              "      <td>16.100000</td>\n",
              "      <td>20.463333</td>\n",
              "      <td>17.200000</td>\n",
              "      <td>28.766667</td>\n",
              "      <td>15.100000</td>\n",
              "      <td>27.660000</td>\n",
              "      <td>...</td>\n",
              "      <td>14.890000</td>\n",
              "      <td>29.166667</td>\n",
              "      <td>-5.000000</td>\n",
              "      <td>729.300000</td>\n",
              "      <td>24.000000</td>\n",
              "      <td>0.000000</td>\n",
              "      <td>1.000000</td>\n",
              "      <td>-6.600000</td>\n",
              "      <td>0.005322</td>\n",
              "      <td>0.005322</td>\n",
              "    </tr>\n",
              "    <tr>\n",
              "      <th>25%</th>\n",
              "      <td>50.000000</td>\n",
              "      <td>0.000000</td>\n",
              "      <td>20.760000</td>\n",
              "      <td>37.333333</td>\n",
              "      <td>18.790000</td>\n",
              "      <td>37.900000</td>\n",
              "      <td>20.790000</td>\n",
              "      <td>36.900000</td>\n",
              "      <td>19.530000</td>\n",
              "      <td>35.530000</td>\n",
              "      <td>...</td>\n",
              "      <td>18.000000</td>\n",
              "      <td>38.500000</td>\n",
              "      <td>3.666667</td>\n",
              "      <td>750.933333</td>\n",
              "      <td>70.333333</td>\n",
              "      <td>2.000000</td>\n",
              "      <td>29.000000</td>\n",
              "      <td>0.900000</td>\n",
              "      <td>12.497889</td>\n",
              "      <td>12.497889</td>\n",
              "    </tr>\n",
              "    <tr>\n",
              "      <th>50%</th>\n",
              "      <td>60.000000</td>\n",
              "      <td>0.000000</td>\n",
              "      <td>21.600000</td>\n",
              "      <td>39.656667</td>\n",
              "      <td>20.000000</td>\n",
              "      <td>40.500000</td>\n",
              "      <td>22.100000</td>\n",
              "      <td>38.530000</td>\n",
              "      <td>20.666667</td>\n",
              "      <td>38.400000</td>\n",
              "      <td>...</td>\n",
              "      <td>19.390000</td>\n",
              "      <td>40.900000</td>\n",
              "      <td>6.916667</td>\n",
              "      <td>756.100000</td>\n",
              "      <td>83.666667</td>\n",
              "      <td>3.666667</td>\n",
              "      <td>40.000000</td>\n",
              "      <td>3.433333</td>\n",
              "      <td>24.897653</td>\n",
              "      <td>24.897653</td>\n",
              "    </tr>\n",
              "    <tr>\n",
              "      <th>75%</th>\n",
              "      <td>100.000000</td>\n",
              "      <td>0.000000</td>\n",
              "      <td>22.600000</td>\n",
              "      <td>43.066667</td>\n",
              "      <td>21.500000</td>\n",
              "      <td>43.260000</td>\n",
              "      <td>23.290000</td>\n",
              "      <td>41.760000</td>\n",
              "      <td>22.100000</td>\n",
              "      <td>42.156667</td>\n",
              "      <td>...</td>\n",
              "      <td>20.600000</td>\n",
              "      <td>44.338095</td>\n",
              "      <td>10.408333</td>\n",
              "      <td>760.933333</td>\n",
              "      <td>91.666667</td>\n",
              "      <td>5.500000</td>\n",
              "      <td>40.000000</td>\n",
              "      <td>6.566667</td>\n",
              "      <td>37.583769</td>\n",
              "      <td>37.583769</td>\n",
              "    </tr>\n",
              "    <tr>\n",
              "      <th>max</th>\n",
              "      <td>1080.000000</td>\n",
              "      <td>70.000000</td>\n",
              "      <td>26.260000</td>\n",
              "      <td>63.360000</td>\n",
              "      <td>29.856667</td>\n",
              "      <td>56.026667</td>\n",
              "      <td>29.236000</td>\n",
              "      <td>50.163333</td>\n",
              "      <td>26.200000</td>\n",
              "      <td>51.090000</td>\n",
              "      <td>...</td>\n",
              "      <td>24.500000</td>\n",
              "      <td>53.326667</td>\n",
              "      <td>26.100000</td>\n",
              "      <td>772.300000</td>\n",
              "      <td>100.000000</td>\n",
              "      <td>14.000000</td>\n",
              "      <td>66.000000</td>\n",
              "      <td>15.500000</td>\n",
              "      <td>49.996530</td>\n",
              "      <td>49.996530</td>\n",
              "    </tr>\n",
              "  </tbody>\n",
              "</table>\n",
              "<p>8 rows × 28 columns</p>\n",
              "</div>\n",
              "      <button class=\"colab-df-convert\" onclick=\"convertToInteractive('df-e4e42b75-832d-4a38-aa8a-1f85074786e7')\"\n",
              "              title=\"Convert this dataframe to an interactive table.\"\n",
              "              style=\"display:none;\">\n",
              "        \n",
              "  <svg xmlns=\"http://www.w3.org/2000/svg\" height=\"24px\"viewBox=\"0 0 24 24\"\n",
              "       width=\"24px\">\n",
              "    <path d=\"M0 0h24v24H0V0z\" fill=\"none\"/>\n",
              "    <path d=\"M18.56 5.44l.94 2.06.94-2.06 2.06-.94-2.06-.94-.94-2.06-.94 2.06-2.06.94zm-11 1L8.5 8.5l.94-2.06 2.06-.94-2.06-.94L8.5 2.5l-.94 2.06-2.06.94zm10 10l.94 2.06.94-2.06 2.06-.94-2.06-.94-.94-2.06-.94 2.06-2.06.94z\"/><path d=\"M17.41 7.96l-1.37-1.37c-.4-.4-.92-.59-1.43-.59-.52 0-1.04.2-1.43.59L10.3 9.45l-7.72 7.72c-.78.78-.78 2.05 0 2.83L4 21.41c.39.39.9.59 1.41.59.51 0 1.02-.2 1.41-.59l7.78-7.78 2.81-2.81c.8-.78.8-2.07 0-2.86zM5.41 20L4 18.59l7.72-7.72 1.47 1.35L5.41 20z\"/>\n",
              "  </svg>\n",
              "      </button>\n",
              "      \n",
              "  <style>\n",
              "    .colab-df-container {\n",
              "      display:flex;\n",
              "      flex-wrap:wrap;\n",
              "      gap: 12px;\n",
              "    }\n",
              "\n",
              "    .colab-df-convert {\n",
              "      background-color: #E8F0FE;\n",
              "      border: none;\n",
              "      border-radius: 50%;\n",
              "      cursor: pointer;\n",
              "      display: none;\n",
              "      fill: #1967D2;\n",
              "      height: 32px;\n",
              "      padding: 0 0 0 0;\n",
              "      width: 32px;\n",
              "    }\n",
              "\n",
              "    .colab-df-convert:hover {\n",
              "      background-color: #E2EBFA;\n",
              "      box-shadow: 0px 1px 2px rgba(60, 64, 67, 0.3), 0px 1px 3px 1px rgba(60, 64, 67, 0.15);\n",
              "      fill: #174EA6;\n",
              "    }\n",
              "\n",
              "    [theme=dark] .colab-df-convert {\n",
              "      background-color: #3B4455;\n",
              "      fill: #D2E3FC;\n",
              "    }\n",
              "\n",
              "    [theme=dark] .colab-df-convert:hover {\n",
              "      background-color: #434B5C;\n",
              "      box-shadow: 0px 1px 3px 1px rgba(0, 0, 0, 0.15);\n",
              "      filter: drop-shadow(0px 1px 2px rgba(0, 0, 0, 0.3));\n",
              "      fill: #FFFFFF;\n",
              "    }\n",
              "  </style>\n",
              "\n",
              "      <script>\n",
              "        const buttonEl =\n",
              "          document.querySelector('#df-e4e42b75-832d-4a38-aa8a-1f85074786e7 button.colab-df-convert');\n",
              "        buttonEl.style.display =\n",
              "          google.colab.kernel.accessAllowed ? 'block' : 'none';\n",
              "\n",
              "        async function convertToInteractive(key) {\n",
              "          const element = document.querySelector('#df-e4e42b75-832d-4a38-aa8a-1f85074786e7');\n",
              "          const dataTable =\n",
              "            await google.colab.kernel.invokeFunction('convertToInteractive',\n",
              "                                                     [key], {});\n",
              "          if (!dataTable) return;\n",
              "\n",
              "          const docLinkHtml = 'Like what you see? Visit the ' +\n",
              "            '<a target=\"_blank\" href=https://colab.research.google.com/notebooks/data_table.ipynb>data table notebook</a>'\n",
              "            + ' to learn more about interactive tables.';\n",
              "          element.innerHTML = '';\n",
              "          dataTable['output_type'] = 'display_data';\n",
              "          await google.colab.output.renderOutput(dataTable, element);\n",
              "          const docLink = document.createElement('div');\n",
              "          docLink.innerHTML = docLinkHtml;\n",
              "          element.appendChild(docLink);\n",
              "        }\n",
              "      </script>\n",
              "    </div>\n",
              "  </div>\n",
              "  "
            ]
          },
          "metadata": {},
          "execution_count": 8
        }
      ]
    },
    {
      "cell_type": "code",
      "source": [
        "print('The number of rows in dataset is - ' , df.shape[0])\n",
        "print('The number of columns in dataset is - ' , df.shape[1])"
      ],
      "metadata": {
        "colab": {
          "base_uri": "https://localhost:8080/"
        },
        "id": "j8gNXR7mx_G_",
        "outputId": "74e8ca24-8dfa-4614-bdd0-3cdeaf890675"
      },
      "execution_count": 9,
      "outputs": [
        {
          "output_type": "stream",
          "name": "stdout",
          "text": [
            "The number of rows in dataset is -  19735\n",
            "The number of columns in dataset is -  29\n"
          ]
        }
      ]
    },
    {
      "cell_type": "code",
      "source": [
        "#Number of null values in all columns\n",
        "df.isnull().sum().sort_values(ascending = True)"
      ],
      "metadata": {
        "colab": {
          "base_uri": "https://localhost:8080/"
        },
        "id": "iLY18jcwx_D3",
        "outputId": "942e2e1e-041f-430d-a1bf-c7c67cf64a92"
      },
      "execution_count": 10,
      "outputs": [
        {
          "output_type": "execute_result",
          "data": {
            "text/plain": [
              "date           0\n",
              "Tdewpoint      0\n",
              "Visibility     0\n",
              "Windspeed      0\n",
              "RH_out         0\n",
              "Press_mm_hg    0\n",
              "T_out          0\n",
              "RH_9           0\n",
              "T9             0\n",
              "RH_8           0\n",
              "T8             0\n",
              "RH_7           0\n",
              "T7             0\n",
              "rv1            0\n",
              "RH_6           0\n",
              "RH_5           0\n",
              "T5             0\n",
              "RH_4           0\n",
              "T4             0\n",
              "RH_3           0\n",
              "T3             0\n",
              "RH_2           0\n",
              "T2             0\n",
              "RH_1           0\n",
              "T1             0\n",
              "lights         0\n",
              "Appliances     0\n",
              "T6             0\n",
              "rv2            0\n",
              "dtype: int64"
            ]
          },
          "metadata": {},
          "execution_count": 10
        }
      ]
    },
    {
      "cell_type": "code",
      "source": [
        "from sklearn.model_selection import train_test_split\n",
        "\n",
        "# 75% of the data is usedfor the training of the models and the rest is used for testing\n",
        "train, test = train_test_split(df,test_size=0.25,random_state=40)"
      ],
      "metadata": {
        "id": "rnPKRuRpx_A_"
      },
      "execution_count": 11,
      "outputs": []
    },
    {
      "cell_type": "code",
      "source": [
        "train.describe()"
      ],
      "metadata": {
        "colab": {
          "base_uri": "https://localhost:8080/",
          "height": 394
        },
        "id": "8QCtdfNzx--i",
        "outputId": "2cdd6729-72c5-4295-f4ca-025a42284103"
      },
      "execution_count": 12,
      "outputs": [
        {
          "output_type": "execute_result",
          "data": {
            "text/plain": [
              "         Appliances        lights            T1          RH_1            T2  \\\n",
              "count  14801.000000  14801.000000  14801.000000  14801.000000  14801.000000   \n",
              "mean      97.835281      3.809202     21.685153     40.271333     20.343487   \n",
              "std      102.928289      7.940816      1.605537      3.983201      2.199037   \n",
              "min       10.000000      0.000000     16.790000     27.233333     16.100000   \n",
              "25%       50.000000      0.000000     20.745000     37.363333     18.790000   \n",
              "50%       60.000000      0.000000     21.600000     39.656667     20.000000   \n",
              "75%      100.000000      0.000000     22.600000     43.090000     21.533333   \n",
              "max     1080.000000     60.000000     26.260000     63.360000     29.856667   \n",
              "\n",
              "               RH_2            T3          RH_3            T4          RH_4  \\\n",
              "count  14801.000000  14801.000000  14801.000000  14801.000000  14801.000000   \n",
              "mean      40.432370     22.268005     39.252994     20.857724     39.041339   \n",
              "std        4.081775      1.999986      3.263513      2.040012      4.355528   \n",
              "min       20.463333     17.200000     28.766667     15.100000     27.660000   \n",
              "25%       37.900000     20.790000     36.900000     19.533333     35.530000   \n",
              "50%       40.500000     22.100000     38.560000     20.666667     38.400000   \n",
              "75%       43.290000     23.290000     41.790000     22.100000     42.193333   \n",
              "max       56.026667     29.200000     50.163333     26.200000     51.090000   \n",
              "\n",
              "       ...            T9          RH_9         T_out   Press_mm_hg  \\\n",
              "count  ...  14801.000000  14801.000000  14801.000000  14801.000000   \n",
              "mean   ...     19.484679     41.567732      7.422035    755.561311   \n",
              "std    ...      2.010610      4.167305      5.304241      7.398129   \n",
              "min    ...     14.890000     29.166667     -5.000000    729.366667   \n",
              "25%    ...     18.000000     38.500000      3.700000    750.983333   \n",
              "50%    ...     19.390000     40.900000      6.933333    756.100000   \n",
              "75%    ...     20.600000     44.363333     10.433333    760.966667   \n",
              "max    ...     24.500000     53.326667     26.033333    772.300000   \n",
              "\n",
              "             RH_out     Windspeed    Visibility     Tdewpoint           rv1  \\\n",
              "count  14801.000000  14801.000000  14801.000000  14801.000000  14801.000000   \n",
              "mean      79.744066      4.057009     38.345054      3.768053     25.014452   \n",
              "std       14.952250      2.449080     11.785900      4.189370     14.539819   \n",
              "min       24.500000      0.000000      1.000000     -6.600000      0.006033   \n",
              "25%       70.000000      2.000000     29.000000      0.933333     12.469764   \n",
              "50%       83.833333      3.666667     40.000000      3.450000     24.936900   \n",
              "75%       91.666667      5.500000     40.000000      6.566667     37.736202   \n",
              "max      100.000000     14.000000     66.000000     15.500000     49.993173   \n",
              "\n",
              "                rv2  \n",
              "count  14801.000000  \n",
              "mean      25.014452  \n",
              "std       14.539819  \n",
              "min        0.006033  \n",
              "25%       12.469764  \n",
              "50%       24.936900  \n",
              "75%       37.736202  \n",
              "max       49.993173  \n",
              "\n",
              "[8 rows x 28 columns]"
            ],
            "text/html": [
              "\n",
              "  <div id=\"df-bbd69088-7f3c-4456-839a-3829f7c1a05d\">\n",
              "    <div class=\"colab-df-container\">\n",
              "      <div>\n",
              "<style scoped>\n",
              "    .dataframe tbody tr th:only-of-type {\n",
              "        vertical-align: middle;\n",
              "    }\n",
              "\n",
              "    .dataframe tbody tr th {\n",
              "        vertical-align: top;\n",
              "    }\n",
              "\n",
              "    .dataframe thead th {\n",
              "        text-align: right;\n",
              "    }\n",
              "</style>\n",
              "<table border=\"1\" class=\"dataframe\">\n",
              "  <thead>\n",
              "    <tr style=\"text-align: right;\">\n",
              "      <th></th>\n",
              "      <th>Appliances</th>\n",
              "      <th>lights</th>\n",
              "      <th>T1</th>\n",
              "      <th>RH_1</th>\n",
              "      <th>T2</th>\n",
              "      <th>RH_2</th>\n",
              "      <th>T3</th>\n",
              "      <th>RH_3</th>\n",
              "      <th>T4</th>\n",
              "      <th>RH_4</th>\n",
              "      <th>...</th>\n",
              "      <th>T9</th>\n",
              "      <th>RH_9</th>\n",
              "      <th>T_out</th>\n",
              "      <th>Press_mm_hg</th>\n",
              "      <th>RH_out</th>\n",
              "      <th>Windspeed</th>\n",
              "      <th>Visibility</th>\n",
              "      <th>Tdewpoint</th>\n",
              "      <th>rv1</th>\n",
              "      <th>rv2</th>\n",
              "    </tr>\n",
              "  </thead>\n",
              "  <tbody>\n",
              "    <tr>\n",
              "      <th>count</th>\n",
              "      <td>14801.000000</td>\n",
              "      <td>14801.000000</td>\n",
              "      <td>14801.000000</td>\n",
              "      <td>14801.000000</td>\n",
              "      <td>14801.000000</td>\n",
              "      <td>14801.000000</td>\n",
              "      <td>14801.000000</td>\n",
              "      <td>14801.000000</td>\n",
              "      <td>14801.000000</td>\n",
              "      <td>14801.000000</td>\n",
              "      <td>...</td>\n",
              "      <td>14801.000000</td>\n",
              "      <td>14801.000000</td>\n",
              "      <td>14801.000000</td>\n",
              "      <td>14801.000000</td>\n",
              "      <td>14801.000000</td>\n",
              "      <td>14801.000000</td>\n",
              "      <td>14801.000000</td>\n",
              "      <td>14801.000000</td>\n",
              "      <td>14801.000000</td>\n",
              "      <td>14801.000000</td>\n",
              "    </tr>\n",
              "    <tr>\n",
              "      <th>mean</th>\n",
              "      <td>97.835281</td>\n",
              "      <td>3.809202</td>\n",
              "      <td>21.685153</td>\n",
              "      <td>40.271333</td>\n",
              "      <td>20.343487</td>\n",
              "      <td>40.432370</td>\n",
              "      <td>22.268005</td>\n",
              "      <td>39.252994</td>\n",
              "      <td>20.857724</td>\n",
              "      <td>39.041339</td>\n",
              "      <td>...</td>\n",
              "      <td>19.484679</td>\n",
              "      <td>41.567732</td>\n",
              "      <td>7.422035</td>\n",
              "      <td>755.561311</td>\n",
              "      <td>79.744066</td>\n",
              "      <td>4.057009</td>\n",
              "      <td>38.345054</td>\n",
              "      <td>3.768053</td>\n",
              "      <td>25.014452</td>\n",
              "      <td>25.014452</td>\n",
              "    </tr>\n",
              "    <tr>\n",
              "      <th>std</th>\n",
              "      <td>102.928289</td>\n",
              "      <td>7.940816</td>\n",
              "      <td>1.605537</td>\n",
              "      <td>3.983201</td>\n",
              "      <td>2.199037</td>\n",
              "      <td>4.081775</td>\n",
              "      <td>1.999986</td>\n",
              "      <td>3.263513</td>\n",
              "      <td>2.040012</td>\n",
              "      <td>4.355528</td>\n",
              "      <td>...</td>\n",
              "      <td>2.010610</td>\n",
              "      <td>4.167305</td>\n",
              "      <td>5.304241</td>\n",
              "      <td>7.398129</td>\n",
              "      <td>14.952250</td>\n",
              "      <td>2.449080</td>\n",
              "      <td>11.785900</td>\n",
              "      <td>4.189370</td>\n",
              "      <td>14.539819</td>\n",
              "      <td>14.539819</td>\n",
              "    </tr>\n",
              "    <tr>\n",
              "      <th>min</th>\n",
              "      <td>10.000000</td>\n",
              "      <td>0.000000</td>\n",
              "      <td>16.790000</td>\n",
              "      <td>27.233333</td>\n",
              "      <td>16.100000</td>\n",
              "      <td>20.463333</td>\n",
              "      <td>17.200000</td>\n",
              "      <td>28.766667</td>\n",
              "      <td>15.100000</td>\n",
              "      <td>27.660000</td>\n",
              "      <td>...</td>\n",
              "      <td>14.890000</td>\n",
              "      <td>29.166667</td>\n",
              "      <td>-5.000000</td>\n",
              "      <td>729.366667</td>\n",
              "      <td>24.500000</td>\n",
              "      <td>0.000000</td>\n",
              "      <td>1.000000</td>\n",
              "      <td>-6.600000</td>\n",
              "      <td>0.006033</td>\n",
              "      <td>0.006033</td>\n",
              "    </tr>\n",
              "    <tr>\n",
              "      <th>25%</th>\n",
              "      <td>50.000000</td>\n",
              "      <td>0.000000</td>\n",
              "      <td>20.745000</td>\n",
              "      <td>37.363333</td>\n",
              "      <td>18.790000</td>\n",
              "      <td>37.900000</td>\n",
              "      <td>20.790000</td>\n",
              "      <td>36.900000</td>\n",
              "      <td>19.533333</td>\n",
              "      <td>35.530000</td>\n",
              "      <td>...</td>\n",
              "      <td>18.000000</td>\n",
              "      <td>38.500000</td>\n",
              "      <td>3.700000</td>\n",
              "      <td>750.983333</td>\n",
              "      <td>70.000000</td>\n",
              "      <td>2.000000</td>\n",
              "      <td>29.000000</td>\n",
              "      <td>0.933333</td>\n",
              "      <td>12.469764</td>\n",
              "      <td>12.469764</td>\n",
              "    </tr>\n",
              "    <tr>\n",
              "      <th>50%</th>\n",
              "      <td>60.000000</td>\n",
              "      <td>0.000000</td>\n",
              "      <td>21.600000</td>\n",
              "      <td>39.656667</td>\n",
              "      <td>20.000000</td>\n",
              "      <td>40.500000</td>\n",
              "      <td>22.100000</td>\n",
              "      <td>38.560000</td>\n",
              "      <td>20.666667</td>\n",
              "      <td>38.400000</td>\n",
              "      <td>...</td>\n",
              "      <td>19.390000</td>\n",
              "      <td>40.900000</td>\n",
              "      <td>6.933333</td>\n",
              "      <td>756.100000</td>\n",
              "      <td>83.833333</td>\n",
              "      <td>3.666667</td>\n",
              "      <td>40.000000</td>\n",
              "      <td>3.450000</td>\n",
              "      <td>24.936900</td>\n",
              "      <td>24.936900</td>\n",
              "    </tr>\n",
              "    <tr>\n",
              "      <th>75%</th>\n",
              "      <td>100.000000</td>\n",
              "      <td>0.000000</td>\n",
              "      <td>22.600000</td>\n",
              "      <td>43.090000</td>\n",
              "      <td>21.533333</td>\n",
              "      <td>43.290000</td>\n",
              "      <td>23.290000</td>\n",
              "      <td>41.790000</td>\n",
              "      <td>22.100000</td>\n",
              "      <td>42.193333</td>\n",
              "      <td>...</td>\n",
              "      <td>20.600000</td>\n",
              "      <td>44.363333</td>\n",
              "      <td>10.433333</td>\n",
              "      <td>760.966667</td>\n",
              "      <td>91.666667</td>\n",
              "      <td>5.500000</td>\n",
              "      <td>40.000000</td>\n",
              "      <td>6.566667</td>\n",
              "      <td>37.736202</td>\n",
              "      <td>37.736202</td>\n",
              "    </tr>\n",
              "    <tr>\n",
              "      <th>max</th>\n",
              "      <td>1080.000000</td>\n",
              "      <td>60.000000</td>\n",
              "      <td>26.260000</td>\n",
              "      <td>63.360000</td>\n",
              "      <td>29.856667</td>\n",
              "      <td>56.026667</td>\n",
              "      <td>29.200000</td>\n",
              "      <td>50.163333</td>\n",
              "      <td>26.200000</td>\n",
              "      <td>51.090000</td>\n",
              "      <td>...</td>\n",
              "      <td>24.500000</td>\n",
              "      <td>53.326667</td>\n",
              "      <td>26.033333</td>\n",
              "      <td>772.300000</td>\n",
              "      <td>100.000000</td>\n",
              "      <td>14.000000</td>\n",
              "      <td>66.000000</td>\n",
              "      <td>15.500000</td>\n",
              "      <td>49.993173</td>\n",
              "      <td>49.993173</td>\n",
              "    </tr>\n",
              "  </tbody>\n",
              "</table>\n",
              "<p>8 rows × 28 columns</p>\n",
              "</div>\n",
              "      <button class=\"colab-df-convert\" onclick=\"convertToInteractive('df-bbd69088-7f3c-4456-839a-3829f7c1a05d')\"\n",
              "              title=\"Convert this dataframe to an interactive table.\"\n",
              "              style=\"display:none;\">\n",
              "        \n",
              "  <svg xmlns=\"http://www.w3.org/2000/svg\" height=\"24px\"viewBox=\"0 0 24 24\"\n",
              "       width=\"24px\">\n",
              "    <path d=\"M0 0h24v24H0V0z\" fill=\"none\"/>\n",
              "    <path d=\"M18.56 5.44l.94 2.06.94-2.06 2.06-.94-2.06-.94-.94-2.06-.94 2.06-2.06.94zm-11 1L8.5 8.5l.94-2.06 2.06-.94-2.06-.94L8.5 2.5l-.94 2.06-2.06.94zm10 10l.94 2.06.94-2.06 2.06-.94-2.06-.94-.94-2.06-.94 2.06-2.06.94z\"/><path d=\"M17.41 7.96l-1.37-1.37c-.4-.4-.92-.59-1.43-.59-.52 0-1.04.2-1.43.59L10.3 9.45l-7.72 7.72c-.78.78-.78 2.05 0 2.83L4 21.41c.39.39.9.59 1.41.59.51 0 1.02-.2 1.41-.59l7.78-7.78 2.81-2.81c.8-.78.8-2.07 0-2.86zM5.41 20L4 18.59l7.72-7.72 1.47 1.35L5.41 20z\"/>\n",
              "  </svg>\n",
              "      </button>\n",
              "      \n",
              "  <style>\n",
              "    .colab-df-container {\n",
              "      display:flex;\n",
              "      flex-wrap:wrap;\n",
              "      gap: 12px;\n",
              "    }\n",
              "\n",
              "    .colab-df-convert {\n",
              "      background-color: #E8F0FE;\n",
              "      border: none;\n",
              "      border-radius: 50%;\n",
              "      cursor: pointer;\n",
              "      display: none;\n",
              "      fill: #1967D2;\n",
              "      height: 32px;\n",
              "      padding: 0 0 0 0;\n",
              "      width: 32px;\n",
              "    }\n",
              "\n",
              "    .colab-df-convert:hover {\n",
              "      background-color: #E2EBFA;\n",
              "      box-shadow: 0px 1px 2px rgba(60, 64, 67, 0.3), 0px 1px 3px 1px rgba(60, 64, 67, 0.15);\n",
              "      fill: #174EA6;\n",
              "    }\n",
              "\n",
              "    [theme=dark] .colab-df-convert {\n",
              "      background-color: #3B4455;\n",
              "      fill: #D2E3FC;\n",
              "    }\n",
              "\n",
              "    [theme=dark] .colab-df-convert:hover {\n",
              "      background-color: #434B5C;\n",
              "      box-shadow: 0px 1px 3px 1px rgba(0, 0, 0, 0.15);\n",
              "      filter: drop-shadow(0px 1px 2px rgba(0, 0, 0, 0.3));\n",
              "      fill: #FFFFFF;\n",
              "    }\n",
              "  </style>\n",
              "\n",
              "      <script>\n",
              "        const buttonEl =\n",
              "          document.querySelector('#df-bbd69088-7f3c-4456-839a-3829f7c1a05d button.colab-df-convert');\n",
              "        buttonEl.style.display =\n",
              "          google.colab.kernel.accessAllowed ? 'block' : 'none';\n",
              "\n",
              "        async function convertToInteractive(key) {\n",
              "          const element = document.querySelector('#df-bbd69088-7f3c-4456-839a-3829f7c1a05d');\n",
              "          const dataTable =\n",
              "            await google.colab.kernel.invokeFunction('convertToInteractive',\n",
              "                                                     [key], {});\n",
              "          if (!dataTable) return;\n",
              "\n",
              "          const docLinkHtml = 'Like what you see? Visit the ' +\n",
              "            '<a target=\"_blank\" href=https://colab.research.google.com/notebooks/data_table.ipynb>data table notebook</a>'\n",
              "            + ' to learn more about interactive tables.';\n",
              "          element.innerHTML = '';\n",
              "          dataTable['output_type'] = 'display_data';\n",
              "          await google.colab.output.renderOutput(dataTable, element);\n",
              "          const docLink = document.createElement('div');\n",
              "          docLink.innerHTML = docLinkHtml;\n",
              "          element.appendChild(docLink);\n",
              "        }\n",
              "      </script>\n",
              "    </div>\n",
              "  </div>\n",
              "  "
            ]
          },
          "metadata": {},
          "execution_count": 12
        }
      ]
    },
    {
      "cell_type": "code",
      "source": [
        "#Function to convert categorical data to label encoding(We are not using Onehot encoders as the variable is ordinal)\n",
        "def conditions(df):\n",
        "    if (df['Tdewpoint']== 'LDT'):\n",
        "        return 0\n",
        "    elif (df['Tdewpoint']== 'ADT'):\n",
        "        return 1\n",
        "    elif (df['Tdewpoint']== 'NDT'):\n",
        "        return 2\n",
        "    else:\n",
        "        return 3    \n",
        "\n",
        "df['Tdewpoint']= df.apply(conditions, axis=1)"
      ],
      "metadata": {
        "id": "ikke_SbIx-75"
      },
      "execution_count": 13,
      "outputs": []
    },
    {
      "cell_type": "code",
      "source": [
        "#Missing data visualization\n",
        "pd.DataFrame(df.isna().sum(), columns=[\"records missing\"]).T"
      ],
      "metadata": {
        "colab": {
          "base_uri": "https://localhost:8080/",
          "height": 110
        },
        "id": "Ag1HUKv7x-5t",
        "outputId": "4c81da48-0996-4eac-a953-49cff4a4fab0"
      },
      "execution_count": 14,
      "outputs": [
        {
          "output_type": "execute_result",
          "data": {
            "text/plain": [
              "                 date  Appliances  lights  T1  RH_1  T2  RH_2  T3  RH_3  T4  \\\n",
              "records missing     0           0       0   0     0   0     0   0     0   0   \n",
              "\n",
              "                 ...  T9  RH_9  T_out  Press_mm_hg  RH_out  Windspeed  \\\n",
              "records missing  ...   0     0      0            0       0          0   \n",
              "\n",
              "                 Visibility  Tdewpoint  rv1  rv2  \n",
              "records missing           0          0    0    0  \n",
              "\n",
              "[1 rows x 29 columns]"
            ],
            "text/html": [
              "\n",
              "  <div id=\"df-81a272cf-b69b-4a00-a907-6d410dec0104\">\n",
              "    <div class=\"colab-df-container\">\n",
              "      <div>\n",
              "<style scoped>\n",
              "    .dataframe tbody tr th:only-of-type {\n",
              "        vertical-align: middle;\n",
              "    }\n",
              "\n",
              "    .dataframe tbody tr th {\n",
              "        vertical-align: top;\n",
              "    }\n",
              "\n",
              "    .dataframe thead th {\n",
              "        text-align: right;\n",
              "    }\n",
              "</style>\n",
              "<table border=\"1\" class=\"dataframe\">\n",
              "  <thead>\n",
              "    <tr style=\"text-align: right;\">\n",
              "      <th></th>\n",
              "      <th>date</th>\n",
              "      <th>Appliances</th>\n",
              "      <th>lights</th>\n",
              "      <th>T1</th>\n",
              "      <th>RH_1</th>\n",
              "      <th>T2</th>\n",
              "      <th>RH_2</th>\n",
              "      <th>T3</th>\n",
              "      <th>RH_3</th>\n",
              "      <th>T4</th>\n",
              "      <th>...</th>\n",
              "      <th>T9</th>\n",
              "      <th>RH_9</th>\n",
              "      <th>T_out</th>\n",
              "      <th>Press_mm_hg</th>\n",
              "      <th>RH_out</th>\n",
              "      <th>Windspeed</th>\n",
              "      <th>Visibility</th>\n",
              "      <th>Tdewpoint</th>\n",
              "      <th>rv1</th>\n",
              "      <th>rv2</th>\n",
              "    </tr>\n",
              "  </thead>\n",
              "  <tbody>\n",
              "    <tr>\n",
              "      <th>records missing</th>\n",
              "      <td>0</td>\n",
              "      <td>0</td>\n",
              "      <td>0</td>\n",
              "      <td>0</td>\n",
              "      <td>0</td>\n",
              "      <td>0</td>\n",
              "      <td>0</td>\n",
              "      <td>0</td>\n",
              "      <td>0</td>\n",
              "      <td>0</td>\n",
              "      <td>...</td>\n",
              "      <td>0</td>\n",
              "      <td>0</td>\n",
              "      <td>0</td>\n",
              "      <td>0</td>\n",
              "      <td>0</td>\n",
              "      <td>0</td>\n",
              "      <td>0</td>\n",
              "      <td>0</td>\n",
              "      <td>0</td>\n",
              "      <td>0</td>\n",
              "    </tr>\n",
              "  </tbody>\n",
              "</table>\n",
              "<p>1 rows × 29 columns</p>\n",
              "</div>\n",
              "      <button class=\"colab-df-convert\" onclick=\"convertToInteractive('df-81a272cf-b69b-4a00-a907-6d410dec0104')\"\n",
              "              title=\"Convert this dataframe to an interactive table.\"\n",
              "              style=\"display:none;\">\n",
              "        \n",
              "  <svg xmlns=\"http://www.w3.org/2000/svg\" height=\"24px\"viewBox=\"0 0 24 24\"\n",
              "       width=\"24px\">\n",
              "    <path d=\"M0 0h24v24H0V0z\" fill=\"none\"/>\n",
              "    <path d=\"M18.56 5.44l.94 2.06.94-2.06 2.06-.94-2.06-.94-.94-2.06-.94 2.06-2.06.94zm-11 1L8.5 8.5l.94-2.06 2.06-.94-2.06-.94L8.5 2.5l-.94 2.06-2.06.94zm10 10l.94 2.06.94-2.06 2.06-.94-2.06-.94-.94-2.06-.94 2.06-2.06.94z\"/><path d=\"M17.41 7.96l-1.37-1.37c-.4-.4-.92-.59-1.43-.59-.52 0-1.04.2-1.43.59L10.3 9.45l-7.72 7.72c-.78.78-.78 2.05 0 2.83L4 21.41c.39.39.9.59 1.41.59.51 0 1.02-.2 1.41-.59l7.78-7.78 2.81-2.81c.8-.78.8-2.07 0-2.86zM5.41 20L4 18.59l7.72-7.72 1.47 1.35L5.41 20z\"/>\n",
              "  </svg>\n",
              "      </button>\n",
              "      \n",
              "  <style>\n",
              "    .colab-df-container {\n",
              "      display:flex;\n",
              "      flex-wrap:wrap;\n",
              "      gap: 12px;\n",
              "    }\n",
              "\n",
              "    .colab-df-convert {\n",
              "      background-color: #E8F0FE;\n",
              "      border: none;\n",
              "      border-radius: 50%;\n",
              "      cursor: pointer;\n",
              "      display: none;\n",
              "      fill: #1967D2;\n",
              "      height: 32px;\n",
              "      padding: 0 0 0 0;\n",
              "      width: 32px;\n",
              "    }\n",
              "\n",
              "    .colab-df-convert:hover {\n",
              "      background-color: #E2EBFA;\n",
              "      box-shadow: 0px 1px 2px rgba(60, 64, 67, 0.3), 0px 1px 3px 1px rgba(60, 64, 67, 0.15);\n",
              "      fill: #174EA6;\n",
              "    }\n",
              "\n",
              "    [theme=dark] .colab-df-convert {\n",
              "      background-color: #3B4455;\n",
              "      fill: #D2E3FC;\n",
              "    }\n",
              "\n",
              "    [theme=dark] .colab-df-convert:hover {\n",
              "      background-color: #434B5C;\n",
              "      box-shadow: 0px 1px 3px 1px rgba(0, 0, 0, 0.15);\n",
              "      filter: drop-shadow(0px 1px 2px rgba(0, 0, 0, 0.3));\n",
              "      fill: #FFFFFF;\n",
              "    }\n",
              "  </style>\n",
              "\n",
              "      <script>\n",
              "        const buttonEl =\n",
              "          document.querySelector('#df-81a272cf-b69b-4a00-a907-6d410dec0104 button.colab-df-convert');\n",
              "        buttonEl.style.display =\n",
              "          google.colab.kernel.accessAllowed ? 'block' : 'none';\n",
              "\n",
              "        async function convertToInteractive(key) {\n",
              "          const element = document.querySelector('#df-81a272cf-b69b-4a00-a907-6d410dec0104');\n",
              "          const dataTable =\n",
              "            await google.colab.kernel.invokeFunction('convertToInteractive',\n",
              "                                                     [key], {});\n",
              "          if (!dataTable) return;\n",
              "\n",
              "          const docLinkHtml = 'Like what you see? Visit the ' +\n",
              "            '<a target=\"_blank\" href=https://colab.research.google.com/notebooks/data_table.ipynb>data table notebook</a>'\n",
              "            + ' to learn more about interactive tables.';\n",
              "          element.innerHTML = '';\n",
              "          dataTable['output_type'] = 'display_data';\n",
              "          await google.colab.output.renderOutput(dataTable, element);\n",
              "          const docLink = document.createElement('div');\n",
              "          docLink.innerHTML = docLinkHtml;\n",
              "          element.appendChild(docLink);\n",
              "        }\n",
              "      </script>\n",
              "    </div>\n",
              "  </div>\n",
              "  "
            ]
          },
          "metadata": {},
          "execution_count": 14
        }
      ]
    },
    {
      "cell_type": "code",
      "source": [
        "# Divide the columns based on type for clear column management \n",
        "\n",
        "col_temp = [\"T1\",\"T2\",\"T3\",\"T4\",\"T5\",\"T6\",\"T7\",\"T8\",\"T9\"]\n",
        "\n",
        "col_hum = [\"RH_1\",\"RH_2\",\"RH_3\",\"RH_4\",\"RH_5\",\"RH_6\",\"RH_7\",\"RH_8\",\"RH_9\"]\n",
        "\n",
        "col_weather = [\"T_out\", \"Tdewpoint\",\"RH_out\",\"Press_mm_hg\",\n",
        "                \"Windspeed\",\"Visibility\"] \n",
        "\n",
        "col_randoms = [\"rv1\", \"rv2\"]\n",
        "\n",
        "col_target = [\"Appliances\"]"
      ],
      "metadata": {
        "id": "CA504NRQx-2M"
      },
      "execution_count": 15,
      "outputs": []
    },
    {
      "cell_type": "code",
      "source": [
        "feature_vars = df[col_temp + col_hum + col_weather + col_randoms] \n",
        "target_vars = df[col_target]"
      ],
      "metadata": {
        "id": "qVKpEm5Yyod4"
      },
      "execution_count": 16,
      "outputs": []
    },
    {
      "cell_type": "code",
      "source": [
        "feature_vars.describe()"
      ],
      "metadata": {
        "colab": {
          "base_uri": "https://localhost:8080/",
          "height": 394
        },
        "id": "fFl1Ij99yoae",
        "outputId": "e9d6b38b-14f0-40b8-b4c4-a0b47c9bd09b"
      },
      "execution_count": 17,
      "outputs": [
        {
          "output_type": "execute_result",
          "data": {
            "text/plain": [
              "                 T1            T2            T3            T4            T5  \\\n",
              "count  19735.000000  19735.000000  19735.000000  19735.000000  19735.000000   \n",
              "mean      21.686571     20.341219     22.267611     20.855335     19.592106   \n",
              "std        1.606066      2.192974      2.006111      2.042884      1.844623   \n",
              "min       16.790000     16.100000     17.200000     15.100000     15.330000   \n",
              "25%       20.760000     18.790000     20.790000     19.530000     18.277500   \n",
              "50%       21.600000     20.000000     22.100000     20.666667     19.390000   \n",
              "75%       22.600000     21.500000     23.290000     22.100000     20.619643   \n",
              "max       26.260000     29.856667     29.236000     26.200000     25.795000   \n",
              "\n",
              "                 T6            T7            T8            T9          RH_1  \\\n",
              "count  19735.000000  19735.000000  19735.000000  19735.000000  19735.000000   \n",
              "mean       7.910939     20.267106     22.029107     19.485828     40.259739   \n",
              "std        6.090347      2.109993      1.956162      2.014712      3.979299   \n",
              "min       -6.065000     15.390000     16.306667     14.890000     27.023333   \n",
              "25%        3.626667     18.700000     20.790000     18.000000     37.333333   \n",
              "50%        7.300000     20.033333     22.100000     19.390000     39.656667   \n",
              "75%       11.256000     21.600000     23.390000     20.600000     43.066667   \n",
              "max       28.290000     26.000000     27.230000     24.500000     63.360000   \n",
              "\n",
              "       ...          RH_8          RH_9         T_out  Tdewpoint        RH_out  \\\n",
              "count  ...  19735.000000  19735.000000  19735.000000    19735.0  19735.000000   \n",
              "mean   ...     42.936165     41.552401      7.411665        3.0     79.750418   \n",
              "std    ...      5.224361      4.151497      5.317409        0.0     14.901088   \n",
              "min    ...     29.600000     29.166667     -5.000000        3.0     24.000000   \n",
              "25%    ...     39.066667     38.500000      3.666667        3.0     70.333333   \n",
              "50%    ...     42.375000     40.900000      6.916667        3.0     83.666667   \n",
              "75%    ...     46.536000     44.338095     10.408333        3.0     91.666667   \n",
              "max    ...     58.780000     53.326667     26.100000        3.0    100.000000   \n",
              "\n",
              "        Press_mm_hg     Windspeed    Visibility           rv1           rv2  \n",
              "count  19735.000000  19735.000000  19735.000000  19735.000000  19735.000000  \n",
              "mean     755.522602      4.039752     38.330834     24.988033     24.988033  \n",
              "std        7.399441      2.451221     11.794719     14.496634     14.496634  \n",
              "min      729.300000      0.000000      1.000000      0.005322      0.005322  \n",
              "25%      750.933333      2.000000     29.000000     12.497889     12.497889  \n",
              "50%      756.100000      3.666667     40.000000     24.897653     24.897653  \n",
              "75%      760.933333      5.500000     40.000000     37.583769     37.583769  \n",
              "max      772.300000     14.000000     66.000000     49.996530     49.996530  \n",
              "\n",
              "[8 rows x 26 columns]"
            ],
            "text/html": [
              "\n",
              "  <div id=\"df-101888fd-9e17-4530-96b1-df8b0f44a27b\">\n",
              "    <div class=\"colab-df-container\">\n",
              "      <div>\n",
              "<style scoped>\n",
              "    .dataframe tbody tr th:only-of-type {\n",
              "        vertical-align: middle;\n",
              "    }\n",
              "\n",
              "    .dataframe tbody tr th {\n",
              "        vertical-align: top;\n",
              "    }\n",
              "\n",
              "    .dataframe thead th {\n",
              "        text-align: right;\n",
              "    }\n",
              "</style>\n",
              "<table border=\"1\" class=\"dataframe\">\n",
              "  <thead>\n",
              "    <tr style=\"text-align: right;\">\n",
              "      <th></th>\n",
              "      <th>T1</th>\n",
              "      <th>T2</th>\n",
              "      <th>T3</th>\n",
              "      <th>T4</th>\n",
              "      <th>T5</th>\n",
              "      <th>T6</th>\n",
              "      <th>T7</th>\n",
              "      <th>T8</th>\n",
              "      <th>T9</th>\n",
              "      <th>RH_1</th>\n",
              "      <th>...</th>\n",
              "      <th>RH_8</th>\n",
              "      <th>RH_9</th>\n",
              "      <th>T_out</th>\n",
              "      <th>Tdewpoint</th>\n",
              "      <th>RH_out</th>\n",
              "      <th>Press_mm_hg</th>\n",
              "      <th>Windspeed</th>\n",
              "      <th>Visibility</th>\n",
              "      <th>rv1</th>\n",
              "      <th>rv2</th>\n",
              "    </tr>\n",
              "  </thead>\n",
              "  <tbody>\n",
              "    <tr>\n",
              "      <th>count</th>\n",
              "      <td>19735.000000</td>\n",
              "      <td>19735.000000</td>\n",
              "      <td>19735.000000</td>\n",
              "      <td>19735.000000</td>\n",
              "      <td>19735.000000</td>\n",
              "      <td>19735.000000</td>\n",
              "      <td>19735.000000</td>\n",
              "      <td>19735.000000</td>\n",
              "      <td>19735.000000</td>\n",
              "      <td>19735.000000</td>\n",
              "      <td>...</td>\n",
              "      <td>19735.000000</td>\n",
              "      <td>19735.000000</td>\n",
              "      <td>19735.000000</td>\n",
              "      <td>19735.0</td>\n",
              "      <td>19735.000000</td>\n",
              "      <td>19735.000000</td>\n",
              "      <td>19735.000000</td>\n",
              "      <td>19735.000000</td>\n",
              "      <td>19735.000000</td>\n",
              "      <td>19735.000000</td>\n",
              "    </tr>\n",
              "    <tr>\n",
              "      <th>mean</th>\n",
              "      <td>21.686571</td>\n",
              "      <td>20.341219</td>\n",
              "      <td>22.267611</td>\n",
              "      <td>20.855335</td>\n",
              "      <td>19.592106</td>\n",
              "      <td>7.910939</td>\n",
              "      <td>20.267106</td>\n",
              "      <td>22.029107</td>\n",
              "      <td>19.485828</td>\n",
              "      <td>40.259739</td>\n",
              "      <td>...</td>\n",
              "      <td>42.936165</td>\n",
              "      <td>41.552401</td>\n",
              "      <td>7.411665</td>\n",
              "      <td>3.0</td>\n",
              "      <td>79.750418</td>\n",
              "      <td>755.522602</td>\n",
              "      <td>4.039752</td>\n",
              "      <td>38.330834</td>\n",
              "      <td>24.988033</td>\n",
              "      <td>24.988033</td>\n",
              "    </tr>\n",
              "    <tr>\n",
              "      <th>std</th>\n",
              "      <td>1.606066</td>\n",
              "      <td>2.192974</td>\n",
              "      <td>2.006111</td>\n",
              "      <td>2.042884</td>\n",
              "      <td>1.844623</td>\n",
              "      <td>6.090347</td>\n",
              "      <td>2.109993</td>\n",
              "      <td>1.956162</td>\n",
              "      <td>2.014712</td>\n",
              "      <td>3.979299</td>\n",
              "      <td>...</td>\n",
              "      <td>5.224361</td>\n",
              "      <td>4.151497</td>\n",
              "      <td>5.317409</td>\n",
              "      <td>0.0</td>\n",
              "      <td>14.901088</td>\n",
              "      <td>7.399441</td>\n",
              "      <td>2.451221</td>\n",
              "      <td>11.794719</td>\n",
              "      <td>14.496634</td>\n",
              "      <td>14.496634</td>\n",
              "    </tr>\n",
              "    <tr>\n",
              "      <th>min</th>\n",
              "      <td>16.790000</td>\n",
              "      <td>16.100000</td>\n",
              "      <td>17.200000</td>\n",
              "      <td>15.100000</td>\n",
              "      <td>15.330000</td>\n",
              "      <td>-6.065000</td>\n",
              "      <td>15.390000</td>\n",
              "      <td>16.306667</td>\n",
              "      <td>14.890000</td>\n",
              "      <td>27.023333</td>\n",
              "      <td>...</td>\n",
              "      <td>29.600000</td>\n",
              "      <td>29.166667</td>\n",
              "      <td>-5.000000</td>\n",
              "      <td>3.0</td>\n",
              "      <td>24.000000</td>\n",
              "      <td>729.300000</td>\n",
              "      <td>0.000000</td>\n",
              "      <td>1.000000</td>\n",
              "      <td>0.005322</td>\n",
              "      <td>0.005322</td>\n",
              "    </tr>\n",
              "    <tr>\n",
              "      <th>25%</th>\n",
              "      <td>20.760000</td>\n",
              "      <td>18.790000</td>\n",
              "      <td>20.790000</td>\n",
              "      <td>19.530000</td>\n",
              "      <td>18.277500</td>\n",
              "      <td>3.626667</td>\n",
              "      <td>18.700000</td>\n",
              "      <td>20.790000</td>\n",
              "      <td>18.000000</td>\n",
              "      <td>37.333333</td>\n",
              "      <td>...</td>\n",
              "      <td>39.066667</td>\n",
              "      <td>38.500000</td>\n",
              "      <td>3.666667</td>\n",
              "      <td>3.0</td>\n",
              "      <td>70.333333</td>\n",
              "      <td>750.933333</td>\n",
              "      <td>2.000000</td>\n",
              "      <td>29.000000</td>\n",
              "      <td>12.497889</td>\n",
              "      <td>12.497889</td>\n",
              "    </tr>\n",
              "    <tr>\n",
              "      <th>50%</th>\n",
              "      <td>21.600000</td>\n",
              "      <td>20.000000</td>\n",
              "      <td>22.100000</td>\n",
              "      <td>20.666667</td>\n",
              "      <td>19.390000</td>\n",
              "      <td>7.300000</td>\n",
              "      <td>20.033333</td>\n",
              "      <td>22.100000</td>\n",
              "      <td>19.390000</td>\n",
              "      <td>39.656667</td>\n",
              "      <td>...</td>\n",
              "      <td>42.375000</td>\n",
              "      <td>40.900000</td>\n",
              "      <td>6.916667</td>\n",
              "      <td>3.0</td>\n",
              "      <td>83.666667</td>\n",
              "      <td>756.100000</td>\n",
              "      <td>3.666667</td>\n",
              "      <td>40.000000</td>\n",
              "      <td>24.897653</td>\n",
              "      <td>24.897653</td>\n",
              "    </tr>\n",
              "    <tr>\n",
              "      <th>75%</th>\n",
              "      <td>22.600000</td>\n",
              "      <td>21.500000</td>\n",
              "      <td>23.290000</td>\n",
              "      <td>22.100000</td>\n",
              "      <td>20.619643</td>\n",
              "      <td>11.256000</td>\n",
              "      <td>21.600000</td>\n",
              "      <td>23.390000</td>\n",
              "      <td>20.600000</td>\n",
              "      <td>43.066667</td>\n",
              "      <td>...</td>\n",
              "      <td>46.536000</td>\n",
              "      <td>44.338095</td>\n",
              "      <td>10.408333</td>\n",
              "      <td>3.0</td>\n",
              "      <td>91.666667</td>\n",
              "      <td>760.933333</td>\n",
              "      <td>5.500000</td>\n",
              "      <td>40.000000</td>\n",
              "      <td>37.583769</td>\n",
              "      <td>37.583769</td>\n",
              "    </tr>\n",
              "    <tr>\n",
              "      <th>max</th>\n",
              "      <td>26.260000</td>\n",
              "      <td>29.856667</td>\n",
              "      <td>29.236000</td>\n",
              "      <td>26.200000</td>\n",
              "      <td>25.795000</td>\n",
              "      <td>28.290000</td>\n",
              "      <td>26.000000</td>\n",
              "      <td>27.230000</td>\n",
              "      <td>24.500000</td>\n",
              "      <td>63.360000</td>\n",
              "      <td>...</td>\n",
              "      <td>58.780000</td>\n",
              "      <td>53.326667</td>\n",
              "      <td>26.100000</td>\n",
              "      <td>3.0</td>\n",
              "      <td>100.000000</td>\n",
              "      <td>772.300000</td>\n",
              "      <td>14.000000</td>\n",
              "      <td>66.000000</td>\n",
              "      <td>49.996530</td>\n",
              "      <td>49.996530</td>\n",
              "    </tr>\n",
              "  </tbody>\n",
              "</table>\n",
              "<p>8 rows × 26 columns</p>\n",
              "</div>\n",
              "      <button class=\"colab-df-convert\" onclick=\"convertToInteractive('df-101888fd-9e17-4530-96b1-df8b0f44a27b')\"\n",
              "              title=\"Convert this dataframe to an interactive table.\"\n",
              "              style=\"display:none;\">\n",
              "        \n",
              "  <svg xmlns=\"http://www.w3.org/2000/svg\" height=\"24px\"viewBox=\"0 0 24 24\"\n",
              "       width=\"24px\">\n",
              "    <path d=\"M0 0h24v24H0V0z\" fill=\"none\"/>\n",
              "    <path d=\"M18.56 5.44l.94 2.06.94-2.06 2.06-.94-2.06-.94-.94-2.06-.94 2.06-2.06.94zm-11 1L8.5 8.5l.94-2.06 2.06-.94-2.06-.94L8.5 2.5l-.94 2.06-2.06.94zm10 10l.94 2.06.94-2.06 2.06-.94-2.06-.94-.94-2.06-.94 2.06-2.06.94z\"/><path d=\"M17.41 7.96l-1.37-1.37c-.4-.4-.92-.59-1.43-.59-.52 0-1.04.2-1.43.59L10.3 9.45l-7.72 7.72c-.78.78-.78 2.05 0 2.83L4 21.41c.39.39.9.59 1.41.59.51 0 1.02-.2 1.41-.59l7.78-7.78 2.81-2.81c.8-.78.8-2.07 0-2.86zM5.41 20L4 18.59l7.72-7.72 1.47 1.35L5.41 20z\"/>\n",
              "  </svg>\n",
              "      </button>\n",
              "      \n",
              "  <style>\n",
              "    .colab-df-container {\n",
              "      display:flex;\n",
              "      flex-wrap:wrap;\n",
              "      gap: 12px;\n",
              "    }\n",
              "\n",
              "    .colab-df-convert {\n",
              "      background-color: #E8F0FE;\n",
              "      border: none;\n",
              "      border-radius: 50%;\n",
              "      cursor: pointer;\n",
              "      display: none;\n",
              "      fill: #1967D2;\n",
              "      height: 32px;\n",
              "      padding: 0 0 0 0;\n",
              "      width: 32px;\n",
              "    }\n",
              "\n",
              "    .colab-df-convert:hover {\n",
              "      background-color: #E2EBFA;\n",
              "      box-shadow: 0px 1px 2px rgba(60, 64, 67, 0.3), 0px 1px 3px 1px rgba(60, 64, 67, 0.15);\n",
              "      fill: #174EA6;\n",
              "    }\n",
              "\n",
              "    [theme=dark] .colab-df-convert {\n",
              "      background-color: #3B4455;\n",
              "      fill: #D2E3FC;\n",
              "    }\n",
              "\n",
              "    [theme=dark] .colab-df-convert:hover {\n",
              "      background-color: #434B5C;\n",
              "      box-shadow: 0px 1px 3px 1px rgba(0, 0, 0, 0.15);\n",
              "      filter: drop-shadow(0px 1px 2px rgba(0, 0, 0, 0.3));\n",
              "      fill: #FFFFFF;\n",
              "    }\n",
              "  </style>\n",
              "\n",
              "      <script>\n",
              "        const buttonEl =\n",
              "          document.querySelector('#df-101888fd-9e17-4530-96b1-df8b0f44a27b button.colab-df-convert');\n",
              "        buttonEl.style.display =\n",
              "          google.colab.kernel.accessAllowed ? 'block' : 'none';\n",
              "\n",
              "        async function convertToInteractive(key) {\n",
              "          const element = document.querySelector('#df-101888fd-9e17-4530-96b1-df8b0f44a27b');\n",
              "          const dataTable =\n",
              "            await google.colab.kernel.invokeFunction('convertToInteractive',\n",
              "                                                     [key], {});\n",
              "          if (!dataTable) return;\n",
              "\n",
              "          const docLinkHtml = 'Like what you see? Visit the ' +\n",
              "            '<a target=\"_blank\" href=https://colab.research.google.com/notebooks/data_table.ipynb>data table notebook</a>'\n",
              "            + ' to learn more about interactive tables.';\n",
              "          element.innerHTML = '';\n",
              "          dataTable['output_type'] = 'display_data';\n",
              "          await google.colab.output.renderOutput(dataTable, element);\n",
              "          const docLink = document.createElement('div');\n",
              "          docLink.innerHTML = docLinkHtml;\n",
              "          element.appendChild(docLink);\n",
              "        }\n",
              "      </script>\n",
              "    </div>\n",
              "  </div>\n",
              "  "
            ]
          },
          "metadata": {},
          "execution_count": 17
        }
      ]
    },
    {
      "cell_type": "code",
      "source": [
        "target_vars.describe()"
      ],
      "metadata": {
        "colab": {
          "base_uri": "https://localhost:8080/",
          "height": 300
        },
        "id": "ofdrlO8gyoXv",
        "outputId": "958643c8-ef43-48eb-8970-c50414a93e11"
      },
      "execution_count": 18,
      "outputs": [
        {
          "output_type": "execute_result",
          "data": {
            "text/plain": [
              "         Appliances\n",
              "count  19735.000000\n",
              "mean      97.694958\n",
              "std      102.524891\n",
              "min       10.000000\n",
              "25%       50.000000\n",
              "50%       60.000000\n",
              "75%      100.000000\n",
              "max     1080.000000"
            ],
            "text/html": [
              "\n",
              "  <div id=\"df-18d8d36b-86fd-47d9-8de0-e0e15815a8a3\">\n",
              "    <div class=\"colab-df-container\">\n",
              "      <div>\n",
              "<style scoped>\n",
              "    .dataframe tbody tr th:only-of-type {\n",
              "        vertical-align: middle;\n",
              "    }\n",
              "\n",
              "    .dataframe tbody tr th {\n",
              "        vertical-align: top;\n",
              "    }\n",
              "\n",
              "    .dataframe thead th {\n",
              "        text-align: right;\n",
              "    }\n",
              "</style>\n",
              "<table border=\"1\" class=\"dataframe\">\n",
              "  <thead>\n",
              "    <tr style=\"text-align: right;\">\n",
              "      <th></th>\n",
              "      <th>Appliances</th>\n",
              "    </tr>\n",
              "  </thead>\n",
              "  <tbody>\n",
              "    <tr>\n",
              "      <th>count</th>\n",
              "      <td>19735.000000</td>\n",
              "    </tr>\n",
              "    <tr>\n",
              "      <th>mean</th>\n",
              "      <td>97.694958</td>\n",
              "    </tr>\n",
              "    <tr>\n",
              "      <th>std</th>\n",
              "      <td>102.524891</td>\n",
              "    </tr>\n",
              "    <tr>\n",
              "      <th>min</th>\n",
              "      <td>10.000000</td>\n",
              "    </tr>\n",
              "    <tr>\n",
              "      <th>25%</th>\n",
              "      <td>50.000000</td>\n",
              "    </tr>\n",
              "    <tr>\n",
              "      <th>50%</th>\n",
              "      <td>60.000000</td>\n",
              "    </tr>\n",
              "    <tr>\n",
              "      <th>75%</th>\n",
              "      <td>100.000000</td>\n",
              "    </tr>\n",
              "    <tr>\n",
              "      <th>max</th>\n",
              "      <td>1080.000000</td>\n",
              "    </tr>\n",
              "  </tbody>\n",
              "</table>\n",
              "</div>\n",
              "      <button class=\"colab-df-convert\" onclick=\"convertToInteractive('df-18d8d36b-86fd-47d9-8de0-e0e15815a8a3')\"\n",
              "              title=\"Convert this dataframe to an interactive table.\"\n",
              "              style=\"display:none;\">\n",
              "        \n",
              "  <svg xmlns=\"http://www.w3.org/2000/svg\" height=\"24px\"viewBox=\"0 0 24 24\"\n",
              "       width=\"24px\">\n",
              "    <path d=\"M0 0h24v24H0V0z\" fill=\"none\"/>\n",
              "    <path d=\"M18.56 5.44l.94 2.06.94-2.06 2.06-.94-2.06-.94-.94-2.06-.94 2.06-2.06.94zm-11 1L8.5 8.5l.94-2.06 2.06-.94-2.06-.94L8.5 2.5l-.94 2.06-2.06.94zm10 10l.94 2.06.94-2.06 2.06-.94-2.06-.94-.94-2.06-.94 2.06-2.06.94z\"/><path d=\"M17.41 7.96l-1.37-1.37c-.4-.4-.92-.59-1.43-.59-.52 0-1.04.2-1.43.59L10.3 9.45l-7.72 7.72c-.78.78-.78 2.05 0 2.83L4 21.41c.39.39.9.59 1.41.59.51 0 1.02-.2 1.41-.59l7.78-7.78 2.81-2.81c.8-.78.8-2.07 0-2.86zM5.41 20L4 18.59l7.72-7.72 1.47 1.35L5.41 20z\"/>\n",
              "  </svg>\n",
              "      </button>\n",
              "      \n",
              "  <style>\n",
              "    .colab-df-container {\n",
              "      display:flex;\n",
              "      flex-wrap:wrap;\n",
              "      gap: 12px;\n",
              "    }\n",
              "\n",
              "    .colab-df-convert {\n",
              "      background-color: #E8F0FE;\n",
              "      border: none;\n",
              "      border-radius: 50%;\n",
              "      cursor: pointer;\n",
              "      display: none;\n",
              "      fill: #1967D2;\n",
              "      height: 32px;\n",
              "      padding: 0 0 0 0;\n",
              "      width: 32px;\n",
              "    }\n",
              "\n",
              "    .colab-df-convert:hover {\n",
              "      background-color: #E2EBFA;\n",
              "      box-shadow: 0px 1px 2px rgba(60, 64, 67, 0.3), 0px 1px 3px 1px rgba(60, 64, 67, 0.15);\n",
              "      fill: #174EA6;\n",
              "    }\n",
              "\n",
              "    [theme=dark] .colab-df-convert {\n",
              "      background-color: #3B4455;\n",
              "      fill: #D2E3FC;\n",
              "    }\n",
              "\n",
              "    [theme=dark] .colab-df-convert:hover {\n",
              "      background-color: #434B5C;\n",
              "      box-shadow: 0px 1px 3px 1px rgba(0, 0, 0, 0.15);\n",
              "      filter: drop-shadow(0px 1px 2px rgba(0, 0, 0, 0.3));\n",
              "      fill: #FFFFFF;\n",
              "    }\n",
              "  </style>\n",
              "\n",
              "      <script>\n",
              "        const buttonEl =\n",
              "          document.querySelector('#df-18d8d36b-86fd-47d9-8de0-e0e15815a8a3 button.colab-df-convert');\n",
              "        buttonEl.style.display =\n",
              "          google.colab.kernel.accessAllowed ? 'block' : 'none';\n",
              "\n",
              "        async function convertToInteractive(key) {\n",
              "          const element = document.querySelector('#df-18d8d36b-86fd-47d9-8de0-e0e15815a8a3');\n",
              "          const dataTable =\n",
              "            await google.colab.kernel.invokeFunction('convertToInteractive',\n",
              "                                                     [key], {});\n",
              "          if (!dataTable) return;\n",
              "\n",
              "          const docLinkHtml = 'Like what you see? Visit the ' +\n",
              "            '<a target=\"_blank\" href=https://colab.research.google.com/notebooks/data_table.ipynb>data table notebook</a>'\n",
              "            + ' to learn more about interactive tables.';\n",
              "          element.innerHTML = '';\n",
              "          dataTable['output_type'] = 'display_data';\n",
              "          await google.colab.output.renderOutput(dataTable, element);\n",
              "          const docLink = document.createElement('div');\n",
              "          docLink.innerHTML = docLinkHtml;\n",
              "          element.appendChild(docLink);\n",
              "        }\n",
              "      </script>\n",
              "    </div>\n",
              "  </div>\n",
              "  "
            ]
          },
          "metadata": {},
          "execution_count": 18
        }
      ]
    },
    {
      "cell_type": "code",
      "source": [
        "feature_vars.head(2)"
      ],
      "metadata": {
        "colab": {
          "base_uri": "https://localhost:8080/",
          "height": 185
        },
        "id": "cHcr1XaCyoVV",
        "outputId": "c2f7f69b-f122-45c3-e080-636d5590c2da"
      },
      "execution_count": 19,
      "outputs": [
        {
          "output_type": "execute_result",
          "data": {
            "text/plain": [
              "      T1    T2     T3    T4         T5        T6    T7    T8         T9  \\\n",
              "0  19.89  19.2  19.79  19.0  17.166667  7.026667  17.2  18.2  17.033333   \n",
              "1  19.89  19.2  19.79  19.0  17.166667  6.833333  17.2  18.2  17.066667   \n",
              "\n",
              "        RH_1  ...       RH_8   RH_9     T_out  Tdewpoint  RH_out  Press_mm_hg  \\\n",
              "0  47.596667  ...  48.900000  45.53  6.600000          3    92.0        733.5   \n",
              "1  46.693333  ...  48.863333  45.56  6.483333          3    92.0        733.6   \n",
              "\n",
              "   Windspeed  Visibility        rv1        rv2  \n",
              "0   7.000000   63.000000  13.275433  13.275433  \n",
              "1   6.666667   59.166667  18.606195  18.606195  \n",
              "\n",
              "[2 rows x 26 columns]"
            ],
            "text/html": [
              "\n",
              "  <div id=\"df-a34bfb54-3c08-40c5-8bda-11a6fe0192cf\">\n",
              "    <div class=\"colab-df-container\">\n",
              "      <div>\n",
              "<style scoped>\n",
              "    .dataframe tbody tr th:only-of-type {\n",
              "        vertical-align: middle;\n",
              "    }\n",
              "\n",
              "    .dataframe tbody tr th {\n",
              "        vertical-align: top;\n",
              "    }\n",
              "\n",
              "    .dataframe thead th {\n",
              "        text-align: right;\n",
              "    }\n",
              "</style>\n",
              "<table border=\"1\" class=\"dataframe\">\n",
              "  <thead>\n",
              "    <tr style=\"text-align: right;\">\n",
              "      <th></th>\n",
              "      <th>T1</th>\n",
              "      <th>T2</th>\n",
              "      <th>T3</th>\n",
              "      <th>T4</th>\n",
              "      <th>T5</th>\n",
              "      <th>T6</th>\n",
              "      <th>T7</th>\n",
              "      <th>T8</th>\n",
              "      <th>T9</th>\n",
              "      <th>RH_1</th>\n",
              "      <th>...</th>\n",
              "      <th>RH_8</th>\n",
              "      <th>RH_9</th>\n",
              "      <th>T_out</th>\n",
              "      <th>Tdewpoint</th>\n",
              "      <th>RH_out</th>\n",
              "      <th>Press_mm_hg</th>\n",
              "      <th>Windspeed</th>\n",
              "      <th>Visibility</th>\n",
              "      <th>rv1</th>\n",
              "      <th>rv2</th>\n",
              "    </tr>\n",
              "  </thead>\n",
              "  <tbody>\n",
              "    <tr>\n",
              "      <th>0</th>\n",
              "      <td>19.89</td>\n",
              "      <td>19.2</td>\n",
              "      <td>19.79</td>\n",
              "      <td>19.0</td>\n",
              "      <td>17.166667</td>\n",
              "      <td>7.026667</td>\n",
              "      <td>17.2</td>\n",
              "      <td>18.2</td>\n",
              "      <td>17.033333</td>\n",
              "      <td>47.596667</td>\n",
              "      <td>...</td>\n",
              "      <td>48.900000</td>\n",
              "      <td>45.53</td>\n",
              "      <td>6.600000</td>\n",
              "      <td>3</td>\n",
              "      <td>92.0</td>\n",
              "      <td>733.5</td>\n",
              "      <td>7.000000</td>\n",
              "      <td>63.000000</td>\n",
              "      <td>13.275433</td>\n",
              "      <td>13.275433</td>\n",
              "    </tr>\n",
              "    <tr>\n",
              "      <th>1</th>\n",
              "      <td>19.89</td>\n",
              "      <td>19.2</td>\n",
              "      <td>19.79</td>\n",
              "      <td>19.0</td>\n",
              "      <td>17.166667</td>\n",
              "      <td>6.833333</td>\n",
              "      <td>17.2</td>\n",
              "      <td>18.2</td>\n",
              "      <td>17.066667</td>\n",
              "      <td>46.693333</td>\n",
              "      <td>...</td>\n",
              "      <td>48.863333</td>\n",
              "      <td>45.56</td>\n",
              "      <td>6.483333</td>\n",
              "      <td>3</td>\n",
              "      <td>92.0</td>\n",
              "      <td>733.6</td>\n",
              "      <td>6.666667</td>\n",
              "      <td>59.166667</td>\n",
              "      <td>18.606195</td>\n",
              "      <td>18.606195</td>\n",
              "    </tr>\n",
              "  </tbody>\n",
              "</table>\n",
              "<p>2 rows × 26 columns</p>\n",
              "</div>\n",
              "      <button class=\"colab-df-convert\" onclick=\"convertToInteractive('df-a34bfb54-3c08-40c5-8bda-11a6fe0192cf')\"\n",
              "              title=\"Convert this dataframe to an interactive table.\"\n",
              "              style=\"display:none;\">\n",
              "        \n",
              "  <svg xmlns=\"http://www.w3.org/2000/svg\" height=\"24px\"viewBox=\"0 0 24 24\"\n",
              "       width=\"24px\">\n",
              "    <path d=\"M0 0h24v24H0V0z\" fill=\"none\"/>\n",
              "    <path d=\"M18.56 5.44l.94 2.06.94-2.06 2.06-.94-2.06-.94-.94-2.06-.94 2.06-2.06.94zm-11 1L8.5 8.5l.94-2.06 2.06-.94-2.06-.94L8.5 2.5l-.94 2.06-2.06.94zm10 10l.94 2.06.94-2.06 2.06-.94-2.06-.94-.94-2.06-.94 2.06-2.06.94z\"/><path d=\"M17.41 7.96l-1.37-1.37c-.4-.4-.92-.59-1.43-.59-.52 0-1.04.2-1.43.59L10.3 9.45l-7.72 7.72c-.78.78-.78 2.05 0 2.83L4 21.41c.39.39.9.59 1.41.59.51 0 1.02-.2 1.41-.59l7.78-7.78 2.81-2.81c.8-.78.8-2.07 0-2.86zM5.41 20L4 18.59l7.72-7.72 1.47 1.35L5.41 20z\"/>\n",
              "  </svg>\n",
              "      </button>\n",
              "      \n",
              "  <style>\n",
              "    .colab-df-container {\n",
              "      display:flex;\n",
              "      flex-wrap:wrap;\n",
              "      gap: 12px;\n",
              "    }\n",
              "\n",
              "    .colab-df-convert {\n",
              "      background-color: #E8F0FE;\n",
              "      border: none;\n",
              "      border-radius: 50%;\n",
              "      cursor: pointer;\n",
              "      display: none;\n",
              "      fill: #1967D2;\n",
              "      height: 32px;\n",
              "      padding: 0 0 0 0;\n",
              "      width: 32px;\n",
              "    }\n",
              "\n",
              "    .colab-df-convert:hover {\n",
              "      background-color: #E2EBFA;\n",
              "      box-shadow: 0px 1px 2px rgba(60, 64, 67, 0.3), 0px 1px 3px 1px rgba(60, 64, 67, 0.15);\n",
              "      fill: #174EA6;\n",
              "    }\n",
              "\n",
              "    [theme=dark] .colab-df-convert {\n",
              "      background-color: #3B4455;\n",
              "      fill: #D2E3FC;\n",
              "    }\n",
              "\n",
              "    [theme=dark] .colab-df-convert:hover {\n",
              "      background-color: #434B5C;\n",
              "      box-shadow: 0px 1px 3px 1px rgba(0, 0, 0, 0.15);\n",
              "      filter: drop-shadow(0px 1px 2px rgba(0, 0, 0, 0.3));\n",
              "      fill: #FFFFFF;\n",
              "    }\n",
              "  </style>\n",
              "\n",
              "      <script>\n",
              "        const buttonEl =\n",
              "          document.querySelector('#df-a34bfb54-3c08-40c5-8bda-11a6fe0192cf button.colab-df-convert');\n",
              "        buttonEl.style.display =\n",
              "          google.colab.kernel.accessAllowed ? 'block' : 'none';\n",
              "\n",
              "        async function convertToInteractive(key) {\n",
              "          const element = document.querySelector('#df-a34bfb54-3c08-40c5-8bda-11a6fe0192cf');\n",
              "          const dataTable =\n",
              "            await google.colab.kernel.invokeFunction('convertToInteractive',\n",
              "                                                     [key], {});\n",
              "          if (!dataTable) return;\n",
              "\n",
              "          const docLinkHtml = 'Like what you see? Visit the ' +\n",
              "            '<a target=\"_blank\" href=https://colab.research.google.com/notebooks/data_table.ipynb>data table notebook</a>'\n",
              "            + ' to learn more about interactive tables.';\n",
              "          element.innerHTML = '';\n",
              "          dataTable['output_type'] = 'display_data';\n",
              "          await google.colab.output.renderOutput(dataTable, element);\n",
              "          const docLink = document.createElement('div');\n",
              "          docLink.innerHTML = docLinkHtml;\n",
              "          element.appendChild(docLink);\n",
              "        }\n",
              "      </script>\n",
              "    </div>\n",
              "  </div>\n",
              "  "
            ]
          },
          "metadata": {},
          "execution_count": 19
        }
      ]
    },
    {
      "cell_type": "markdown",
      "source": [
        "#Data Visualization"
      ],
      "metadata": {
        "id": "ywS3fkDEzPhY"
      }
    },
    {
      "cell_type": "code",
      "source": [
        "# focussed displots for RH_6 , RH_out , Visibility , Windspeed due to irregular distribution\n",
        "f, ax = plt.subplots(2,2,figsize=(12,8))\n",
        "vis1 = sns.distplot(feature_vars[\"RH_6\"],bins=10, ax= ax[0][0])\n",
        "vis2 = sns.distplot(feature_vars[\"RH_out\"],bins=10, ax=ax[0][1])\n",
        "vis3 = sns.distplot(feature_vars[\"Visibility\"],bins=10, ax=ax[1][0])\n",
        "vis4 = sns.distplot(feature_vars[\"Windspeed\"],bins=10, ax=ax[1][1])"
      ],
      "metadata": {
        "colab": {
          "base_uri": "https://localhost:8080/",
          "height": 497
        },
        "id": "yff7x0LryoTf",
        "outputId": "26a3d454-b564-4c3d-eb30-2c7b40c865ed"
      },
      "execution_count": 20,
      "outputs": [
        {
          "output_type": "display_data",
          "data": {
            "text/plain": [
              "<Figure size 864x576 with 4 Axes>"
            ],
            "image/png": "[encoded data removed]"
          },
          "metadata": {
            "needs_background": "light"
          }
        }
      ]
    },
    {
      "cell_type": "code",
      "source": [
        "# Distribution of values in Applainces column\n",
        "f = plt.figure(figsize=(12,5))\n",
        "plt.xlabel('Appliance consumption in Wh')\n",
        "plt.ylabel('Frequency')\n",
        "sns.distplot(target_vars , bins=10 ) ;"
      ],
      "metadata": {
        "colab": {
          "base_uri": "https://localhost:8080/",
          "height": 334
        },
        "id": "0eYi9idkyoRC",
        "outputId": "1ea52c69-3be6-48db-eb59-b51a9a4fa09a"
      },
      "execution_count": 21,
      "outputs": [
        {
          "output_type": "display_data",
          "data": {
            "text/plain": [
              "<Figure size 864x360 with 1 Axes>"
            ],
            "image/png": "[encoded data removed]"
          },
          "metadata": {
            "needs_background": "light"
          }
        }
      ]
    },
    {
      "cell_type": "code",
      "source": [
        "#Appliance column range with consumption less than 200 Wh\n",
        "print('Percentage of the appliance consumption is less than 200 Wh')\n",
        "print(((target_vars[target_vars <= 200].count()) / (len(target_vars)))*100 )"
      ],
      "metadata": {
        "colab": {
          "base_uri": "https://localhost:8080/"
        },
        "id": "QyYjWbWvyoMU",
        "outputId": "e668ea2b-5566-40b5-c433-d85288b722c3"
      },
      "execution_count": 22,
      "outputs": [
        {
          "output_type": "stream",
          "name": "stdout",
          "text": [
            "Percentage of the appliance consumption is less than 200 Wh\n",
            "Appliances    90.291361\n",
            "dtype: float64\n"
          ]
        }
      ]
    },
    {
      "cell_type": "code",
      "source": [
        "# Histogram of all the features to understand the distribution\n",
        "feature_vars.hist(bins = 20 , figsize= (12,16)) ;"
      ],
      "metadata": {
        "colab": {
          "base_uri": "https://localhost:8080/",
          "height": 934
        },
        "id": "yZzsW0uzzbSN",
        "outputId": "a947dca2-e54d-4cc5-b4ad-9e2fc6c3204d"
      },
      "execution_count": 23,
      "outputs": [
        {
          "output_type": "display_data",
          "data": {
            "text/plain": [
              "<Figure size 864x1152 with 30 Axes>"
            ],
            "image/png": "[encoded data removed]"
          },
          "metadata": {
            "needs_background": "light"
          }
        }
      ]
    },
    {
      "cell_type": "code",
      "source": [
        "#Distribution of values in Applainces column\n",
        "target_vars.hist()"
      ],
      "metadata": {
        "colab": {
          "base_uri": "https://localhost:8080/",
          "height": 316
        },
        "id": "hUrsf_IwzbO9",
        "outputId": "b1944b2c-8dba-40c8-a422-554ebe93782b"
      },
      "execution_count": 24,
      "outputs": [
        {
          "output_type": "execute_result",
          "data": {
            "text/plain": [
              "array([[<matplotlib.axes._subplots.AxesSubplot object at 0x7f7ad6751b50>]],\n",
              "      dtype=object)"
            ]
          },
          "metadata": {},
          "execution_count": 24
        },
        {
          "output_type": "display_data",
          "data": {
            "text/plain": [
              "<Figure size 432x288 with 1 Axes>"
            ],
            "image/png": "[encoded data removed]"
          },
          "metadata": {
            "needs_background": "light"
          }
        }
      ]
    },
    {
      "cell_type": "markdown",
      "source": [
        "#correlation plots"
      ],
      "metadata": {
        "id": "mVQSe-hwz-km"
      }
    },
    {
      "cell_type": "code",
      "source": [
        "# Use the weather , temperature , applainces and random column to see the correlation\n",
        "train_corr = train[col_temp + col_hum + col_weather +col_target+col_randoms]\n",
        "corr = train_corr.corr()\n",
        "# Mask the repeated values\n",
        "mask = np.zeros_like(corr, dtype=np.bool)\n",
        "mask[np.triu_indices_from(mask)] = True\n",
        "  \n",
        "f, ax = plt.subplots(figsize=(16, 14))\n",
        "#Generate Heat Map, allow annotations and place floats in map\n",
        "sns.heatmap(corr, annot=True, fmt=\".2f\" , mask=mask,)\n",
        "    #Apply xticks\n",
        "plt.xticks(range(len(corr.columns)), corr.columns);\n",
        "    #Apply yticks\n",
        "plt.yticks(range(len(corr.columns)), corr.columns)\n",
        "    #show plot\n",
        "plt.show()"
      ],
      "metadata": {
        "colab": {
          "base_uri": "https://localhost:8080/",
          "height": 872
        },
        "id": "w8ukzwQazbMH",
        "outputId": "0e4700a2-2abe-4939-dccc-d85d6a1927a2"
      },
      "execution_count": 25,
      "outputs": [
        {
          "output_type": "display_data",
          "data": {
            "text/plain": [
              "<Figure size 1152x1008 with 2 Axes>"
            ],
            "image/png": "[encoded data removed]"
          },
          "metadata": {
            "needs_background": "light"
          }
        }
      ]
    },
    {
      "cell_type": "code",
      "source": [
        "def get_redundant_pairs(df):\n",
        "    '''Get diagonal and lower triangular pairs of correlation matrix'''\n",
        "    pairs_to_drop = set()\n",
        "    cols = df.columns\n",
        "    for i in range(0, df.shape[1]):\n",
        "        for j in range(0, i+1):\n",
        "            pairs_to_drop.add((cols[i], cols[j]))\n",
        "    return pairs_to_drop\n",
        "\n",
        "# Function to get top correlations \n",
        "\n",
        "def get_top_abs_correlations(df, n=5):\n",
        "    au_corr = df.corr().abs().unstack()\n",
        "    labels_to_drop = get_redundant_pairs(df)\n",
        "    au_corr = au_corr.drop(labels=labels_to_drop).sort_values(ascending=False)\n",
        "    return au_corr[0:n]\n",
        "\n",
        "print(\"Top Absolute Correlations\")\n",
        "print(get_top_abs_correlations(train_corr, 40))"
      ],
      "metadata": {
        "colab": {
          "base_uri": "https://localhost:8080/"
        },
        "id": "-1y28BQFzbJR",
        "outputId": "c4e5a03d-8a2d-49c0-897c-f2976fdf23d5"
      },
      "execution_count": 26,
      "outputs": [
        {
          "output_type": "stream",
          "name": "stdout",
          "text": [
            "Top Absolute Correlations\n",
            "rv1   rv2      1.000000\n",
            "T6    T_out    0.974683\n",
            "T7    T9       0.943921\n",
            "T5    T9       0.910009\n",
            "T3    T9       0.900209\n",
            "RH_3  RH_4     0.899889\n",
            "RH_4  RH_7     0.895120\n",
            "T1    T3       0.892292\n",
            "T4    T9       0.888264\n",
            "T3    T5       0.887545\n",
            "RH_7  RH_8     0.884849\n",
            "T1    T5       0.884692\n",
            "T7    T8       0.881513\n",
            "RH_1  RH_4     0.880504\n",
            "T1    T4       0.876682\n",
            "T4    T7       0.876677\n",
            "      T5       0.871733\n",
            "T5    T7       0.869655\n",
            "T8    T9       0.868251\n",
            "RH_7  RH_9     0.860155\n",
            "RH_4  RH_9     0.858454\n",
            "RH_8  RH_9     0.857476\n",
            "T3    T4       0.851790\n",
            "RH_4  RH_8     0.848829\n",
            "T3    T7       0.846021\n",
            "RH_1  RH_3     0.845592\n",
            "T1    T9       0.842862\n",
            "      T7       0.837079\n",
            "      T2       0.835729\n",
            "RH_3  RH_9     0.834419\n",
            "      RH_7     0.833924\n",
            "      RH_8     0.831060\n",
            "T1    T8       0.824657\n",
            "T5    T8       0.824057\n",
            "T2    T6       0.801219\n",
            "RH_1  RH_7     0.800827\n",
            "      RH_2     0.797598\n",
            "T4    T8       0.796458\n",
            "T3    T8       0.794213\n",
            "T2    T_out    0.791553\n",
            "dtype: float64\n"
          ]
        }
      ]
    },
    {
      "cell_type": "markdown",
      "source": [
        "#Data Preprocessing"
      ],
      "metadata": {
        "id": "pO5ER8oy0vRB"
      }
    },
    {
      "cell_type": "code",
      "source": [
        "#Split training dataset into independent and dependent varibales\n",
        "train_X = train[feature_vars.columns]\n",
        "train_y = train[target_vars.columns]"
      ],
      "metadata": {
        "id": "mnWZayC1zbG5"
      },
      "execution_count": 27,
      "outputs": []
    },
    {
      "cell_type": "code",
      "source": [
        "#Split testing dataset into independent and dependent varibales\n",
        "test_X = test[feature_vars.columns]\n",
        "test_y = test[target_vars.columns]"
      ],
      "metadata": {
        "id": "kAbVu-LszbD6"
      },
      "execution_count": 28,
      "outputs": []
    },
    {
      "cell_type": "code",
      "source": [
        "# Due to conlusion made above below columns are removed\n",
        "train_X.drop([\"rv1\",\"rv2\",\"Visibility\",\"T6\",\"T9\"],axis=1 , inplace=True)"
      ],
      "metadata": {
        "id": "E8eELzqLzbAR"
      },
      "execution_count": 29,
      "outputs": []
    },
    {
      "cell_type": "code",
      "source": [
        "# Due to conlusion made above below columns are removed\n",
        "test_X.drop([\"rv1\",\"rv2\",\"Visibility\",\"T6\",\"T9\"], axis=1, inplace=True)"
      ],
      "metadata": {
        "id": "Hr6Xvhah073M"
      },
      "execution_count": 30,
      "outputs": []
    },
    {
      "cell_type": "code",
      "source": [
        "train_X.columns"
      ],
      "metadata": {
        "colab": {
          "base_uri": "https://localhost:8080/"
        },
        "id": "b_8F4ewj07zp",
        "outputId": "58f5ced9-a658-4773-a5e5-35560458f9e4"
      },
      "execution_count": 31,
      "outputs": [
        {
          "output_type": "execute_result",
          "data": {
            "text/plain": [
              "Index(['T1', 'T2', 'T3', 'T4', 'T5', 'T7', 'T8', 'RH_1', 'RH_2', 'RH_3',\n",
              "       'RH_4', 'RH_5', 'RH_6', 'RH_7', 'RH_8', 'RH_9', 'T_out', 'Tdewpoint',\n",
              "       'RH_out', 'Press_mm_hg', 'Windspeed'],\n",
              "      dtype='object')"
            ]
          },
          "metadata": {},
          "execution_count": 31
        }
      ]
    },
    {
      "cell_type": "code",
      "source": [
        "test_X.columns"
      ],
      "metadata": {
        "colab": {
          "base_uri": "https://localhost:8080/"
        },
        "id": "vf2k3L0G07xf",
        "outputId": "d6104046-20ae-4e90-c1c8-b9e9ccacad72"
      },
      "execution_count": 32,
      "outputs": [
        {
          "output_type": "execute_result",
          "data": {
            "text/plain": [
              "Index(['T1', 'T2', 'T3', 'T4', 'T5', 'T7', 'T8', 'RH_1', 'RH_2', 'RH_3',\n",
              "       'RH_4', 'RH_5', 'RH_6', 'RH_7', 'RH_8', 'RH_9', 'T_out', 'Tdewpoint',\n",
              "       'RH_out', 'Press_mm_hg', 'Windspeed'],\n",
              "      dtype='object')"
            ]
          },
          "metadata": {},
          "execution_count": 32
        }
      ]
    },
    {
      "cell_type": "code",
      "source": [
        "from sklearn.preprocessing import StandardScaler\n",
        "sc=StandardScaler()\n",
        "\n",
        "# Create test and training set by including Appliances column\n",
        "\n",
        "train = train[list(train_X.columns.values) + col_target ]\n",
        "\n",
        "test = test[list(test_X.columns.values) + col_target ]\n",
        "\n",
        "# Create dummy test and training set to hold scaled values\n",
        "\n",
        "sc_train = pd.DataFrame(columns=train.columns , index=train.index)\n",
        "\n",
        "sc_train[sc_train.columns] = sc.fit_transform(train)\n",
        "\n",
        "sc_test= pd.DataFrame(columns=test.columns , index=test.index)\n",
        "\n",
        "sc_test[sc_test.columns] = sc.fit_transform(test)"
      ],
      "metadata": {
        "id": "0SpWp2_v07vb"
      },
      "execution_count": 33,
      "outputs": []
    },
    {
      "cell_type": "code",
      "source": [
        "sc_train.head()"
      ],
      "metadata": {
        "colab": {
          "base_uri": "https://localhost:8080/",
          "height": 299
        },
        "id": "4GCptroq1M5i",
        "outputId": "7635f2aa-4a02-4823-b3ad-aec43fa03313"
      },
      "execution_count": 34,
      "outputs": [
        {
          "output_type": "execute_result",
          "data": {
            "text/plain": [
              "             T1        T2        T3        T4        T5        T7        T8  \\\n",
              "9544   0.569827 -0.383584 -0.384018  0.996241 -0.229230  0.349500  0.441571   \n",
              "19366  1.254979  0.298556  1.561061  1.344290  0.163277  1.299615  1.112907   \n",
              "10816  0.320681  0.054501  0.366012 -0.229283  0.145189  0.297243  0.822507   \n",
              "15457 -0.246127 -0.961129 -0.489022 -0.159019 -0.162305 -0.363087  0.087967   \n",
              "2956  -0.246127 -0.024324 -0.300681 -1.013618 -0.061616 -0.579502 -0.564579   \n",
              "\n",
              "           RH_1      RH_2      RH_3  ...      RH_6      RH_7      RH_8  \\\n",
              "9544  -1.398755 -0.629413 -1.197521  ...  0.103642 -1.657784 -0.848083   \n",
              "19366  0.004687  0.604569  0.228904  ... -0.471944 -0.060622  0.086994   \n",
              "10816  1.388043  1.101918 -0.212353  ... -0.676999  0.311400  0.163327   \n",
              "15457 -1.125096 -0.629413 -1.367589  ... -0.110291 -1.110463  0.001120   \n",
              "2956   1.789743  1.680118  2.300361  ...  1.453771  3.043131  2.777725   \n",
              "\n",
              "           RH_9     T_out  Tdewpoint    RH_out  Press_mm_hg  Windspeed  \\\n",
              "9544  -1.033732 -0.978251  -0.803979  0.529878     1.167725  -1.112160   \n",
              "19366  0.725258 -0.217827   0.365687  0.931169     0.226014  -1.248270   \n",
              "10816 -0.049050  1.120770   0.803317 -0.896934    -0.733721   0.929492   \n",
              "15457 -1.368892 -1.339609  -1.006881  0.975757    -0.046587  -0.839939   \n",
              "2956   2.719419  0.630579   1.400086  0.864287     0.419763   1.065602   \n",
              "\n",
              "       Appliances  \n",
              "9544    -0.270443  \n",
              "19366   -0.464759  \n",
              "10816    0.021032  \n",
              "15457   -0.561918  \n",
              "2956    -0.464759  \n",
              "\n",
              "[5 rows x 22 columns]"
            ],
            "text/html": [
              "\n",
              "  <div id=\"df-1a938662-2974-46d6-bc13-3ed4f6e49acf\">\n",
              "    <div class=\"colab-df-container\">\n",
              "      <div>\n",
              "<style scoped>\n",
              "    .dataframe tbody tr th:only-of-type {\n",
              "        vertical-align: middle;\n",
              "    }\n",
              "\n",
              "    .dataframe tbody tr th {\n",
              "        vertical-align: top;\n",
              "    }\n",
              "\n",
              "    .dataframe thead th {\n",
              "        text-align: right;\n",
              "    }\n",
              "</style>\n",
              "<table border=\"1\" class=\"dataframe\">\n",
              "  <thead>\n",
              "    <tr style=\"text-align: right;\">\n",
              "      <th></th>\n",
              "      <th>T1</th>\n",
              "      <th>T2</th>\n",
              "      <th>T3</th>\n",
              "      <th>T4</th>\n",
              "      <th>T5</th>\n",
              "      <th>T7</th>\n",
              "      <th>T8</th>\n",
              "      <th>RH_1</th>\n",
              "      <th>RH_2</th>\n",
              "      <th>RH_3</th>\n",
              "      <th>...</th>\n",
              "      <th>RH_6</th>\n",
              "      <th>RH_7</th>\n",
              "      <th>RH_8</th>\n",
              "      <th>RH_9</th>\n",
              "      <th>T_out</th>\n",
              "      <th>Tdewpoint</th>\n",
              "      <th>RH_out</th>\n",
              "      <th>Press_mm_hg</th>\n",
              "      <th>Windspeed</th>\n",
              "      <th>Appliances</th>\n",
              "    </tr>\n",
              "  </thead>\n",
              "  <tbody>\n",
              "    <tr>\n",
              "      <th>9544</th>\n",
              "      <td>0.569827</td>\n",
              "      <td>-0.383584</td>\n",
              "      <td>-0.384018</td>\n",
              "      <td>0.996241</td>\n",
              "      <td>-0.229230</td>\n",
              "      <td>0.349500</td>\n",
              "      <td>0.441571</td>\n",
              "      <td>-1.398755</td>\n",
              "      <td>-0.629413</td>\n",
              "      <td>-1.197521</td>\n",
              "      <td>...</td>\n",
              "      <td>0.103642</td>\n",
              "      <td>-1.657784</td>\n",
              "      <td>-0.848083</td>\n",
              "      <td>-1.033732</td>\n",
              "      <td>-0.978251</td>\n",
              "      <td>-0.803979</td>\n",
              "      <td>0.529878</td>\n",
              "      <td>1.167725</td>\n",
              "      <td>-1.112160</td>\n",
              "      <td>-0.270443</td>\n",
              "    </tr>\n",
              "    <tr>\n",
              "      <th>19366</th>\n",
              "      <td>1.254979</td>\n",
              "      <td>0.298556</td>\n",
              "      <td>1.561061</td>\n",
              "      <td>1.344290</td>\n",
              "      <td>0.163277</td>\n",
              "      <td>1.299615</td>\n",
              "      <td>1.112907</td>\n",
              "      <td>0.004687</td>\n",
              "      <td>0.604569</td>\n",
              "      <td>0.228904</td>\n",
              "      <td>...</td>\n",
              "      <td>-0.471944</td>\n",
              "      <td>-0.060622</td>\n",
              "      <td>0.086994</td>\n",
              "      <td>0.725258</td>\n",
              "      <td>-0.217827</td>\n",
              "      <td>0.365687</td>\n",
              "      <td>0.931169</td>\n",
              "      <td>0.226014</td>\n",
              "      <td>-1.248270</td>\n",
              "      <td>-0.464759</td>\n",
              "    </tr>\n",
              "    <tr>\n",
              "      <th>10816</th>\n",
              "      <td>0.320681</td>\n",
              "      <td>0.054501</td>\n",
              "      <td>0.366012</td>\n",
              "      <td>-0.229283</td>\n",
              "      <td>0.145189</td>\n",
              "      <td>0.297243</td>\n",
              "      <td>0.822507</td>\n",
              "      <td>1.388043</td>\n",
              "      <td>1.101918</td>\n",
              "      <td>-0.212353</td>\n",
              "      <td>...</td>\n",
              "      <td>-0.676999</td>\n",
              "      <td>0.311400</td>\n",
              "      <td>0.163327</td>\n",
              "      <td>-0.049050</td>\n",
              "      <td>1.120770</td>\n",
              "      <td>0.803317</td>\n",
              "      <td>-0.896934</td>\n",
              "      <td>-0.733721</td>\n",
              "      <td>0.929492</td>\n",
              "      <td>0.021032</td>\n",
              "    </tr>\n",
              "    <tr>\n",
              "      <th>15457</th>\n",
              "      <td>-0.246127</td>\n",
              "      <td>-0.961129</td>\n",
              "      <td>-0.489022</td>\n",
              "      <td>-0.159019</td>\n",
              "      <td>-0.162305</td>\n",
              "      <td>-0.363087</td>\n",
              "      <td>0.087967</td>\n",
              "      <td>-1.125096</td>\n",
              "      <td>-0.629413</td>\n",
              "      <td>-1.367589</td>\n",
              "      <td>...</td>\n",
              "      <td>-0.110291</td>\n",
              "      <td>-1.110463</td>\n",
              "      <td>0.001120</td>\n",
              "      <td>-1.368892</td>\n",
              "      <td>-1.339609</td>\n",
              "      <td>-1.006881</td>\n",
              "      <td>0.975757</td>\n",
              "      <td>-0.046587</td>\n",
              "      <td>-0.839939</td>\n",
              "      <td>-0.561918</td>\n",
              "    </tr>\n",
              "    <tr>\n",
              "      <th>2956</th>\n",
              "      <td>-0.246127</td>\n",
              "      <td>-0.024324</td>\n",
              "      <td>-0.300681</td>\n",
              "      <td>-1.013618</td>\n",
              "      <td>-0.061616</td>\n",
              "      <td>-0.579502</td>\n",
              "      <td>-0.564579</td>\n",
              "      <td>1.789743</td>\n",
              "      <td>1.680118</td>\n",
              "      <td>2.300361</td>\n",
              "      <td>...</td>\n",
              "      <td>1.453771</td>\n",
              "      <td>3.043131</td>\n",
              "      <td>2.777725</td>\n",
              "      <td>2.719419</td>\n",
              "      <td>0.630579</td>\n",
              "      <td>1.400086</td>\n",
              "      <td>0.864287</td>\n",
              "      <td>0.419763</td>\n",
              "      <td>1.065602</td>\n",
              "      <td>-0.464759</td>\n",
              "    </tr>\n",
              "  </tbody>\n",
              "</table>\n",
              "<p>5 rows × 22 columns</p>\n",
              "</div>\n",
              "      <button class=\"colab-df-convert\" onclick=\"convertToInteractive('df-1a938662-2974-46d6-bc13-3ed4f6e49acf')\"\n",
              "              title=\"Convert this dataframe to an interactive table.\"\n",
              "              style=\"display:none;\">\n",
              "        \n",
              "  <svg xmlns=\"http://www.w3.org/2000/svg\" height=\"24px\"viewBox=\"0 0 24 24\"\n",
              "       width=\"24px\">\n",
              "    <path d=\"M0 0h24v24H0V0z\" fill=\"none\"/>\n",
              "    <path d=\"M18.56 5.44l.94 2.06.94-2.06 2.06-.94-2.06-.94-.94-2.06-.94 2.06-2.06.94zm-11 1L8.5 8.5l.94-2.06 2.06-.94-2.06-.94L8.5 2.5l-.94 2.06-2.06.94zm10 10l.94 2.06.94-2.06 2.06-.94-2.06-.94-.94-2.06-.94 2.06-2.06.94z\"/><path d=\"M17.41 7.96l-1.37-1.37c-.4-.4-.92-.59-1.43-.59-.52 0-1.04.2-1.43.59L10.3 9.45l-7.72 7.72c-.78.78-.78 2.05 0 2.83L4 21.41c.39.39.9.59 1.41.59.51 0 1.02-.2 1.41-.59l7.78-7.78 2.81-2.81c.8-.78.8-2.07 0-2.86zM5.41 20L4 18.59l7.72-7.72 1.47 1.35L5.41 20z\"/>\n",
              "  </svg>\n",
              "      </button>\n",
              "      \n",
              "  <style>\n",
              "    .colab-df-container {\n",
              "      display:flex;\n",
              "      flex-wrap:wrap;\n",
              "      gap: 12px;\n",
              "    }\n",
              "\n",
              "    .colab-df-convert {\n",
              "      background-color: #E8F0FE;\n",
              "      border: none;\n",
              "      border-radius: 50%;\n",
              "      cursor: pointer;\n",
              "      display: none;\n",
              "      fill: #1967D2;\n",
              "      height: 32px;\n",
              "      padding: 0 0 0 0;\n",
              "      width: 32px;\n",
              "    }\n",
              "\n",
              "    .colab-df-convert:hover {\n",
              "      background-color: #E2EBFA;\n",
              "      box-shadow: 0px 1px 2px rgba(60, 64, 67, 0.3), 0px 1px 3px 1px rgba(60, 64, 67, 0.15);\n",
              "      fill: #174EA6;\n",
              "    }\n",
              "\n",
              "    [theme=dark] .colab-df-convert {\n",
              "      background-color: #3B4455;\n",
              "      fill: #D2E3FC;\n",
              "    }\n",
              "\n",
              "    [theme=dark] .colab-df-convert:hover {\n",
              "      background-color: #434B5C;\n",
              "      box-shadow: 0px 1px 3px 1px rgba(0, 0, 0, 0.15);\n",
              "      filter: drop-shadow(0px 1px 2px rgba(0, 0, 0, 0.3));\n",
              "      fill: #FFFFFF;\n",
              "    }\n",
              "  </style>\n",
              "\n",
              "      <script>\n",
              "        const buttonEl =\n",
              "          document.querySelector('#df-1a938662-2974-46d6-bc13-3ed4f6e49acf button.colab-df-convert');\n",
              "        buttonEl.style.display =\n",
              "          google.colab.kernel.accessAllowed ? 'block' : 'none';\n",
              "\n",
              "        async function convertToInteractive(key) {\n",
              "          const element = document.querySelector('#df-1a938662-2974-46d6-bc13-3ed4f6e49acf');\n",
              "          const dataTable =\n",
              "            await google.colab.kernel.invokeFunction('convertToInteractive',\n",
              "                                                     [key], {});\n",
              "          if (!dataTable) return;\n",
              "\n",
              "          const docLinkHtml = 'Like what you see? Visit the ' +\n",
              "            '<a target=\"_blank\" href=https://colab.research.google.com/notebooks/data_table.ipynb>data table notebook</a>'\n",
              "            + ' to learn more about interactive tables.';\n",
              "          element.innerHTML = '';\n",
              "          dataTable['output_type'] = 'display_data';\n",
              "          await google.colab.output.renderOutput(dataTable, element);\n",
              "          const docLink = document.createElement('div');\n",
              "          docLink.innerHTML = docLinkHtml;\n",
              "          element.appendChild(docLink);\n",
              "        }\n",
              "      </script>\n",
              "    </div>\n",
              "  </div>\n",
              "  "
            ]
          },
          "metadata": {},
          "execution_count": 34
        }
      ]
    },
    {
      "cell_type": "code",
      "source": [
        "sc_test.head()"
      ],
      "metadata": {
        "colab": {
          "base_uri": "https://localhost:8080/",
          "height": 299
        },
        "id": "kKxNWFFA1M35",
        "outputId": "c10c9d3c-1656-43d7-a47d-5f91bb89ec29"
      },
      "execution_count": 35,
      "outputs": [
        {
          "output_type": "execute_result",
          "data": {
            "text/plain": [
              "             T1        T2        T3        T4        T5        T7        T8  \\\n",
              "6314  -0.678526 -0.337714 -0.758967 -0.272083 -0.811540 -0.409392 -0.946375   \n",
              "12257  0.814344  0.289201  1.432662  0.317741  1.062631  0.811654  1.049857   \n",
              "6271  -0.850621 -1.058130 -0.526796 -0.515812 -0.654758 -0.600348 -0.929458   \n",
              "18179  0.938750  0.485399  0.955147  1.146419  1.134714  1.502863  1.400044   \n",
              "9661   0.005706 -0.368370 -0.396714 -0.137220 -0.595289 -0.270881  0.339334   \n",
              "\n",
              "           RH_1      RH_2      RH_3  ...      RH_6      RH_7      RH_8  \\\n",
              "6314  -0.352449 -0.426736  0.306431  ...  1.086122 -0.407472 -0.731388   \n",
              "12257  0.671740  1.084770 -0.220306  ... -1.056634 -0.276865 -0.989635   \n",
              "6271  -0.182731  0.160016  0.427270  ...  0.869462  0.702690  0.538598   \n",
              "18179 -0.419664 -0.511502 -0.885589  ... -1.365905 -0.346975 -0.678579   \n",
              "9661  -0.797748 -0.320955 -1.037265  ...  0.039148 -1.025548 -1.028276   \n",
              "\n",
              "           RH_9     T_out  Tdewpoint    RH_out  Press_mm_hg  Windspeed  \\\n",
              "6314  -0.437093 -0.232839  -1.157146 -1.318014     0.377392  -0.809142   \n",
              "12257 -0.554766  0.865496   0.485626 -0.967649    -0.401660   0.004891   \n",
              "6271   0.705174 -1.611203  -1.275901  1.191050     0.616061  -0.876978   \n",
              "18179 -1.043214  0.591690   0.568755 -0.323430     0.701622  -1.216158   \n",
              "9661  -1.198139 -0.307513  -0.001268  0.524227     0.917775   0.004891   \n",
              "\n",
              "       Appliances  \n",
              "6314    -0.367942  \n",
              "12257    3.087003  \n",
              "6271    -0.664080  \n",
              "18179   -0.565367  \n",
              "9661     0.224334  \n",
              "\n",
              "[5 rows x 22 columns]"
            ],
            "text/html": [
              "\n",
              "  <div id=\"df-52488a69-9501-47b8-819d-cda45b8a4299\">\n",
              "    <div class=\"colab-df-container\">\n",
              "      <div>\n",
              "<style scoped>\n",
              "    .dataframe tbody tr th:only-of-type {\n",
              "        vertical-align: middle;\n",
              "    }\n",
              "\n",
              "    .dataframe tbody tr th {\n",
              "        vertical-align: top;\n",
              "    }\n",
              "\n",
              "    .dataframe thead th {\n",
              "        text-align: right;\n",
              "    }\n",
              "</style>\n",
              "<table border=\"1\" class=\"dataframe\">\n",
              "  <thead>\n",
              "    <tr style=\"text-align: right;\">\n",
              "      <th></th>\n",
              "      <th>T1</th>\n",
              "      <th>T2</th>\n",
              "      <th>T3</th>\n",
              "      <th>T4</th>\n",
              "      <th>T5</th>\n",
              "      <th>T7</th>\n",
              "      <th>T8</th>\n",
              "      <th>RH_1</th>\n",
              "      <th>RH_2</th>\n",
              "      <th>RH_3</th>\n",
              "      <th>...</th>\n",
              "      <th>RH_6</th>\n",
              "      <th>RH_7</th>\n",
              "      <th>RH_8</th>\n",
              "      <th>RH_9</th>\n",
              "      <th>T_out</th>\n",
              "      <th>Tdewpoint</th>\n",
              "      <th>RH_out</th>\n",
              "      <th>Press_mm_hg</th>\n",
              "      <th>Windspeed</th>\n",
              "      <th>Appliances</th>\n",
              "    </tr>\n",
              "  </thead>\n",
              "  <tbody>\n",
              "    <tr>\n",
              "      <th>6314</th>\n",
              "      <td>-0.678526</td>\n",
              "      <td>-0.337714</td>\n",
              "      <td>-0.758967</td>\n",
              "      <td>-0.272083</td>\n",
              "      <td>-0.811540</td>\n",
              "      <td>-0.409392</td>\n",
              "      <td>-0.946375</td>\n",
              "      <td>-0.352449</td>\n",
              "      <td>-0.426736</td>\n",
              "      <td>0.306431</td>\n",
              "      <td>...</td>\n",
              "      <td>1.086122</td>\n",
              "      <td>-0.407472</td>\n",
              "      <td>-0.731388</td>\n",
              "      <td>-0.437093</td>\n",
              "      <td>-0.232839</td>\n",
              "      <td>-1.157146</td>\n",
              "      <td>-1.318014</td>\n",
              "      <td>0.377392</td>\n",
              "      <td>-0.809142</td>\n",
              "      <td>-0.367942</td>\n",
              "    </tr>\n",
              "    <tr>\n",
              "      <th>12257</th>\n",
              "      <td>0.814344</td>\n",
              "      <td>0.289201</td>\n",
              "      <td>1.432662</td>\n",
              "      <td>0.317741</td>\n",
              "      <td>1.062631</td>\n",
              "      <td>0.811654</td>\n",
              "      <td>1.049857</td>\n",
              "      <td>0.671740</td>\n",
              "      <td>1.084770</td>\n",
              "      <td>-0.220306</td>\n",
              "      <td>...</td>\n",
              "      <td>-1.056634</td>\n",
              "      <td>-0.276865</td>\n",
              "      <td>-0.989635</td>\n",
              "      <td>-0.554766</td>\n",
              "      <td>0.865496</td>\n",
              "      <td>0.485626</td>\n",
              "      <td>-0.967649</td>\n",
              "      <td>-0.401660</td>\n",
              "      <td>0.004891</td>\n",
              "      <td>3.087003</td>\n",
              "    </tr>\n",
              "    <tr>\n",
              "      <th>6271</th>\n",
              "      <td>-0.850621</td>\n",
              "      <td>-1.058130</td>\n",
              "      <td>-0.526796</td>\n",
              "      <td>-0.515812</td>\n",
              "      <td>-0.654758</td>\n",
              "      <td>-0.600348</td>\n",
              "      <td>-0.929458</td>\n",
              "      <td>-0.182731</td>\n",
              "      <td>0.160016</td>\n",
              "      <td>0.427270</td>\n",
              "      <td>...</td>\n",
              "      <td>0.869462</td>\n",
              "      <td>0.702690</td>\n",
              "      <td>0.538598</td>\n",
              "      <td>0.705174</td>\n",
              "      <td>-1.611203</td>\n",
              "      <td>-1.275901</td>\n",
              "      <td>1.191050</td>\n",
              "      <td>0.616061</td>\n",
              "      <td>-0.876978</td>\n",
              "      <td>-0.664080</td>\n",
              "    </tr>\n",
              "    <tr>\n",
              "      <th>18179</th>\n",
              "      <td>0.938750</td>\n",
              "      <td>0.485399</td>\n",
              "      <td>0.955147</td>\n",
              "      <td>1.146419</td>\n",
              "      <td>1.134714</td>\n",
              "      <td>1.502863</td>\n",
              "      <td>1.400044</td>\n",
              "      <td>-0.419664</td>\n",
              "      <td>-0.511502</td>\n",
              "      <td>-0.885589</td>\n",
              "      <td>...</td>\n",
              "      <td>-1.365905</td>\n",
              "      <td>-0.346975</td>\n",
              "      <td>-0.678579</td>\n",
              "      <td>-1.043214</td>\n",
              "      <td>0.591690</td>\n",
              "      <td>0.568755</td>\n",
              "      <td>-0.323430</td>\n",
              "      <td>0.701622</td>\n",
              "      <td>-1.216158</td>\n",
              "      <td>-0.565367</td>\n",
              "    </tr>\n",
              "    <tr>\n",
              "      <th>9661</th>\n",
              "      <td>0.005706</td>\n",
              "      <td>-0.368370</td>\n",
              "      <td>-0.396714</td>\n",
              "      <td>-0.137220</td>\n",
              "      <td>-0.595289</td>\n",
              "      <td>-0.270881</td>\n",
              "      <td>0.339334</td>\n",
              "      <td>-0.797748</td>\n",
              "      <td>-0.320955</td>\n",
              "      <td>-1.037265</td>\n",
              "      <td>...</td>\n",
              "      <td>0.039148</td>\n",
              "      <td>-1.025548</td>\n",
              "      <td>-1.028276</td>\n",
              "      <td>-1.198139</td>\n",
              "      <td>-0.307513</td>\n",
              "      <td>-0.001268</td>\n",
              "      <td>0.524227</td>\n",
              "      <td>0.917775</td>\n",
              "      <td>0.004891</td>\n",
              "      <td>0.224334</td>\n",
              "    </tr>\n",
              "  </tbody>\n",
              "</table>\n",
              "<p>5 rows × 22 columns</p>\n",
              "</div>\n",
              "      <button class=\"colab-df-convert\" onclick=\"convertToInteractive('df-52488a69-9501-47b8-819d-cda45b8a4299')\"\n",
              "              title=\"Convert this dataframe to an interactive table.\"\n",
              "              style=\"display:none;\">\n",
              "        \n",
              "  <svg xmlns=\"http://www.w3.org/2000/svg\" height=\"24px\"viewBox=\"0 0 24 24\"\n",
              "       width=\"24px\">\n",
              "    <path d=\"M0 0h24v24H0V0z\" fill=\"none\"/>\n",
              "    <path d=\"M18.56 5.44l.94 2.06.94-2.06 2.06-.94-2.06-.94-.94-2.06-.94 2.06-2.06.94zm-11 1L8.5 8.5l.94-2.06 2.06-.94-2.06-.94L8.5 2.5l-.94 2.06-2.06.94zm10 10l.94 2.06.94-2.06 2.06-.94-2.06-.94-.94-2.06-.94 2.06-2.06.94z\"/><path d=\"M17.41 7.96l-1.37-1.37c-.4-.4-.92-.59-1.43-.59-.52 0-1.04.2-1.43.59L10.3 9.45l-7.72 7.72c-.78.78-.78 2.05 0 2.83L4 21.41c.39.39.9.59 1.41.59.51 0 1.02-.2 1.41-.59l7.78-7.78 2.81-2.81c.8-.78.8-2.07 0-2.86zM5.41 20L4 18.59l7.72-7.72 1.47 1.35L5.41 20z\"/>\n",
              "  </svg>\n",
              "      </button>\n",
              "      \n",
              "  <style>\n",
              "    .colab-df-container {\n",
              "      display:flex;\n",
              "      flex-wrap:wrap;\n",
              "      gap: 12px;\n",
              "    }\n",
              "\n",
              "    .colab-df-convert {\n",
              "      background-color: #E8F0FE;\n",
              "      border: none;\n",
              "      border-radius: 50%;\n",
              "      cursor: pointer;\n",
              "      display: none;\n",
              "      fill: #1967D2;\n",
              "      height: 32px;\n",
              "      padding: 0 0 0 0;\n",
              "      width: 32px;\n",
              "    }\n",
              "\n",
              "    .colab-df-convert:hover {\n",
              "      background-color: #E2EBFA;\n",
              "      box-shadow: 0px 1px 2px rgba(60, 64, 67, 0.3), 0px 1px 3px 1px rgba(60, 64, 67, 0.15);\n",
              "      fill: #174EA6;\n",
              "    }\n",
              "\n",
              "    [theme=dark] .colab-df-convert {\n",
              "      background-color: #3B4455;\n",
              "      fill: #D2E3FC;\n",
              "    }\n",
              "\n",
              "    [theme=dark] .colab-df-convert:hover {\n",
              "      background-color: #434B5C;\n",
              "      box-shadow: 0px 1px 3px 1px rgba(0, 0, 0, 0.15);\n",
              "      filter: drop-shadow(0px 1px 2px rgba(0, 0, 0, 0.3));\n",
              "      fill: #FFFFFF;\n",
              "    }\n",
              "  </style>\n",
              "\n",
              "      <script>\n",
              "        const buttonEl =\n",
              "          document.querySelector('#df-52488a69-9501-47b8-819d-cda45b8a4299 button.colab-df-convert');\n",
              "        buttonEl.style.display =\n",
              "          google.colab.kernel.accessAllowed ? 'block' : 'none';\n",
              "\n",
              "        async function convertToInteractive(key) {\n",
              "          const element = document.querySelector('#df-52488a69-9501-47b8-819d-cda45b8a4299');\n",
              "          const dataTable =\n",
              "            await google.colab.kernel.invokeFunction('convertToInteractive',\n",
              "                                                     [key], {});\n",
              "          if (!dataTable) return;\n",
              "\n",
              "          const docLinkHtml = 'Like what you see? Visit the ' +\n",
              "            '<a target=\"_blank\" href=https://colab.research.google.com/notebooks/data_table.ipynb>data table notebook</a>'\n",
              "            + ' to learn more about interactive tables.';\n",
              "          element.innerHTML = '';\n",
              "          dataTable['output_type'] = 'display_data';\n",
              "          await google.colab.output.renderOutput(dataTable, element);\n",
              "          const docLink = document.createElement('div');\n",
              "          docLink.innerHTML = docLinkHtml;\n",
              "          element.appendChild(docLink);\n",
              "        }\n",
              "      </script>\n",
              "    </div>\n",
              "  </div>\n",
              "  "
            ]
          },
          "metadata": {},
          "execution_count": 35
        }
      ]
    },
    {
      "cell_type": "code",
      "source": [
        "# Remove Appliances column from traininig set\n",
        "\n",
        "train_X =  sc_train.drop(['Appliances'] , axis=1)\n",
        "train_y = sc_train['Appliances']\n",
        "\n",
        "test_X =  sc_test.drop(['Appliances'] , axis=1)\n",
        "test_y = sc_test['Appliances']"
      ],
      "metadata": {
        "id": "y-3PJKyj1M1K"
      },
      "execution_count": 36,
      "outputs": []
    },
    {
      "cell_type": "code",
      "source": [
        "train_X.head()"
      ],
      "metadata": {
        "colab": {
          "base_uri": "https://localhost:8080/",
          "height": 299
        },
        "id": "WO01MdEr1Mye",
        "outputId": "524f807b-36e1-4d80-fd0b-41d25c21724f"
      },
      "execution_count": 37,
      "outputs": [
        {
          "output_type": "execute_result",
          "data": {
            "text/plain": [
              "             T1        T2        T3        T4        T5        T7        T8  \\\n",
              "9544   0.569827 -0.383584 -0.384018  0.996241 -0.229230  0.349500  0.441571   \n",
              "19366  1.254979  0.298556  1.561061  1.344290  0.163277  1.299615  1.112907   \n",
              "10816  0.320681  0.054501  0.366012 -0.229283  0.145189  0.297243  0.822507   \n",
              "15457 -0.246127 -0.961129 -0.489022 -0.159019 -0.162305 -0.363087  0.087967   \n",
              "2956  -0.246127 -0.024324 -0.300681 -1.013618 -0.061616 -0.579502 -0.564579   \n",
              "\n",
              "           RH_1      RH_2      RH_3  ...      RH_5      RH_6      RH_7  \\\n",
              "9544  -1.398755 -0.629413 -1.197521  ...  2.267242  0.103642 -1.657784   \n",
              "19366  0.004687  0.604569  0.228904  ... -1.454588 -0.471944 -0.060622   \n",
              "10816  1.388043  1.101918 -0.212353  ... -0.101804 -0.676999  0.311400   \n",
              "15457 -1.125096 -0.629413 -1.367589  ...  1.009651 -0.110291 -1.110463   \n",
              "2956   1.789743  1.680118  2.300361  ...  0.137914  1.453771  3.043131   \n",
              "\n",
              "           RH_8      RH_9     T_out  Tdewpoint    RH_out  Press_mm_hg  \\\n",
              "9544  -0.848083 -1.033732 -0.978251  -0.803979  0.529878     1.167725   \n",
              "19366  0.086994  0.725258 -0.217827   0.365687  0.931169     0.226014   \n",
              "10816  0.163327 -0.049050  1.120770   0.803317 -0.896934    -0.733721   \n",
              "15457  0.001120 -1.368892 -1.339609  -1.006881  0.975757    -0.046587   \n",
              "2956   2.777725  2.719419  0.630579   1.400086  0.864287     0.419763   \n",
              "\n",
              "       Windspeed  \n",
              "9544   -1.112160  \n",
              "19366  -1.248270  \n",
              "10816   0.929492  \n",
              "15457  -0.839939  \n",
              "2956    1.065602  \n",
              "\n",
              "[5 rows x 21 columns]"
            ],
            "text/html": [
              "\n",
              "  <div id=\"df-41b32a88-5ceb-4e0b-a830-d373c7d38d70\">\n",
              "    <div class=\"colab-df-container\">\n",
              "      <div>\n",
              "<style scoped>\n",
              "    .dataframe tbody tr th:only-of-type {\n",
              "        vertical-align: middle;\n",
              "    }\n",
              "\n",
              "    .dataframe tbody tr th {\n",
              "        vertical-align: top;\n",
              "    }\n",
              "\n",
              "    .dataframe thead th {\n",
              "        text-align: right;\n",
              "    }\n",
              "</style>\n",
              "<table border=\"1\" class=\"dataframe\">\n",
              "  <thead>\n",
              "    <tr style=\"text-align: right;\">\n",
              "      <th></th>\n",
              "      <th>T1</th>\n",
              "      <th>T2</th>\n",
              "      <th>T3</th>\n",
              "      <th>T4</th>\n",
              "      <th>T5</th>\n",
              "      <th>T7</th>\n",
              "      <th>T8</th>\n",
              "      <th>RH_1</th>\n",
              "      <th>RH_2</th>\n",
              "      <th>RH_3</th>\n",
              "      <th>...</th>\n",
              "      <th>RH_5</th>\n",
              "      <th>RH_6</th>\n",
              "      <th>RH_7</th>\n",
              "      <th>RH_8</th>\n",
              "      <th>RH_9</th>\n",
              "      <th>T_out</th>\n",
              "      <th>Tdewpoint</th>\n",
              "      <th>RH_out</th>\n",
              "      <th>Press_mm_hg</th>\n",
              "      <th>Windspeed</th>\n",
              "    </tr>\n",
              "  </thead>\n",
              "  <tbody>\n",
              "    <tr>\n",
              "      <th>9544</th>\n",
              "      <td>0.569827</td>\n",
              "      <td>-0.383584</td>\n",
              "      <td>-0.384018</td>\n",
              "      <td>0.996241</td>\n",
              "      <td>-0.229230</td>\n",
              "      <td>0.349500</td>\n",
              "      <td>0.441571</td>\n",
              "      <td>-1.398755</td>\n",
              "      <td>-0.629413</td>\n",
              "      <td>-1.197521</td>\n",
              "      <td>...</td>\n",
              "      <td>2.267242</td>\n",
              "      <td>0.103642</td>\n",
              "      <td>-1.657784</td>\n",
              "      <td>-0.848083</td>\n",
              "      <td>-1.033732</td>\n",
              "      <td>-0.978251</td>\n",
              "      <td>-0.803979</td>\n",
              "      <td>0.529878</td>\n",
              "      <td>1.167725</td>\n",
              "      <td>-1.112160</td>\n",
              "    </tr>\n",
              "    <tr>\n",
              "      <th>19366</th>\n",
              "      <td>1.254979</td>\n",
              "      <td>0.298556</td>\n",
              "      <td>1.561061</td>\n",
              "      <td>1.344290</td>\n",
              "      <td>0.163277</td>\n",
              "      <td>1.299615</td>\n",
              "      <td>1.112907</td>\n",
              "      <td>0.004687</td>\n",
              "      <td>0.604569</td>\n",
              "      <td>0.228904</td>\n",
              "      <td>...</td>\n",
              "      <td>-1.454588</td>\n",
              "      <td>-0.471944</td>\n",
              "      <td>-0.060622</td>\n",
              "      <td>0.086994</td>\n",
              "      <td>0.725258</td>\n",
              "      <td>-0.217827</td>\n",
              "      <td>0.365687</td>\n",
              "      <td>0.931169</td>\n",
              "      <td>0.226014</td>\n",
              "      <td>-1.248270</td>\n",
              "    </tr>\n",
              "    <tr>\n",
              "      <th>10816</th>\n",
              "      <td>0.320681</td>\n",
              "      <td>0.054501</td>\n",
              "      <td>0.366012</td>\n",
              "      <td>-0.229283</td>\n",
              "      <td>0.145189</td>\n",
              "      <td>0.297243</td>\n",
              "      <td>0.822507</td>\n",
              "      <td>1.388043</td>\n",
              "      <td>1.101918</td>\n",
              "      <td>-0.212353</td>\n",
              "      <td>...</td>\n",
              "      <td>-0.101804</td>\n",
              "      <td>-0.676999</td>\n",
              "      <td>0.311400</td>\n",
              "      <td>0.163327</td>\n",
              "      <td>-0.049050</td>\n",
              "      <td>1.120770</td>\n",
              "      <td>0.803317</td>\n",
              "      <td>-0.896934</td>\n",
              "      <td>-0.733721</td>\n",
              "      <td>0.929492</td>\n",
              "    </tr>\n",
              "    <tr>\n",
              "      <th>15457</th>\n",
              "      <td>-0.246127</td>\n",
              "      <td>-0.961129</td>\n",
              "      <td>-0.489022</td>\n",
              "      <td>-0.159019</td>\n",
              "      <td>-0.162305</td>\n",
              "      <td>-0.363087</td>\n",
              "      <td>0.087967</td>\n",
              "      <td>-1.125096</td>\n",
              "      <td>-0.629413</td>\n",
              "      <td>-1.367589</td>\n",
              "      <td>...</td>\n",
              "      <td>1.009651</td>\n",
              "      <td>-0.110291</td>\n",
              "      <td>-1.110463</td>\n",
              "      <td>0.001120</td>\n",
              "      <td>-1.368892</td>\n",
              "      <td>-1.339609</td>\n",
              "      <td>-1.006881</td>\n",
              "      <td>0.975757</td>\n",
              "      <td>-0.046587</td>\n",
              "      <td>-0.839939</td>\n",
              "    </tr>\n",
              "    <tr>\n",
              "      <th>2956</th>\n",
              "      <td>-0.246127</td>\n",
              "      <td>-0.024324</td>\n",
              "      <td>-0.300681</td>\n",
              "      <td>-1.013618</td>\n",
              "      <td>-0.061616</td>\n",
              "      <td>-0.579502</td>\n",
              "      <td>-0.564579</td>\n",
              "      <td>1.789743</td>\n",
              "      <td>1.680118</td>\n",
              "      <td>2.300361</td>\n",
              "      <td>...</td>\n",
              "      <td>0.137914</td>\n",
              "      <td>1.453771</td>\n",
              "      <td>3.043131</td>\n",
              "      <td>2.777725</td>\n",
              "      <td>2.719419</td>\n",
              "      <td>0.630579</td>\n",
              "      <td>1.400086</td>\n",
              "      <td>0.864287</td>\n",
              "      <td>0.419763</td>\n",
              "      <td>1.065602</td>\n",
              "    </tr>\n",
              "  </tbody>\n",
              "</table>\n",
              "<p>5 rows × 21 columns</p>\n",
              "</div>\n",
              "      <button class=\"colab-df-convert\" onclick=\"convertToInteractive('df-41b32a88-5ceb-4e0b-a830-d373c7d38d70')\"\n",
              "              title=\"Convert this dataframe to an interactive table.\"\n",
              "              style=\"display:none;\">\n",
              "        \n",
              "  <svg xmlns=\"http://www.w3.org/2000/svg\" height=\"24px\"viewBox=\"0 0 24 24\"\n",
              "       width=\"24px\">\n",
              "    <path d=\"M0 0h24v24H0V0z\" fill=\"none\"/>\n",
              "    <path d=\"M18.56 5.44l.94 2.06.94-2.06 2.06-.94-2.06-.94-.94-2.06-.94 2.06-2.06.94zm-11 1L8.5 8.5l.94-2.06 2.06-.94-2.06-.94L8.5 2.5l-.94 2.06-2.06.94zm10 10l.94 2.06.94-2.06 2.06-.94-2.06-.94-.94-2.06-.94 2.06-2.06.94z\"/><path d=\"M17.41 7.96l-1.37-1.37c-.4-.4-.92-.59-1.43-.59-.52 0-1.04.2-1.43.59L10.3 9.45l-7.72 7.72c-.78.78-.78 2.05 0 2.83L4 21.41c.39.39.9.59 1.41.59.51 0 1.02-.2 1.41-.59l7.78-7.78 2.81-2.81c.8-.78.8-2.07 0-2.86zM5.41 20L4 18.59l7.72-7.72 1.47 1.35L5.41 20z\"/>\n",
              "  </svg>\n",
              "      </button>\n",
              "      \n",
              "  <style>\n",
              "    .colab-df-container {\n",
              "      display:flex;\n",
              "      flex-wrap:wrap;\n",
              "      gap: 12px;\n",
              "    }\n",
              "\n",
              "    .colab-df-convert {\n",
              "      background-color: #E8F0FE;\n",
              "      border: none;\n",
              "      border-radius: 50%;\n",
              "      cursor: pointer;\n",
              "      display: none;\n",
              "      fill: #1967D2;\n",
              "      height: 32px;\n",
              "      padding: 0 0 0 0;\n",
              "      width: 32px;\n",
              "    }\n",
              "\n",
              "    .colab-df-convert:hover {\n",
              "      background-color: #E2EBFA;\n",
              "      box-shadow: 0px 1px 2px rgba(60, 64, 67, 0.3), 0px 1px 3px 1px rgba(60, 64, 67, 0.15);\n",
              "      fill: #174EA6;\n",
              "    }\n",
              "\n",
              "    [theme=dark] .colab-df-convert {\n",
              "      background-color: #3B4455;\n",
              "      fill: #D2E3FC;\n",
              "    }\n",
              "\n",
              "    [theme=dark] .colab-df-convert:hover {\n",
              "      background-color: #434B5C;\n",
              "      box-shadow: 0px 1px 3px 1px rgba(0, 0, 0, 0.15);\n",
              "      filter: drop-shadow(0px 1px 2px rgba(0, 0, 0, 0.3));\n",
              "      fill: #FFFFFF;\n",
              "    }\n",
              "  </style>\n",
              "\n",
              "      <script>\n",
              "        const buttonEl =\n",
              "          document.querySelector('#df-41b32a88-5ceb-4e0b-a830-d373c7d38d70 button.colab-df-convert');\n",
              "        buttonEl.style.display =\n",
              "          google.colab.kernel.accessAllowed ? 'block' : 'none';\n",
              "\n",
              "        async function convertToInteractive(key) {\n",
              "          const element = document.querySelector('#df-41b32a88-5ceb-4e0b-a830-d373c7d38d70');\n",
              "          const dataTable =\n",
              "            await google.colab.kernel.invokeFunction('convertToInteractive',\n",
              "                                                     [key], {});\n",
              "          if (!dataTable) return;\n",
              "\n",
              "          const docLinkHtml = 'Like what you see? Visit the ' +\n",
              "            '<a target=\"_blank\" href=https://colab.research.google.com/notebooks/data_table.ipynb>data table notebook</a>'\n",
              "            + ' to learn more about interactive tables.';\n",
              "          element.innerHTML = '';\n",
              "          dataTable['output_type'] = 'display_data';\n",
              "          await google.colab.output.renderOutput(dataTable, element);\n",
              "          const docLink = document.createElement('div');\n",
              "          docLink.innerHTML = docLinkHtml;\n",
              "          element.appendChild(docLink);\n",
              "        }\n",
              "      </script>\n",
              "    </div>\n",
              "  </div>\n",
              "  "
            ]
          },
          "metadata": {},
          "execution_count": 37
        }
      ]
    },
    {
      "cell_type": "code",
      "source": [
        "train_y.head()"
      ],
      "metadata": {
        "colab": {
          "base_uri": "https://localhost:8080/"
        },
        "id": "2ct87rTv1MuE",
        "outputId": "907c2b90-ddc9-4bf7-f1a4-16a6ed5a205f"
      },
      "execution_count": 38,
      "outputs": [
        {
          "output_type": "execute_result",
          "data": {
            "text/plain": [
              "9544    -0.270443\n",
              "19366   -0.464759\n",
              "10816    0.021032\n",
              "15457   -0.561918\n",
              "2956    -0.464759\n",
              "Name: Appliances, dtype: float64"
            ]
          },
          "metadata": {},
          "execution_count": 38
        }
      ]
    },
    {
      "cell_type": "markdown",
      "source": [
        "#Model Implementation"
      ],
      "metadata": {
        "id": "QpoQrPMd31EM"
      }
    },
    {
      "cell_type": "code",
      "source": [
        "from sklearn.linear_model import Ridge, Lasso\n",
        "from sklearn.ensemble import RandomForestRegressor, GradientBoostingRegressor, ExtraTreesRegressor\n",
        "from sklearn.neural_network import MLPRegressor\n",
        "import xgboost as xgb\n",
        "from sklearn import neighbors\n",
        "from sklearn.svm import SVR"
      ],
      "metadata": {
        "id": "LRQfsoIE1MqU"
      },
      "execution_count": 39,
      "outputs": []
    },
    {
      "cell_type": "code",
      "source": [
        "models = [['Lasso: ', Lasso()],\n",
        "           ['Ridge: ', Ridge()],\n",
        "           ['KNeighborsRegressor: ',  neighbors.KNeighborsRegressor()],\n",
        "           ['SVR:' , SVR(kernel='rbf')],\n",
        "           ['RandomForest ',RandomForestRegressor()],\n",
        "           ['ExtraTreeRegressor :',ExtraTreesRegressor()],\n",
        "           ['GradientBoostingClassifier: ', GradientBoostingRegressor()] ,\n",
        "           ['XGBRegressor: ', xgb.XGBRegressor()] ,\n",
        "           ['MLPRegressor: ', MLPRegressor(  activation='relu', solver='adam',learning_rate='adaptive',max_iter=1000,learning_rate_init=0.01,alpha=0.01)]]"
      ],
      "metadata": {
        "id": "XnNbQGpi07r-"
      },
      "execution_count": 40,
      "outputs": []
    },
    {
      "cell_type": "code",
      "source": [
        "# Run all the proposed models and update the information in a list model_data\n",
        "import time\n",
        "from math import sqrt\n",
        "from sklearn.metrics import mean_squared_error\n",
        "\n",
        "model_data = []\n",
        "for name,curr_model in models :\n",
        "    curr_model_data = {}\n",
        "    curr_model.random_state = 78\n",
        "    curr_model_data[\"Name\"] = name\n",
        "    start = time.time()\n",
        "    curr_model.fit(train_X,train_y)\n",
        "    end = time.time()\n",
        "    curr_model_data[\"Train_Time\"] = end - start\n",
        "    curr_model_data[\"Train_R2_Score\"] = metrics.r2_score(train_y,curr_model.predict(train_X))\n",
        "    curr_model_data[\"Test_R2_Score\"] = metrics.r2_score(test_y,curr_model.predict(test_X))\n",
        "    curr_model_data[\"Test_RMSE_Score\"] = sqrt(mean_squared_error(test_y,curr_model.predict(test_X)))\n",
        "    model_data.append(curr_model_data)"
      ],
      "metadata": {
        "colab": {
          "base_uri": "https://localhost:8080/"
        },
        "id": "5AdokJ1J33ZO",
        "outputId": "4c228104-d57d-47d3-ffdd-43f3b50db778"
      },
      "execution_count": 41,
      "outputs": [
        {
          "output_type": "stream",
          "name": "stdout",
          "text": [
            "[18:09:27] WARNING: /workspace/src/objective/regression_obj.cu:152: reg:linear is now deprecated in favor of reg:squarederror.\n"
          ]
        }
      ]
    },
    {
      "cell_type": "code",
      "source": [
        "model_data"
      ],
      "metadata": {
        "colab": {
          "base_uri": "https://localhost:8080/"
        },
        "id": "YaTaBw0N33W8",
        "outputId": "14e2bee4-4d83-46e8-8429-79fe90e88c58"
      },
      "execution_count": 42,
      "outputs": [
        {
          "output_type": "execute_result",
          "data": {
            "text/plain": [
              "[{'Name': 'Lasso: ',\n",
              "  'Train_Time': 0.013498067855834961,\n",
              "  'Train_R2_Score': 0.0,\n",
              "  'Test_R2_Score': 0.0,\n",
              "  'Test_RMSE_Score': 1.0},\n",
              " {'Name': 'Ridge: ',\n",
              "  'Train_Time': 0.02115488052368164,\n",
              "  'Train_R2_Score': 0.1375528613228285,\n",
              "  'Test_R2_Score': 0.12139099895516814,\n",
              "  'Test_RMSE_Score': 0.937341453817568},\n",
              " {'Name': 'KNeighborsRegressor: ',\n",
              "  'Train_Time': 0.0022563934326171875,\n",
              "  'Train_R2_Score': 0.6814826882446664,\n",
              "  'Test_R2_Score': 0.4855598647200512,\n",
              "  'Test_RMSE_Score': 0.7172448224141802},\n",
              " {'Name': 'SVR:',\n",
              "  'Train_Time': 11.471240997314453,\n",
              "  'Train_R2_Score': 0.23572363185689527,\n",
              "  'Test_R2_Score': 0.2099338792025781,\n",
              "  'Test_RMSE_Score': 0.8888566368078836},\n",
              " {'Name': 'RandomForest ',\n",
              "  'Train_Time': 29.336543560028076,\n",
              "  'Train_R2_Score': 0.9393264177690678,\n",
              "  'Test_R2_Score': 0.5557145977210723,\n",
              "  'Test_RMSE_Score': 0.6665473743695399},\n",
              " {'Name': 'ExtraTreeRegressor :',\n",
              "  'Train_Time': 7.260812997817993,\n",
              "  'Train_R2_Score': 1.0,\n",
              "  'Test_R2_Score': 0.632617176565367,\n",
              "  'Test_RMSE_Score': 0.6061211293418446},\n",
              " {'Name': 'GradientBoostingClassifier: ',\n",
              "  'Train_Time': 6.93705153465271,\n",
              "  'Train_R2_Score': 0.333526282064575,\n",
              "  'Test_R2_Score': 0.23198808658999304,\n",
              "  'Test_RMSE_Score': 0.8763628891104455},\n",
              " {'Name': 'XGBRegressor: ',\n",
              "  'Train_Time': 1.537287712097168,\n",
              "  'Train_R2_Score': 0.3221738982738469,\n",
              "  'Test_R2_Score': 0.2263221195553594,\n",
              "  'Test_RMSE_Score': 0.879589609104519},\n",
              " {'Name': 'MLPRegressor: ',\n",
              "  'Train_Time': 2.686760663986206,\n",
              "  'Train_R2_Score': 0.2985668922597653,\n",
              "  'Test_R2_Score': 0.24317789368571174,\n",
              "  'Test_RMSE_Score': 0.8699552323621533}]"
            ]
          },
          "metadata": {},
          "execution_count": 42
        }
      ]
    },
    {
      "cell_type": "code",
      "source": [
        "# Convert list to dataframe\n",
        "df = pd.DataFrame(model_data)"
      ],
      "metadata": {
        "id": "75UWoRaF33S-"
      },
      "execution_count": 43,
      "outputs": []
    },
    {
      "cell_type": "code",
      "source": [
        "df"
      ],
      "metadata": {
        "colab": {
          "base_uri": "https://localhost:8080/",
          "height": 332
        },
        "id": "zMKmQsf242aC",
        "outputId": "35e52e0b-1759-4378-ad83-aba1bd419b6a"
      },
      "execution_count": 44,
      "outputs": [
        {
          "output_type": "execute_result",
          "data": {
            "text/plain": [
              "                           Name  Train_Time  Train_R2_Score  Test_R2_Score  \\\n",
              "0                       Lasso:     0.013498        0.000000       0.000000   \n",
              "1                       Ridge:     0.021155        0.137553       0.121391   \n",
              "2         KNeighborsRegressor:     0.002256        0.681483       0.485560   \n",
              "3                          SVR:   11.471241        0.235724       0.209934   \n",
              "4                 RandomForest    29.336544        0.939326       0.555715   \n",
              "5          ExtraTreeRegressor :    7.260813        1.000000       0.632617   \n",
              "6  GradientBoostingClassifier:     6.937052        0.333526       0.231988   \n",
              "7                XGBRegressor:     1.537288        0.322174       0.226322   \n",
              "8                MLPRegressor:     2.686761        0.298567       0.243178   \n",
              "\n",
              "   Test_RMSE_Score  \n",
              "0         1.000000  \n",
              "1         0.937341  \n",
              "2         0.717245  \n",
              "3         0.888857  \n",
              "4         0.666547  \n",
              "5         0.606121  \n",
              "6         0.876363  \n",
              "7         0.879590  \n",
              "8         0.869955  "
            ],
            "text/html": [
              "\n",
              "  <div id=\"df-1837bf4f-f0c1-4769-ba83-c711b3404b9c\">\n",
              "    <div class=\"colab-df-container\">\n",
              "      <div>\n",
              "<style scoped>\n",
              "    .dataframe tbody tr th:only-of-type {\n",
              "        vertical-align: middle;\n",
              "    }\n",
              "\n",
              "    .dataframe tbody tr th {\n",
              "        vertical-align: top;\n",
              "    }\n",
              "\n",
              "    .dataframe thead th {\n",
              "        text-align: right;\n",
              "    }\n",
              "</style>\n",
              "<table border=\"1\" class=\"dataframe\">\n",
              "  <thead>\n",
              "    <tr style=\"text-align: right;\">\n",
              "      <th></th>\n",
              "      <th>Name</th>\n",
              "      <th>Train_Time</th>\n",
              "      <th>Train_R2_Score</th>\n",
              "      <th>Test_R2_Score</th>\n",
              "      <th>Test_RMSE_Score</th>\n",
              "    </tr>\n",
              "  </thead>\n",
              "  <tbody>\n",
              "    <tr>\n",
              "      <th>0</th>\n",
              "      <td>Lasso:</td>\n",
              "      <td>0.013498</td>\n",
              "      <td>0.000000</td>\n",
              "      <td>0.000000</td>\n",
              "      <td>1.000000</td>\n",
              "    </tr>\n",
              "    <tr>\n",
              "      <th>1</th>\n",
              "      <td>Ridge:</td>\n",
              "      <td>0.021155</td>\n",
              "      <td>0.137553</td>\n",
              "      <td>0.121391</td>\n",
              "      <td>0.937341</td>\n",
              "    </tr>\n",
              "    <tr>\n",
              "      <th>2</th>\n",
              "      <td>KNeighborsRegressor:</td>\n",
              "      <td>0.002256</td>\n",
              "      <td>0.681483</td>\n",
              "      <td>0.485560</td>\n",
              "      <td>0.717245</td>\n",
              "    </tr>\n",
              "    <tr>\n",
              "      <th>3</th>\n",
              "      <td>SVR:</td>\n",
              "      <td>11.471241</td>\n",
              "      <td>0.235724</td>\n",
              "      <td>0.209934</td>\n",
              "      <td>0.888857</td>\n",
              "    </tr>\n",
              "    <tr>\n",
              "      <th>4</th>\n",
              "      <td>RandomForest</td>\n",
              "      <td>29.336544</td>\n",
              "      <td>0.939326</td>\n",
              "      <td>0.555715</td>\n",
              "      <td>0.666547</td>\n",
              "    </tr>\n",
              "    <tr>\n",
              "      <th>5</th>\n",
              "      <td>ExtraTreeRegressor :</td>\n",
              "      <td>7.260813</td>\n",
              "      <td>1.000000</td>\n",
              "      <td>0.632617</td>\n",
              "      <td>0.606121</td>\n",
              "    </tr>\n",
              "    <tr>\n",
              "      <th>6</th>\n",
              "      <td>GradientBoostingClassifier:</td>\n",
              "      <td>6.937052</td>\n",
              "      <td>0.333526</td>\n",
              "      <td>0.231988</td>\n",
              "      <td>0.876363</td>\n",
              "    </tr>\n",
              "    <tr>\n",
              "      <th>7</th>\n",
              "      <td>XGBRegressor:</td>\n",
              "      <td>1.537288</td>\n",
              "      <td>0.322174</td>\n",
              "      <td>0.226322</td>\n",
              "      <td>0.879590</td>\n",
              "    </tr>\n",
              "    <tr>\n",
              "      <th>8</th>\n",
              "      <td>MLPRegressor:</td>\n",
              "      <td>2.686761</td>\n",
              "      <td>0.298567</td>\n",
              "      <td>0.243178</td>\n",
              "      <td>0.869955</td>\n",
              "    </tr>\n",
              "  </tbody>\n",
              "</table>\n",
              "</div>\n",
              "      <button class=\"colab-df-convert\" onclick=\"convertToInteractive('df-1837bf4f-f0c1-4769-ba83-c711b3404b9c')\"\n",
              "              title=\"Convert this dataframe to an interactive table.\"\n",
              "              style=\"display:none;\">\n",
              "        \n",
              "  <svg xmlns=\"http://www.w3.org/2000/svg\" height=\"24px\"viewBox=\"0 0 24 24\"\n",
              "       width=\"24px\">\n",
              "    <path d=\"M0 0h24v24H0V0z\" fill=\"none\"/>\n",
              "    <path d=\"M18.56 5.44l.94 2.06.94-2.06 2.06-.94-2.06-.94-.94-2.06-.94 2.06-2.06.94zm-11 1L8.5 8.5l.94-2.06 2.06-.94-2.06-.94L8.5 2.5l-.94 2.06-2.06.94zm10 10l.94 2.06.94-2.06 2.06-.94-2.06-.94-.94-2.06-.94 2.06-2.06.94z\"/><path d=\"M17.41 7.96l-1.37-1.37c-.4-.4-.92-.59-1.43-.59-.52 0-1.04.2-1.43.59L10.3 9.45l-7.72 7.72c-.78.78-.78 2.05 0 2.83L4 21.41c.39.39.9.59 1.41.59.51 0 1.02-.2 1.41-.59l7.78-7.78 2.81-2.81c.8-.78.8-2.07 0-2.86zM5.41 20L4 18.59l7.72-7.72 1.47 1.35L5.41 20z\"/>\n",
              "  </svg>\n",
              "      </button>\n",
              "      \n",
              "  <style>\n",
              "    .colab-df-container {\n",
              "      display:flex;\n",
              "      flex-wrap:wrap;\n",
              "      gap: 12px;\n",
              "    }\n",
              "\n",
              "    .colab-df-convert {\n",
              "      background-color: #E8F0FE;\n",
              "      border: none;\n",
              "      border-radius: 50%;\n",
              "      cursor: pointer;\n",
              "      display: none;\n",
              "      fill: #1967D2;\n",
              "      height: 32px;\n",
              "      padding: 0 0 0 0;\n",
              "      width: 32px;\n",
              "    }\n",
              "\n",
              "    .colab-df-convert:hover {\n",
              "      background-color: #E2EBFA;\n",
              "      box-shadow: 0px 1px 2px rgba(60, 64, 67, 0.3), 0px 1px 3px 1px rgba(60, 64, 67, 0.15);\n",
              "      fill: #174EA6;\n",
              "    }\n",
              "\n",
              "    [theme=dark] .colab-df-convert {\n",
              "      background-color: #3B4455;\n",
              "      fill: #D2E3FC;\n",
              "    }\n",
              "\n",
              "    [theme=dark] .colab-df-convert:hover {\n",
              "      background-color: #434B5C;\n",
              "      box-shadow: 0px 1px 3px 1px rgba(0, 0, 0, 0.15);\n",
              "      filter: drop-shadow(0px 1px 2px rgba(0, 0, 0, 0.3));\n",
              "      fill: #FFFFFF;\n",
              "    }\n",
              "  </style>\n",
              "\n",
              "      <script>\n",
              "        const buttonEl =\n",
              "          document.querySelector('#df-1837bf4f-f0c1-4769-ba83-c711b3404b9c button.colab-df-convert');\n",
              "        buttonEl.style.display =\n",
              "          google.colab.kernel.accessAllowed ? 'block' : 'none';\n",
              "\n",
              "        async function convertToInteractive(key) {\n",
              "          const element = document.querySelector('#df-1837bf4f-f0c1-4769-ba83-c711b3404b9c');\n",
              "          const dataTable =\n",
              "            await google.colab.kernel.invokeFunction('convertToInteractive',\n",
              "                                                     [key], {});\n",
              "          if (!dataTable) return;\n",
              "\n",
              "          const docLinkHtml = 'Like what you see? Visit the ' +\n",
              "            '<a target=\"_blank\" href=https://colab.research.google.com/notebooks/data_table.ipynb>data table notebook</a>'\n",
              "            + ' to learn more about interactive tables.';\n",
              "          element.innerHTML = '';\n",
              "          dataTable['output_type'] = 'display_data';\n",
              "          await google.colab.output.renderOutput(dataTable, element);\n",
              "          const docLink = document.createElement('div');\n",
              "          docLink.innerHTML = docLinkHtml;\n",
              "          element.appendChild(docLink);\n",
              "        }\n",
              "      </script>\n",
              "    </div>\n",
              "  </div>\n",
              "  "
            ]
          },
          "metadata": {},
          "execution_count": 44
        }
      ]
    },
    {
      "cell_type": "code",
      "source": [
        "df.plot(x=\"Name\", y=['Test_R2_Score' , 'Train_R2_Score' , 'Test_RMSE_Score'], kind=\"bar\" , title = 'R2 Score Results' , figsize= (10,8)) ;"
      ],
      "metadata": {
        "colab": {
          "base_uri": "https://localhost:8080/",
          "height": 642
        },
        "id": "WjM3wW3F47hm",
        "outputId": "c4288ba7-5e31-45f6-f334-276cf8244a5e"
      },
      "execution_count": 45,
      "outputs": [
        {
          "output_type": "display_data",
          "data": {
            "text/plain": [
              "<Figure size 720x576 with 1 Axes>"
            ],
            "image/png": "[encoded data removed]"
          },
          "metadata": {
            "needs_background": "light"
          }
        }
      ]
    },
    {
      "cell_type": "markdown",
      "source": [
        "#Parameter Tuning"
      ],
      "metadata": {
        "id": "wYAk3Gex5QdN"
      }
    },
    {
      "cell_type": "code",
      "source": [
        "from sklearn.model_selection import GridSearchCV\n",
        "param_grid = [{'max_depth': [80, 150, 200,250],\n",
        "              'n_estimators' : [100,150,200,250],\n",
        "              'max_features': [\"auto\", \"sqrt\", \"log2\"]}]\n",
        "reg = ExtraTreesRegressor(random_state=40)\n",
        "# Instantiate the grid search model\n",
        "grid_search = GridSearchCV(estimator = reg, param_grid = param_grid, cv = 5, n_jobs = -1 , scoring='r2' , verbose=2)\n",
        "grid_search.fit(train_X, train_y)"
      ],
      "metadata": {
        "colab": {
          "base_uri": "https://localhost:8080/"
        },
        "id": "DaNLOcQR5ST2",
        "outputId": "606255e8-b1cb-4180-94ce-7cb884d00435"
      },
      "execution_count": 46,
      "outputs": [
        {
          "output_type": "stream",
          "name": "stdout",
          "text": [
            "Fitting 5 folds for each of 48 candidates, totalling 240 fits\n"
          ]
        },
        {
          "output_type": "execute_result",
          "data": {
            "text/plain": [
              "GridSearchCV(cv=5, estimator=ExtraTreesRegressor(random_state=40), n_jobs=-1,\n",
              "             param_grid=[{'max_depth': [80, 150, 200, 250],\n",
              "                          'max_features': ['auto', 'sqrt', 'log2'],\n",
              "                          'n_estimators': [100, 150, 200, 250]}],\n",
              "             scoring='r2', verbose=2)"
            ]
          },
          "metadata": {},
          "execution_count": 46
        }
      ]
    },
    {
      "cell_type": "code",
      "source": [
        "# Tuned parameter set\n",
        "grid_search.best_params_"
      ],
      "metadata": {
        "colab": {
          "base_uri": "https://localhost:8080/"
        },
        "id": "WT7sTqlg5SiJ",
        "outputId": "052dd834-ca55-41a2-edd4-0faf727ea551"
      },
      "execution_count": 47,
      "outputs": [
        {
          "output_type": "execute_result",
          "data": {
            "text/plain": [
              "{'max_depth': 80, 'max_features': 'sqrt', 'n_estimators': 150}"
            ]
          },
          "metadata": {},
          "execution_count": 47
        }
      ]
    },
    {
      "cell_type": "code",
      "source": [
        "# Best possible parameters for ExtraTreesRegressor\n",
        "grid_search.best_estimator_"
      ],
      "metadata": {
        "colab": {
          "base_uri": "https://localhost:8080/"
        },
        "id": "tzbWmscy5Sed",
        "outputId": "9c19e32b-8d08-4674-95d4-acf8e6b7c880"
      },
      "execution_count": 48,
      "outputs": [
        {
          "output_type": "execute_result",
          "data": {
            "text/plain": [
              "ExtraTreesRegressor(max_depth=80, max_features='sqrt', n_estimators=150,\n",
              "                    random_state=40)"
            ]
          },
          "metadata": {},
          "execution_count": 48
        }
      ]
    },
    {
      "cell_type": "code",
      "source": [
        "# R2 score on training set with tuned parameters\n",
        "\n",
        "grid_search.best_estimator_.score(train_X,train_y)"
      ],
      "metadata": {
        "colab": {
          "base_uri": "https://localhost:8080/"
        },
        "id": "u1j-KOBG5ScM",
        "outputId": "97f7d070-9d66-42c3-c578-fb66f6f51c6d"
      },
      "execution_count": 49,
      "outputs": [
        {
          "output_type": "execute_result",
          "data": {
            "text/plain": [
              "1.0"
            ]
          },
          "metadata": {},
          "execution_count": 49
        }
      ]
    },
    {
      "cell_type": "code",
      "source": [
        "# R2 score on test set with tuned parameters\n",
        "grid_search.best_estimator_.score(test_X,test_y)"
      ],
      "metadata": {
        "colab": {
          "base_uri": "https://localhost:8080/"
        },
        "id": "Yn92_6xB5SZI",
        "outputId": "cdeab4fc-d83d-4f09-875d-0c7a1e13f91a"
      },
      "execution_count": 50,
      "outputs": [
        {
          "output_type": "execute_result",
          "data": {
            "text/plain": [
              "0.6320200276731016"
            ]
          },
          "metadata": {},
          "execution_count": 50
        }
      ]
    },
    {
      "cell_type": "code",
      "source": [
        "# RMSE score on test set with tuned parameters\n",
        "\n",
        "np.sqrt(mean_squared_error(test_y, grid_search.best_estimator_.predict(test_X)))"
      ],
      "metadata": {
        "colab": {
          "base_uri": "https://localhost:8080/"
        },
        "id": "IXZRZmSuAvCa",
        "outputId": "ae5757d4-7de7-4f55-8a59-d3e104d290a0"
      },
      "execution_count": 51,
      "outputs": [
        {
          "output_type": "execute_result",
          "data": {
            "text/plain": [
              "0.6066135279788099"
            ]
          },
          "metadata": {},
          "execution_count": 51
        }
      ]
    },
    {
      "cell_type": "markdown",
      "source": [
        "#Feature Importance"
      ],
      "metadata": {
        "id": "XlhYi0FJAx5D"
      }
    },
    {
      "cell_type": "code",
      "source": [
        "# Get sorted list of features in order of importance\n",
        "feature_indices = np.argsort(grid_search.best_estimator_.feature_importances_)"
      ],
      "metadata": {
        "id": "MevmjLYDAz69"
      },
      "execution_count": 52,
      "outputs": []
    },
    {
      "cell_type": "code",
      "source": [
        "importances = grid_search.best_estimator_.feature_importances_\n",
        "indices = np.argsort(importances)[::-1]\n",
        "names = [train_X.columns[i] for i in indices]\n",
        "# Create plot\n",
        "plt.figure(figsize=(10,6))\n",
        "\n",
        "# Create plot title\n",
        "plt.title(\"Feature Importance\")\n",
        "\n",
        "# Add bars\n",
        "plt.bar(range(train_X.shape[1]), importances[indices])\n",
        "\n",
        "# Add feature names as x-axis labels\n",
        "plt.xticks(range(train_X.shape[1]), names, rotation=90)\n",
        "\n",
        "# Show plot\n",
        "plt.show()"
      ],
      "metadata": {
        "colab": {
          "base_uri": "https://localhost:8080/",
          "height": 448
        },
        "id": "bg2maGuzAz4A",
        "outputId": "c9ffa079-64c0-4bbd-fd6c-8b82c9aab8c4"
      },
      "execution_count": 53,
      "outputs": [
        {
          "output_type": "display_data",
          "data": {
            "text/plain": [
              "<Figure size 720x432 with 1 Axes>"
            ],
            "image/png": "[encoded data removed]"
          },
          "metadata": {
            "needs_background": "light"
          }
        }
      ]
    },
    {
      "cell_type": "code",
      "source": [
        "# Get top 5 most important feature \n",
        "names[0:5]"
      ],
      "metadata": {
        "colab": {
          "base_uri": "https://localhost:8080/"
        },
        "id": "gpIaXUOEAz0j",
        "outputId": "21317929-e70e-47c5-c516-a00d16f1b65a"
      },
      "execution_count": 54,
      "outputs": [
        {
          "output_type": "execute_result",
          "data": {
            "text/plain": [
              "['RH_8', 'RH_1', 'RH_out', 'T3', 'RH_3']"
            ]
          },
          "metadata": {},
          "execution_count": 54
        }
      ]
    },
    {
      "cell_type": "code",
      "source": [
        "# Get 5 least important feature \n",
        "names[-5:]"
      ],
      "metadata": {
        "colab": {
          "base_uri": "https://localhost:8080/"
        },
        "id": "Y_8LADGSAzx4",
        "outputId": "b82bbd44-90a6-4452-f0fe-febcd6f39409"
      },
      "execution_count": 55,
      "outputs": [
        {
          "output_type": "execute_result",
          "data": {
            "text/plain": [
              "['T4', 'T7', 'Windspeed', 'T1', 'T5']"
            ]
          },
          "metadata": {},
          "execution_count": 55
        }
      ]
    },
    {
      "cell_type": "code",
      "source": [
        "# Reduce test & training set to 5 feature set\n",
        "train_important_feature = train_X[names[0:5]]\n",
        "test_important_feature = test_X[names[0:5]]"
      ],
      "metadata": {
        "id": "YqyrHvAcAzvC"
      },
      "execution_count": 56,
      "outputs": []
    },
    {
      "cell_type": "code",
      "source": [
        "# Clone the Gridsearch model with his parameter and fit on reduced dataset\n",
        "\n",
        "from sklearn.base import clone\n",
        "cloned_model = clone(grid_search.best_estimator_)\n",
        "cloned_model.fit(train_important_feature , train_y)"
      ],
      "metadata": {
        "colab": {
          "base_uri": "https://localhost:8080/"
        },
        "id": "2FJZNakFAzHS",
        "outputId": "91936b65-ad55-46d1-d736-e4032b86e01f"
      },
      "execution_count": 57,
      "outputs": [
        {
          "output_type": "execute_result",
          "data": {
            "text/plain": [
              "ExtraTreesRegressor(max_depth=80, max_features='sqrt', n_estimators=150,\n",
              "                    random_state=40)"
            ]
          },
          "metadata": {},
          "execution_count": 57
        }
      ]
    },
    {
      "cell_type": "code",
      "source": [
        "# Reduced dataset scores \n",
        "\n",
        "print('Training set R2 Score - ', metrics.r2_score(train_y,cloned_model.predict(train_important_feature)))\n",
        "print('Testing set R2 Score - ', metrics.r2_score(test_y,cloned_model.predict(test_important_feature)))\n",
        "print('Testing set RMSE Score - ', np.sqrt(mean_squared_error(test_y, cloned_model.predict(test_important_feature))))"
      ],
      "metadata": {
        "colab": {
          "base_uri": "https://localhost:8080/"
        },
        "id": "_VdADwtwBNhn",
        "outputId": "a3a95f6a-bca3-481f-e7da-570a518f28bd"
      },
      "execution_count": 58,
      "outputs": [
        {
          "output_type": "stream",
          "name": "stdout",
          "text": [
            "Training set R2 Score -  0.9999837366325176\n",
            "Testing set R2 Score -  0.4751889249428549\n",
            "Testing set RMSE Score -  0.7244384549823022\n"
          ]
        }
      ]
    },
    {
      "cell_type": "markdown",
      "source": [
        "#Linear Regression model"
      ],
      "metadata": {
        "id": "uJ2J_MAQBjDL"
      }
    },
    {
      "cell_type": "code",
      "source": [
        "x= feature_vars.iloc[:1200,:]\n",
        "y= target_vars.iloc[:1200,:]\n",
        "\n",
        "scaler= StandardScaler()\n",
        "x=scaler.fit_transform(x)"
      ],
      "metadata": {
        "id": "LVMCG6hgBhh0"
      },
      "execution_count": 59,
      "outputs": []
    },
    {
      "cell_type": "code",
      "source": [
        "x_train, x_test, y_train, y_test= train_test_split(x,y, random_state=0)"
      ],
      "metadata": {
        "id": "ZP0uLFNSBmFP"
      },
      "execution_count": 60,
      "outputs": []
    },
    {
      "cell_type": "code",
      "source": [
        "lreg= LinearRegression()\n",
        "lreg.fit(x_train, y_train)\n",
        "print(f'Train score for Linear regression model without using Kfold validation is: {lreg.score(x_train, y_train)}')\n",
        "\n",
        "train_scores= cross_val_score(lreg,x_train,y_train, cv=10)\n",
        "print(f'Train score for Linear regression model using 10Fold cross validation is:  {train_scores.mean()}')\n",
        "test_scores= cross_val_score(lreg,x_test,y_test, cv=10)\n",
        "print(f'Test score for Linear regression model using 10Fold cross validation is:  {test_scores.mean()}')"
      ],
      "metadata": {
        "colab": {
          "base_uri": "https://localhost:8080/"
        },
        "id": "j84_Ix2SBmDW",
        "outputId": "fb5fa850-5654-4d45-eb3f-a8169facbe6f"
      },
      "execution_count": 61,
      "outputs": [
        {
          "output_type": "stream",
          "name": "stdout",
          "text": [
            "Train score for Linear regression model without using Kfold validation is: 0.22072266602712587\n",
            "Train score for Linear regression model using 10Fold cross validation is:  0.15202108428511374\n",
            "Test score for Linear regression model using 10Fold cross validation is:  0.0073507677556326366\n"
          ]
        }
      ]
    },
    {
      "cell_type": "code",
      "source": [
        "mse= cross_val_score(lreg, x_train, y_train, scoring=\"neg_mean_squared_error\", cv=10)\n",
        "print(f'RMSE for Linear regression model using 10Fold cross validation is: {mse.mean()}')"
      ],
      "metadata": {
        "colab": {
          "base_uri": "https://localhost:8080/"
        },
        "id": "OlotL4hjBmBi",
        "outputId": "961d454c-5ca2-48d6-8d34-340ced782a60"
      },
      "execution_count": 62,
      "outputs": [
        {
          "output_type": "stream",
          "name": "stdout",
          "text": [
            "RMSE for Linear regression model using 10Fold cross validation is: -14584.638295569373\n"
          ]
        }
      ]
    },
    {
      "cell_type": "markdown",
      "source": [
        "#Improved Linear Regression\n",
        "Ridge"
      ],
      "metadata": {
        "id": "MukKVdOjGK8z"
      }
    },
    {
      "cell_type": "code",
      "source": [
        "ridge= Ridge()\n",
        "param= {'alpha':[ 0.01, 0.1, 1, 5, 10,20,30,50]}\n",
        "ridge_regressor= GridSearchCV(ridge, param, cv=10, return_train_score= True)\n",
        "ridge_regressor.fit(x_train, y_train)\n",
        "ridge_regressor.score(x_test, y_test)"
      ],
      "metadata": {
        "id": "0dj_iIJkBl_N",
        "colab": {
          "base_uri": "https://localhost:8080/"
        },
        "outputId": "c82ebb35-f4ca-4964-b639-49af2a3423d8"
      },
      "execution_count": 63,
      "outputs": [
        {
          "output_type": "execute_result",
          "data": {
            "text/plain": [
              "0.18953169509567092"
            ]
          },
          "metadata": {},
          "execution_count": 63
        }
      ]
    },
    {
      "cell_type": "code",
      "source": [
        "ridge_train_score_list= ridge_regressor.cv_results_[\"mean_train_score\"]\n",
        "print(f'Train score across different alpha is: {ridge_train_score_list}')\n",
        "\n",
        "ridge_test_score_list= ridge_regressor.cv_results_[\"mean_test_score\"]\n",
        "print(f'\\nTest score across different alpha is: {ridge_test_score_list}')"
      ],
      "metadata": {
        "id": "ix2DpVBkBl8a",
        "colab": {
          "base_uri": "https://localhost:8080/"
        },
        "outputId": "3651a57d-a609-4d28-ddc5-679b2edba5fc"
      },
      "execution_count": 64,
      "outputs": [
        {
          "output_type": "stream",
          "name": "stdout",
          "text": [
            "Train score across different alpha is: [0.22370711 0.22369395 0.22275837 0.21483214 0.20635337 0.19412534\n",
            " 0.18525716 0.17251894]\n",
            "\n",
            "Test score across different alpha is: [0.15204322 0.15222578 0.15289637 0.14924136 0.14427885 0.13701468\n",
            " 0.13170794 0.12398595]\n"
          ]
        }
      ]
    },
    {
      "cell_type": "code",
      "source": [
        "#visualize the result:plots\n",
        "x_range= [0.01, 0.1, 1, 5, 10, 20, 30, 50]\n",
        "plt.plot(x_range, ridge_train_score_list, c = 'g', label = 'Train Score')\n",
        "plt.plot(x_range, ridge_test_score_list, c = 'b', label = 'Test Score')\n",
        "plt.xscale('log')\n",
        "plt.legend(loc = 3)\n",
        "plt.xlabel(r'$\\alpha$')\n",
        "plt.ylabel('Score')\n",
        "\n",
        "print(f'Best parameter for ridge regression is: {ridge_regressor.best_params_}')\n",
        "print(f'Average training score for ridge regression model using 10Fold CV is: {((ridge_regressor.cv_results_[\"mean_train_score\"]).sum())/len(x_range)}')\n",
        "print(f'Average testing score for ridge regression model using 10Fold CV is: {((ridge_regressor.cv_results_[\"mean_test_score\"]).sum())/len(x_range)}')\n",
        "      "
      ],
      "metadata": {
        "id": "atdQq-KSBl5e",
        "colab": {
          "base_uri": "https://localhost:8080/",
          "height": 335
        },
        "outputId": "adff6f52-e582-4f98-83a9-dd1e2f5d8590"
      },
      "execution_count": 65,
      "outputs": [
        {
          "output_type": "stream",
          "name": "stdout",
          "text": [
            "Best parameter for ridge regression is: {'alpha': 1}\n",
            "Average training score for ridge regression model using 10Fold CV is: 0.20540579795324618\n",
            "Average testing score for ridge regression model using 10Fold CV is: 0.14292426787770646\n"
          ]
        },
        {
          "output_type": "display_data",
          "data": {
            "text/plain": [
              "<Figure size 432x288 with 1 Axes>"
            ],
            "image/png": "[encoded data removed]"
          },
          "metadata": {
            "needs_background": "light"
          }
        }
      ]
    },
    {
      "cell_type": "code",
      "source": [
        "#Implementing the final model with the best param with Root mean squared error(RMSE) as the scoring metrics\n",
        "ridge_final= Ridge(alpha=20)\n",
        "ridge_final.fit(x_train, y_train)\n",
        "ridge_final_train_scores= cross_val_score(ridge_final,x_train, y_train, cv=10, scoring= 'neg_mean_squared_error')\n",
        "ridge_final_test_scores= cross_val_score(ridge_final,x_test, y_test, cv=10, scoring= 'neg_mean_squared_error')\n",
        "print(f'Train RMSE for best Ridge regression model using 10 Fold CV is: {ridge_final_train_scores.mean()}')\n",
        "print(f'Test  RMSE for best Ridge regression model using 10 Fold CV is: {ridge_final_test_scores.mean()}')"
      ],
      "metadata": {
        "id": "Z3_j95CpBl1s",
        "colab": {
          "base_uri": "https://localhost:8080/"
        },
        "outputId": "2c8eb12e-8977-4bdd-b633-2a1b61e111fb"
      },
      "execution_count": 66,
      "outputs": [
        {
          "output_type": "stream",
          "name": "stdout",
          "text": [
            "Train RMSE for best Ridge regression model using 10 Fold CV is: -14883.39535928132\n",
            "Test  RMSE for best Ridge regression model using 10 Fold CV is: -18250.18932394625\n"
          ]
        }
      ]
    },
    {
      "cell_type": "markdown",
      "source": [
        "Lasso"
      ],
      "metadata": {
        "id": "UeXQcH-dGo0a"
      }
    },
    {
      "cell_type": "code",
      "source": [
        "#Lasso regression\n",
        "lasso= Lasso()\n",
        "param= {'alpha':[0.0001, 0.001, 0.01, 0.1, 1,5]}\n",
        "lasso_regressor= GridSearchCV(lasso, param, cv=10, return_train_score= True)\n",
        "lasso_regressor.fit(x_train, y_train)\n",
        "lasso_regressor.score(x_test, y_test)"
      ],
      "metadata": {
        "id": "4Lo0SyNoBlxn",
        "colab": {
          "base_uri": "https://localhost:8080/"
        },
        "outputId": "2bdb503c-8214-4852-f3b6-a11339cb2471"
      },
      "execution_count": 67,
      "outputs": [
        {
          "output_type": "execute_result",
          "data": {
            "text/plain": [
              "0.19021482388119926"
            ]
          },
          "metadata": {},
          "execution_count": 67
        }
      ]
    },
    {
      "cell_type": "code",
      "source": [
        "lasso_test_score_list= lasso_regressor.cv_results_[\"mean_test_score\"]\n",
        "print(f'Train score across different alpha is: {lasso_test_score_list}')\n",
        "\n",
        "lasso_train_score_list= lasso_regressor.cv_results_[\"mean_train_score\"]\n",
        "print(f'\\nTest score across different alpha is: {lasso_train_score_list}')"
      ],
      "metadata": {
        "id": "NLa8xtu6BltR",
        "colab": {
          "base_uri": "https://localhost:8080/"
        },
        "outputId": "327c2827-dcdb-4f59-d8c9-044b245a31ea"
      },
      "execution_count": 68,
      "outputs": [
        {
          "output_type": "stream",
          "name": "stdout",
          "text": [
            "Train score across different alpha is: [0.1520225  0.15203577 0.15216322 0.15272233 0.12467843 0.07417637]\n",
            "\n",
            "Test score across different alpha is: [0.22370724 0.22370718 0.22370103 0.2230965  0.18704741 0.10940858]\n"
          ]
        }
      ]
    },
    {
      "cell_type": "code",
      "source": [
        "#visualize the result:plots\n",
        "x_range= [0.0001, 0.001, 0.01, 0.1, 1,5]\n",
        "plt.plot(x_range, lasso_train_score_list, c = 'g', label = 'Train Score')\n",
        "plt.plot(x_range, lasso_test_score_list, c = 'b', label = 'Test Score')\n",
        "plt.xscale('log')\n",
        "plt.legend(loc = 3)\n",
        "plt.xlabel(r'$\\alpha$')\n",
        "plt.ylabel('Score')\n",
        "\n",
        "\n",
        "print(f'Best parameter for Lasso regression is: {lasso_regressor.best_params_}')\n",
        "print(f'Average training score for Lasso regression model using 10Fold CV is: {((lasso_regressor.cv_results_[\"mean_train_score\"]).sum())/len(x_range)}')\n",
        "print(f'Average testing score for Lasso regression model using 10Fold CV is: {((lasso_regressor.cv_results_[\"mean_test_score\"]).sum())/len(x_range)}')\n",
        "      "
      ],
      "metadata": {
        "colab": {
          "base_uri": "https://localhost:8080/",
          "height": 335
        },
        "id": "mq9YT7OlG0Sq",
        "outputId": "7183c0a5-985c-4994-f128-fcbda9904d06"
      },
      "execution_count": 69,
      "outputs": [
        {
          "output_type": "stream",
          "name": "stdout",
          "text": [
            "Best parameter for Lasso regression is: {'alpha': 0.1}\n",
            "Average training score for Lasso regression model using 10Fold CV is: 0.19844465917631227\n",
            "Average testing score for Lasso regression model using 10Fold CV is: 0.13463310229316702\n"
          ]
        },
        {
          "output_type": "display_data",
          "data": {
            "text/plain": [
              "<Figure size 432x288 with 1 Axes>"
            ],
            "image/png": "[encoded data removed]"
          },
          "metadata": {
            "needs_background": "light"
          }
        }
      ]
    },
    {
      "cell_type": "code",
      "source": [
        "#Implementing the final model with the best param with Root mean squared error(RMSE) as the scoring metrics\n",
        "lasso_final= Lasso(alpha=0.1)\n",
        "lasso_final.fit(x_train, y_train)\n",
        "lasso_final_train_scores= cross_val_score(lasso_final,x_train, y_train, cv=10, scoring= 'neg_mean_squared_error')\n",
        "lasso_final_test_scores= cross_val_score(lasso_final,x_test, y_test, cv=10, scoring= 'neg_mean_squared_error')\n",
        "print(f'Train RMSE for best Lasso regression model using 10 Fold CV is: {lasso_final_train_scores.mean()}')\n",
        "print(f'Test  RMSE for best Lasso regression model using 10 Fold CV is: {lasso_final_test_scores.mean()}')"
      ],
      "metadata": {
        "colab": {
          "base_uri": "https://localhost:8080/"
        },
        "id": "8-51YYz0G0PF",
        "outputId": "ce139251-fa15-4bda-a645-79fd68d6f150"
      },
      "execution_count": 70,
      "outputs": [
        {
          "output_type": "stream",
          "name": "stdout",
          "text": [
            "Train RMSE for best Lasso regression model using 10 Fold CV is: -14580.045660618183\n",
            "Test  RMSE for best Lasso regression model using 10 Fold CV is: -17897.28604423\n"
          ]
        }
      ]
    },
    {
      "cell_type": "code",
      "source": [],
      "metadata": {
        "id": "sphm3issG0L8"
      },
      "execution_count": null,
      "outputs": []
    },
    {
      "cell_type": "code",
      "source": [],
      "metadata": {
        "id": "My0EAQ8zG0IE"
      },
      "execution_count": null,
      "outputs": []
    }
  ]
}